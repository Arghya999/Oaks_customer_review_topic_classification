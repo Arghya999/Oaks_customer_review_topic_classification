{
 "cells": [
  {
   "cell_type": "code",
   "execution_count": 1,
   "metadata": {
    "collapsed": true
   },
   "outputs": [],
   "source": [
    "import os"
   ]
  },
  {
   "cell_type": "code",
   "execution_count": 2,
   "metadata": {
    "collapsed": false
   },
   "outputs": [
    {
     "data": {
      "text/plain": [
       "'/root/Arghya_scripts/Alenza/Alenza_nlp'"
      ]
     },
     "execution_count": 2,
     "metadata": {},
     "output_type": "execute_result"
    }
   ],
   "source": [
    "os.getcwd()"
   ]
  },
  {
   "cell_type": "code",
   "execution_count": 3,
   "metadata": {
    "collapsed": true
   },
   "outputs": [],
   "source": [
    "import pandas as pd"
   ]
  },
  {
   "cell_type": "code",
   "execution_count": 4,
   "metadata": {
    "collapsed": true
   },
   "outputs": [],
   "source": [
    "import numpy as np"
   ]
  },
  {
   "cell_type": "code",
   "execution_count": 5,
   "metadata": {
    "collapsed": true
   },
   "outputs": [],
   "source": [
    "con_bhv_df = pd.read_csv('Customer_behaviour_analysis.csv')"
   ]
  },
  {
   "cell_type": "code",
   "execution_count": 6,
   "metadata": {
    "collapsed": false
   },
   "outputs": [
    {
     "data": {
      "text/html": [
       "<div>\n",
       "<table border=\"1\" class=\"dataframe\">\n",
       "  <thead>\n",
       "    <tr style=\"text-align: right;\">\n",
       "      <th></th>\n",
       "      <th>topic</th>\n",
       "      <th>word</th>\n",
       "      <th>lifecycle</th>\n",
       "    </tr>\n",
       "  </thead>\n",
       "  <tbody>\n",
       "    <tr>\n",
       "      <th>0</th>\n",
       "      <td>Amenities</td>\n",
       "      <td>air con</td>\n",
       "      <td>stay</td>\n",
       "    </tr>\n",
       "    <tr>\n",
       "      <th>1</th>\n",
       "      <td>Amenities</td>\n",
       "      <td>air conditioner</td>\n",
       "      <td>stay</td>\n",
       "    </tr>\n",
       "    <tr>\n",
       "      <th>2</th>\n",
       "      <td>Amenities</td>\n",
       "      <td>air conditioner</td>\n",
       "      <td>before arrival</td>\n",
       "    </tr>\n",
       "    <tr>\n",
       "      <th>3</th>\n",
       "      <td>Amenities</td>\n",
       "      <td>air conditioning</td>\n",
       "      <td>stay</td>\n",
       "    </tr>\n",
       "    <tr>\n",
       "      <th>4</th>\n",
       "      <td>Amenities</td>\n",
       "      <td>airport shuttle</td>\n",
       "      <td>before arrival</td>\n",
       "    </tr>\n",
       "    <tr>\n",
       "      <th>5</th>\n",
       "      <td>Amenities</td>\n",
       "      <td>airport shuttle</td>\n",
       "      <td>stay</td>\n",
       "    </tr>\n",
       "    <tr>\n",
       "      <th>6</th>\n",
       "      <td>Amenities</td>\n",
       "      <td>balcony</td>\n",
       "      <td>stay</td>\n",
       "    </tr>\n",
       "    <tr>\n",
       "      <th>7</th>\n",
       "      <td>Amenities</td>\n",
       "      <td>bar</td>\n",
       "      <td>stay</td>\n",
       "    </tr>\n",
       "    <tr>\n",
       "      <th>8</th>\n",
       "      <td>Amenities</td>\n",
       "      <td>barbeque</td>\n",
       "      <td>stay</td>\n",
       "    </tr>\n",
       "    <tr>\n",
       "      <th>9</th>\n",
       "      <td>Amenities</td>\n",
       "      <td>bars</td>\n",
       "      <td>stay</td>\n",
       "    </tr>\n",
       "  </tbody>\n",
       "</table>\n",
       "</div>"
      ],
      "text/plain": [
       "       topic              word       lifecycle\n",
       "0  Amenities           air con            stay\n",
       "1  Amenities   air conditioner            stay\n",
       "2  Amenities   air conditioner  before arrival\n",
       "3  Amenities  air conditioning            stay\n",
       "4  Amenities   airport shuttle  before arrival\n",
       "5  Amenities   airport shuttle            stay\n",
       "6  Amenities           balcony            stay\n",
       "7  Amenities               bar            stay\n",
       "8  Amenities          barbeque            stay\n",
       "9  Amenities              bars            stay"
      ]
     },
     "execution_count": 6,
     "metadata": {},
     "output_type": "execute_result"
    }
   ],
   "source": [
    "con_bhv_df.head(10)"
   ]
  },
  {
   "cell_type": "code",
   "execution_count": 7,
   "metadata": {
    "collapsed": false
   },
   "outputs": [
    {
     "data": {
      "text/plain": [
       "(603, 3)"
      ]
     },
     "execution_count": 7,
     "metadata": {},
     "output_type": "execute_result"
    }
   ],
   "source": [
    "con_bhv_df.shape"
   ]
  },
  {
   "cell_type": "code",
   "execution_count": 8,
   "metadata": {
    "collapsed": false
   },
   "outputs": [
    {
     "data": {
      "text/plain": [
       "array(['Amenities', 'Experience', 'Location', 'Transactions', 'Value',\n",
       "       'value', 'transactions', 'location', 'experience', 'amenities'],\n",
       "      dtype=object)"
      ]
     },
     "execution_count": 8,
     "metadata": {},
     "output_type": "execute_result"
    }
   ],
   "source": [
    "con_bhv_df.topic.unique()"
   ]
  },
  {
   "cell_type": "code",
   "execution_count": 9,
   "metadata": {
    "collapsed": false,
    "scrolled": true
   },
   "outputs": [
    {
     "data": {
      "text/plain": [
       "0         Amenities\n",
       "1         Amenities\n",
       "2         Amenities\n",
       "3         Amenities\n",
       "4         Amenities\n",
       "5         Amenities\n",
       "6         Amenities\n",
       "7         Amenities\n",
       "8         Amenities\n",
       "9         Amenities\n",
       "10        Amenities\n",
       "11        Amenities\n",
       "12        Amenities\n",
       "13        Amenities\n",
       "14        Amenities\n",
       "15        Amenities\n",
       "16        Amenities\n",
       "17        Amenities\n",
       "18        Amenities\n",
       "19        Amenities\n",
       "20        Amenities\n",
       "21        Amenities\n",
       "22        Amenities\n",
       "23        Amenities\n",
       "24        Amenities\n",
       "25        Amenities\n",
       "26        Amenities\n",
       "27        Amenities\n",
       "28        Amenities\n",
       "29        Amenities\n",
       "           ...     \n",
       "573      Experience\n",
       "574       Amenities\n",
       "575      Experience\n",
       "576           Value\n",
       "577           Value\n",
       "578        Location\n",
       "579           Value\n",
       "580      Experience\n",
       "581      Experience\n",
       "582        Location\n",
       "583    Transactions\n",
       "584    Transactions\n",
       "585      Experience\n",
       "586       Amenities\n",
       "587      Experience\n",
       "588      Experience\n",
       "589      Experience\n",
       "590    Transactions\n",
       "591           Value\n",
       "592        Location\n",
       "593      Experience\n",
       "594      Experience\n",
       "595    Transactions\n",
       "596        Location\n",
       "597        Location\n",
       "598           Value\n",
       "599    Transactions\n",
       "600      Experience\n",
       "601      Experience\n",
       "602      Experience\n",
       "Name: topic, dtype: object"
      ]
     },
     "execution_count": 9,
     "metadata": {},
     "output_type": "execute_result"
    }
   ],
   "source": [
    "con_bhv_df['topic'].replace({'value': 'Value', 'transactions': 'Transactions', 'location': 'Location', 'experience': 'Experience','amenities': 'Amenities'})\n"
   ]
  },
  {
   "cell_type": "code",
   "execution_count": 10,
   "metadata": {
    "collapsed": false
   },
   "outputs": [
    {
     "data": {
      "text/plain": [
       "array(['Amenities', 'Experience', 'Location', 'Transactions', 'Value',\n",
       "       'value', 'transactions', 'location', 'experience', 'amenities'],\n",
       "      dtype=object)"
      ]
     },
     "execution_count": 10,
     "metadata": {},
     "output_type": "execute_result"
    }
   ],
   "source": [
    "con_bhv_df.topic.unique()"
   ]
  },
  {
   "cell_type": "code",
   "execution_count": 11,
   "metadata": {
    "collapsed": true
   },
   "outputs": [],
   "source": [
    "#converting small case to caps\n",
    "con_bhv_df['topic'] = con_bhv_df['topic'].replace({'value': 'Value', 'transactions': 'Transactions', 'location': 'Location', 'experience': 'Experience','amenities': 'Amenities'})\n"
   ]
  },
  {
   "cell_type": "code",
   "execution_count": 12,
   "metadata": {
    "collapsed": false
   },
   "outputs": [
    {
     "data": {
      "text/plain": [
       "array(['Amenities', 'Experience', 'Location', 'Transactions', 'Value'],\n",
       "      dtype=object)"
      ]
     },
     "execution_count": 12,
     "metadata": {},
     "output_type": "execute_result"
    }
   ],
   "source": [
    "con_bhv_df.topic.unique()"
   ]
  },
  {
   "cell_type": "code",
   "execution_count": 13,
   "metadata": {
    "collapsed": false
   },
   "outputs": [
    {
     "data": {
      "text/plain": [
       "topic        object\n",
       "word         object\n",
       "lifecycle    object\n",
       "dtype: object"
      ]
     },
     "execution_count": 13,
     "metadata": {},
     "output_type": "execute_result"
    }
   ],
   "source": [
    "con_bhv_df.dtypes"
   ]
  },
  {
   "cell_type": "code",
   "execution_count": 14,
   "metadata": {
    "collapsed": false
   },
   "outputs": [
    {
     "data": {
      "text/html": [
       "<div>\n",
       "<table border=\"1\" class=\"dataframe\">\n",
       "  <thead>\n",
       "    <tr style=\"text-align: right;\">\n",
       "      <th></th>\n",
       "      <th>topic</th>\n",
       "      <th>word</th>\n",
       "      <th>lifecycle</th>\n",
       "    </tr>\n",
       "  </thead>\n",
       "  <tbody>\n",
       "  </tbody>\n",
       "</table>\n",
       "</div>"
      ],
      "text/plain": [
       "Empty DataFrame\n",
       "Columns: [topic, word, lifecycle]\n",
       "Index: []"
      ]
     },
     "execution_count": 14,
     "metadata": {},
     "output_type": "execute_result"
    }
   ],
   "source": [
    "#checking for null values\n",
    "con_bhv_df[con_bhv_df.isnull().any(axis=1)]"
   ]
  },
  {
   "cell_type": "code",
   "execution_count": 15,
   "metadata": {
    "collapsed": false
   },
   "outputs": [
    {
     "data": {
      "text/plain": [
       "Experience      195\n",
       "Value           122\n",
       "Location        101\n",
       "Amenities       100\n",
       "Transactions     85\n",
       "Name: topic, dtype: int64"
      ]
     },
     "execution_count": 15,
     "metadata": {},
     "output_type": "execute_result"
    }
   ],
   "source": [
    "con_bhv_df[\"topic\"].value_counts()"
   ]
  },
  {
   "cell_type": "code",
   "execution_count": 16,
   "metadata": {
    "collapsed": false
   },
   "outputs": [
    {
     "data": {
      "text/html": [
       "<div>\n",
       "<table border=\"1\" class=\"dataframe\">\n",
       "  <thead>\n",
       "    <tr style=\"text-align: right;\">\n",
       "      <th></th>\n",
       "      <th>topic</th>\n",
       "      <th>word</th>\n",
       "      <th>lifecycle</th>\n",
       "    </tr>\n",
       "  </thead>\n",
       "  <tbody>\n",
       "    <tr>\n",
       "      <th>0</th>\n",
       "      <td>Amenities</td>\n",
       "      <td>air con</td>\n",
       "      <td>stay</td>\n",
       "    </tr>\n",
       "    <tr>\n",
       "      <th>1</th>\n",
       "      <td>Amenities</td>\n",
       "      <td>air conditioner</td>\n",
       "      <td>stay</td>\n",
       "    </tr>\n",
       "    <tr>\n",
       "      <th>2</th>\n",
       "      <td>Amenities</td>\n",
       "      <td>air conditioner</td>\n",
       "      <td>before arrival</td>\n",
       "    </tr>\n",
       "    <tr>\n",
       "      <th>3</th>\n",
       "      <td>Amenities</td>\n",
       "      <td>air conditioning</td>\n",
       "      <td>stay</td>\n",
       "    </tr>\n",
       "    <tr>\n",
       "      <th>4</th>\n",
       "      <td>Amenities</td>\n",
       "      <td>airport shuttle</td>\n",
       "      <td>before arrival</td>\n",
       "    </tr>\n",
       "    <tr>\n",
       "      <th>5</th>\n",
       "      <td>Amenities</td>\n",
       "      <td>airport shuttle</td>\n",
       "      <td>stay</td>\n",
       "    </tr>\n",
       "    <tr>\n",
       "      <th>6</th>\n",
       "      <td>Amenities</td>\n",
       "      <td>balcony</td>\n",
       "      <td>stay</td>\n",
       "    </tr>\n",
       "    <tr>\n",
       "      <th>7</th>\n",
       "      <td>Amenities</td>\n",
       "      <td>bar</td>\n",
       "      <td>stay</td>\n",
       "    </tr>\n",
       "    <tr>\n",
       "      <th>8</th>\n",
       "      <td>Amenities</td>\n",
       "      <td>barbeque</td>\n",
       "      <td>stay</td>\n",
       "    </tr>\n",
       "    <tr>\n",
       "      <th>9</th>\n",
       "      <td>Amenities</td>\n",
       "      <td>bars</td>\n",
       "      <td>stay</td>\n",
       "    </tr>\n",
       "  </tbody>\n",
       "</table>\n",
       "</div>"
      ],
      "text/plain": [
       "       topic              word       lifecycle\n",
       "0  Amenities           air con            stay\n",
       "1  Amenities   air conditioner            stay\n",
       "2  Amenities   air conditioner  before arrival\n",
       "3  Amenities  air conditioning            stay\n",
       "4  Amenities   airport shuttle  before arrival\n",
       "5  Amenities   airport shuttle            stay\n",
       "6  Amenities           balcony            stay\n",
       "7  Amenities               bar            stay\n",
       "8  Amenities          barbeque            stay\n",
       "9  Amenities              bars            stay"
      ]
     },
     "execution_count": 16,
     "metadata": {},
     "output_type": "execute_result"
    }
   ],
   "source": [
    "con_bhv_df.head(10)"
   ]
  },
  {
   "cell_type": "code",
   "execution_count": 17,
   "metadata": {
    "collapsed": false
   },
   "outputs": [],
   "source": [
    "con_bhv_df.to_csv(\"/root/Arghya_scripts/Alenza/Alenza_nlp/customer_BEHAVIOUR_Analysis\", sep=',', encoding='utf-8',index=False)"
   ]
  },
  {
   "cell_type": "code",
   "execution_count": 18,
   "metadata": {
    "collapsed": true
   },
   "outputs": [],
   "source": [
    "import copy"
   ]
  },
  {
   "cell_type": "code",
   "execution_count": 19,
   "metadata": {
    "collapsed": false
   },
   "outputs": [],
   "source": [
    "con_bhv_df_labelencode = copy.deepcopy(con_bhv_df)"
   ]
  },
  {
   "cell_type": "code",
   "execution_count": 20,
   "metadata": {
    "collapsed": true
   },
   "outputs": [],
   "source": [
    "from sklearn.preprocessing import LabelEncoder"
   ]
  },
  {
   "cell_type": "code",
   "execution_count": 21,
   "metadata": {
    "collapsed": false
   },
   "outputs": [
    {
     "data": {
      "text/html": [
       "<div>\n",
       "<table border=\"1\" class=\"dataframe\">\n",
       "  <thead>\n",
       "    <tr style=\"text-align: right;\">\n",
       "      <th></th>\n",
       "      <th>topic</th>\n",
       "      <th>word</th>\n",
       "      <th>lifecycle</th>\n",
       "      <th>topic_code</th>\n",
       "    </tr>\n",
       "  </thead>\n",
       "  <tbody>\n",
       "    <tr>\n",
       "      <th>0</th>\n",
       "      <td>Amenities</td>\n",
       "      <td>air con</td>\n",
       "      <td>stay</td>\n",
       "      <td>0</td>\n",
       "    </tr>\n",
       "    <tr>\n",
       "      <th>1</th>\n",
       "      <td>Amenities</td>\n",
       "      <td>air conditioner</td>\n",
       "      <td>stay</td>\n",
       "      <td>0</td>\n",
       "    </tr>\n",
       "    <tr>\n",
       "      <th>2</th>\n",
       "      <td>Amenities</td>\n",
       "      <td>air conditioner</td>\n",
       "      <td>before arrival</td>\n",
       "      <td>0</td>\n",
       "    </tr>\n",
       "    <tr>\n",
       "      <th>3</th>\n",
       "      <td>Amenities</td>\n",
       "      <td>air conditioning</td>\n",
       "      <td>stay</td>\n",
       "      <td>0</td>\n",
       "    </tr>\n",
       "    <tr>\n",
       "      <th>4</th>\n",
       "      <td>Amenities</td>\n",
       "      <td>airport shuttle</td>\n",
       "      <td>before arrival</td>\n",
       "      <td>0</td>\n",
       "    </tr>\n",
       "  </tbody>\n",
       "</table>\n",
       "</div>"
      ],
      "text/plain": [
       "       topic              word       lifecycle  topic_code\n",
       "0  Amenities           air con            stay           0\n",
       "1  Amenities   air conditioner            stay           0\n",
       "2  Amenities   air conditioner  before arrival           0\n",
       "3  Amenities  air conditioning            stay           0\n",
       "4  Amenities   airport shuttle  before arrival           0"
      ]
     },
     "execution_count": 21,
     "metadata": {},
     "output_type": "execute_result"
    }
   ],
   "source": [
    "#doing label encoding  encoding to the class labels in topic\n",
    "lb_make = LabelEncoder()\n",
    "con_bhv_df_labelencode['topic_code'] = lb_make.fit_transform(con_bhv_df_labelencode['topic'])\n",
    "\n",
    "con_bhv_df_labelencode.head()"
   ]
  },
  {
   "cell_type": "code",
   "execution_count": 22,
   "metadata": {
    "collapsed": false
   },
   "outputs": [
    {
     "data": {
      "image/png": "[encoded data removed]",
      "text/plain": [
       "<matplotlib.figure.Figure at 0x7f2b907cac50>"
      ]
     },
     "metadata": {},
     "output_type": "display_data"
    }
   ],
   "source": [
    "#checking for imbalanced classes \n",
    "import matplotlib.pyplot as plt\n",
    "%matplotlib inline \n",
    "fig = plt.figure(figsize=(8,6))\n",
    "con_bhv_df.groupby('topic').word.count().plot.bar(ylim=0)\n",
    "plt.show()"
   ]
  },
  {
   "cell_type": "code",
   "execution_count": 21,
   "metadata": {
    "collapsed": true
   },
   "outputs": [],
   "source": [
    "#there is class imbalance in our dataset which will cause majority class to be predicted more precisely(precision) and minor classes less precisely"
   ]
  },
  {
   "cell_type": "code",
   "execution_count": 22,
   "metadata": {
    "collapsed": true
   },
   "outputs": [],
   "source": [
    "# for extracting features from text i use the bag of words model: a model where for each document,\n",
    "# words in our case, the presence (and often the frequency) \n",
    "# of words is taken into consideration, but the order in which they occur is ignored"
   ]
  },
  {
   "cell_type": "code",
   "execution_count": 23,
   "metadata": {
    "collapsed": true
   },
   "outputs": [],
   "source": [
    "# Specifically, for each term in our dataset, we will calculate a measure called Term Frequency,\n",
    "# Inverse Document Frequency, abbreviated to tf-idf. We will use sklearn.feature_extraction.text.TfidfVectorizer\n",
    "# to calculate a tf-idf vector for each of consumer complaint narratives:"
   ]
  },
  {
   "cell_type": "code",
   "execution_count": null,
   "metadata": {
    "collapsed": true
   },
   "outputs": [],
   "source": [
    "# near_df is set to True to use a logarithmic form for frequency.\n",
    "# min_df is the minimum numbers of documents a word must be present in to be kept.\n",
    "# norm is set to 5, to ensure all our feature vectors have a euclidian norm of 1.\n",
    "# ngram_range is set to (1, 2,3,4) to indicate that we want to consider unigrams,bigrams,trigrams and quadgrams."
   ]
  },
  {
   "cell_type": "code",
   "execution_count": 23,
   "metadata": {
    "collapsed": true
   },
   "outputs": [],
   "source": [
    "import copy"
   ]
  },
  {
   "cell_type": "code",
   "execution_count": 24,
   "metadata": {
    "collapsed": false
   },
   "outputs": [
    {
     "name": "stderr",
     "output_type": "stream",
     "text": [
      "/root/anaconda3/lib/python3.5/site-packages/sklearn/feature_extraction/text.py:1059: FutureWarning: Conversion of the second argument of issubdtype from `float` to `np.floating` is deprecated. In future, it will be treated as `np.float64 == np.dtype(float).type`.\n",
      "  if hasattr(X, 'dtype') and np.issubdtype(X.dtype, np.float):\n"
     ]
    },
    {
     "data": {
      "text/plain": [
       "(603, 137)"
      ]
     },
     "execution_count": 24,
     "metadata": {},
     "output_type": "execute_result"
    }
   ],
   "source": [
    "from sklearn.feature_extraction.text import TfidfVectorizer\n",
    "tfidf = TfidfVectorizer(sublinear_tf=True, min_df=3, norm='l2', encoding='latin-1', ngram_range=(1,4))\n",
    "features = tfidf.fit_transform(con_bhv_df_labelencode.word).toarray()\n",
    "labels = con_bhv_df_labelencode.topic_code\n",
    "features.shape"
   ]
  },
  {
   "cell_type": "code",
   "execution_count": 30,
   "metadata": {
    "collapsed": true
   },
   "outputs": [],
   "source": [
    "#each of 603 consumer word is represented by 134 features representing the tf-idf score for different unigrams and bigrams"
   ]
  },
  {
   "cell_type": "code",
   "execution_count": 31,
   "metadata": {
    "collapsed": true
   },
   "outputs": [],
   "source": [
    "# We can use sklearn.feature_selection.chi2 to find the words that are the most correlated with each of the topics:"
   ]
  },
  {
   "cell_type": "code",
   "execution_count": 25,
   "metadata": {
    "collapsed": true
   },
   "outputs": [],
   "source": [
    "category_id_df = con_bhv_df_labelencode[['topic', 'topic_code']].sort_values('topic_code')\n",
    "category_to_id = dict(category_id_df.values)\n",
    "id_to_category = dict(category_id_df[['topic_code', 'topic']].values)"
   ]
  },
  {
   "cell_type": "code",
   "execution_count": 26,
   "metadata": {
    "collapsed": false
   },
   "outputs": [
    {
     "name": "stdout",
     "output_type": "stream",
     "text": [
      "# 'Amenities':\n",
      "  . Most correlated unigrams:\n",
      ". shuttle\n",
      ". pool\n",
      "  . Most correlated bigrams:\n",
      ". wi fi\n",
      ". washing machine\n",
      "# 'Experience':\n",
      "  . Most correlated unigrams:\n",
      ". view\n",
      ". not\n",
      "  . Most correlated bigrams:\n",
      ". great staff\n",
      ". staff friendly\n",
      "# 'Location':\n",
      "  . Most correlated unigrams:\n",
      ". close\n",
      ". location\n",
      "  . Most correlated bigrams:\n",
      ". location good\n",
      ". great location\n",
      "# 'Transactions':\n",
      "  . Most correlated unigrams:\n",
      ". desk\n",
      ". check\n",
      "  . Most correlated bigrams:\n",
      ". desk staff\n",
      ". front desk\n",
      "# 'Value':\n",
      "  . Most correlated unigrams:\n",
      ". money\n",
      ". value\n",
      "  . Most correlated bigrams:\n",
      ". great location\n",
      ". value money\n"
     ]
    }
   ],
   "source": [
    "from sklearn.feature_selection import chi2\n",
    "N = 2\n",
    "for topic, topic_code in sorted(category_to_id.items()):\n",
    "  features_chi2 = chi2(features, labels == topic_code)\n",
    "  indices = np.argsort(features_chi2[0])\n",
    "  feature_names = np.array(tfidf.get_feature_names())[indices]\n",
    "  unigrams = [v for v in feature_names if len(v.split(' ')) == 1]\n",
    "  bigrams = [v for v in feature_names if len(v.split(' ')) == 2]\n",
    "  print(\"# '{}':\".format(topic))\n",
    "  print(\"  . Most correlated unigrams:\\n. {}\".format('\\n. '.join(unigrams[-N:])))\n",
    "  print(\"  . Most correlated bigrams:\\n. {}\".format('\\n. '.join(bigrams[-N:])))"
   ]
  },
  {
   "cell_type": "code",
   "execution_count": null,
   "metadata": {
    "collapsed": true
   },
   "outputs": [],
   "source": [
    "# To train supervised classifiers,I've first transformed \"word” into a vector of numbers.\n",
    "# Explored vector representations such as TF-IDF weighted vectors.\n",
    "# After having this vector representations of the text \n",
    "# we need to train supervised classifiers to train unseen “word” and predict the “topic” on which they fall.\n",
    "# After all the above data transformation,\n",
    "# now that i have all the features and labels, it is time to train the classifiers."
   ]
  },
  {
   "cell_type": "code",
   "execution_count": 27,
   "metadata": {
    "collapsed": true
   },
   "outputs": [],
   "source": [
    "#Naive Bayes Classifier\n",
    "from sklearn.model_selection import train_test_split\n",
    "from sklearn.feature_extraction.text import CountVectorizer\n",
    "from sklearn.feature_extraction.text import TfidfTransformer\n",
    "from sklearn.naive_bayes import MultinomialNB"
   ]
  },
  {
   "cell_type": "code",
   "execution_count": 28,
   "metadata": {
    "collapsed": false
   },
   "outputs": [
    {
     "data": {
      "text/plain": [
       "topic         object\n",
       "word          object\n",
       "lifecycle     object\n",
       "topic_code     int64\n",
       "dtype: object"
      ]
     },
     "execution_count": 28,
     "metadata": {},
     "output_type": "execute_result"
    }
   ],
   "source": [
    "con_bhv_df_labelencode.dtypes"
   ]
  },
  {
   "cell_type": "code",
   "execution_count": 29,
   "metadata": {
    "collapsed": true
   },
   "outputs": [],
   "source": [
    "con_df = con_bhv_df_labelencode[['word','topic_code']].copy()"
   ]
  },
  {
   "cell_type": "code",
   "execution_count": 30,
   "metadata": {
    "collapsed": true
   },
   "outputs": [],
   "source": [
    "#Extracting features from text, define target y and data X\n",
    "count_vect = CountVectorizer()\n",
    "X = count_vect.fit_transform(con_df['word'])\n",
    "y = con_df['topic_code']"
   ]
  },
  {
   "cell_type": "code",
   "execution_count": 31,
   "metadata": {
    "collapsed": true
   },
   "outputs": [],
   "source": [
    "#Partitioning the data into test and training set\n",
    "SPLIT_PERC = 0.75\n",
    "split_size = int(len(y)*SPLIT_PERC)\n",
    "X_train = X[:split_size]\n",
    "X_test = X[split_size:]\n",
    "y_train = y[:split_size]\n",
    "y_test = y[split_size:]"
   ]
  },
  {
   "cell_type": "code",
   "execution_count": 32,
   "metadata": {
    "collapsed": false
   },
   "outputs": [
    {
     "data": {
      "text/plain": [
       "MultinomialNB(alpha=1.0, class_prior=None, fit_prior=True)"
      ]
     },
     "execution_count": 32,
     "metadata": {},
     "output_type": "execute_result"
    }
   ],
   "source": [
    "#Training the model\n",
    "clf = MultinomialNB()\n",
    "clf.fit(X_train, y_train)"
   ]
  },
  {
   "cell_type": "code",
   "execution_count": 34,
   "metadata": {
    "collapsed": true
   },
   "outputs": [],
   "source": [
    "from sklearn import metrics"
   ]
  },
  {
   "cell_type": "code",
   "execution_count": 35,
   "metadata": {
    "collapsed": false
   },
   "outputs": [
    {
     "name": "stdout",
     "output_type": "stream",
     "text": [
      "Accuracy on training set:\n",
      "0.8849557522123894\n",
      "Accuracy on testing set:\n",
      "0.4768211920529801\n",
      "Classification Report:\n",
      "             precision    recall  f1-score   support\n",
      "\n",
      "          0       0.43      0.27      0.33        11\n",
      "          1       0.40      0.96      0.57        49\n",
      "          2       0.79      0.62      0.70        24\n",
      "          3       1.00      0.29      0.45        17\n",
      "          4       0.67      0.04      0.08        50\n",
      "\n",
      "avg / total       0.62      0.48      0.40       151\n",
      "\n"
     ]
    }
   ],
   "source": [
    "#Evaluating the results\n",
    "print(\"Accuracy on training set:\")\n",
    "print(clf.score(X_train, y_train))\n",
    "print(\"Accuracy on testing set:\")\n",
    "print(clf.score(X_test, y_test))\n",
    "y_pred = clf.predict(X_test)\n",
    "print(\"Classification Report:\")\n",
    "print(metrics.classification_report(y_test, y_pred))"
   ]
  },
  {
   "cell_type": "code",
   "execution_count": 37,
   "metadata": {
    "collapsed": true
   },
   "outputs": [],
   "source": [
    "from sklearn.svm import LinearSVC, SVC"
   ]
  },
  {
   "cell_type": "code",
   "execution_count": 38,
   "metadata": {
    "collapsed": false
   },
   "outputs": [
    {
     "data": {
      "text/plain": [
       "LinearSVC(C=1.0, class_weight=None, dual=True, fit_intercept=True,\n",
       "     intercept_scaling=1, loss='squared_hinge', max_iter=1000,\n",
       "     multi_class='ovr', penalty='l2', random_state=None, tol=0.0001,\n",
       "     verbose=0)"
      ]
     },
     "execution_count": 38,
     "metadata": {},
     "output_type": "execute_result"
    }
   ],
   "source": [
    "#Training the model\n",
    "model = LinearSVC()\n",
    "model.fit(X_train, y_train)"
   ]
  },
  {
   "cell_type": "code",
   "execution_count": 39,
   "metadata": {
    "collapsed": false
   },
   "outputs": [
    {
     "name": "stdout",
     "output_type": "stream",
     "text": [
      "Accuracy on training set:\n",
      "0.9469026548672567\n",
      "Accuracy on testing set:\n",
      "0.3973509933774834\n",
      "Classification Report:\n",
      "             precision    recall  f1-score   support\n",
      "\n",
      "          0       0.08      0.45      0.14        11\n",
      "          1       0.56      0.67      0.61        49\n",
      "          2       0.80      0.67      0.73        24\n",
      "          3       0.67      0.24      0.35        17\n",
      "          4       0.40      0.04      0.07        50\n",
      "\n",
      "avg / total       0.52      0.40      0.39       151\n",
      "\n"
     ]
    }
   ],
   "source": [
    "#Evaluating the results\n",
    "print(\"Accuracy on training set:\")\n",
    "print(model.score(X_train, y_train))\n",
    "print(\"Accuracy on testing set:\")\n",
    "print(model.score(X_test, y_test))\n",
    "y_pred = model.predict(X_test)\n",
    "print(\"Classification Report:\")\n",
    "print(metrics.classification_report(y_test, y_pred))"
   ]
  },
  {
   "cell_type": "code",
   "execution_count": 40,
   "metadata": {
    "collapsed": false
   },
   "outputs": [
    {
     "name": "stdout",
     "output_type": "stream",
     "text": [
      "Libraries Imported\n"
     ]
    }
   ],
   "source": [
    "from sklearn.ensemble import RandomForestClassifier\n",
    "from sklearn.metrics import confusion_matrix\n",
    "from sklearn.externals import joblib\n",
    "print('Libraries Imported')"
   ]
  },
  {
   "cell_type": "code",
   "execution_count": 41,
   "metadata": {
    "collapsed": false
   },
   "outputs": [
    {
     "data": {
      "text/plain": [
       "RandomForestClassifier(bootstrap=True, class_weight=None, criterion='entropy',\n",
       "            max_depth=None, max_features='auto', max_leaf_nodes=None,\n",
       "            min_impurity_split=1e-07, min_samples_leaf=1,\n",
       "            min_samples_split=2, min_weight_fraction_leaf=0.0,\n",
       "            n_estimators=10, n_jobs=1, oob_score=False, random_state=42,\n",
       "            verbose=0, warm_start=False)"
      ]
     },
     "execution_count": 41,
     "metadata": {},
     "output_type": "execute_result"
    }
   ],
   "source": [
    "# Fitting Random Forest Classification to the Training set\n",
    "classifier = RandomForestClassifier(n_estimators = 10, criterion = 'entropy', random_state = 42)\n",
    "classifier.fit(X_train, y_train)"
   ]
  },
  {
   "cell_type": "code",
   "execution_count": 43,
   "metadata": {
    "collapsed": false,
    "scrolled": true
   },
   "outputs": [
    {
     "name": "stdout",
     "output_type": "stream",
     "text": [
      "Accuracy on training set:\n",
      "0.9557522123893806\n",
      "Accuracy on testing set:\n",
      "0.33112582781456956\n",
      "Classification Report:\n",
      "             precision    recall  f1-score   support\n",
      "\n",
      "          0       0.09      0.73      0.15        11\n",
      "          1       0.84      0.53      0.65        49\n",
      "          2       0.92      0.46      0.61        24\n",
      "          3       0.00      0.00      0.00        17\n",
      "          4       0.50      0.10      0.17        50\n",
      "\n",
      "avg / total       0.59      0.33      0.37       151\n",
      "\n"
     ]
    }
   ],
   "source": [
    "#Evaluating the results\n",
    "print(\"Accuracy on training set:\")\n",
    "print(classifier.score(X_train, y_train))\n",
    "print(\"Accuracy on testing set:\")\n",
    "print(classifier.score(X_test, y_test))\n",
    "y_pred = classifier.predict(X_test)\n",
    "print(\"Classification Report:\")\n",
    "print(metrics.classification_report(y_test, y_pred))"
   ]
  },
  {
   "cell_type": "code",
   "execution_count": null,
   "metadata": {
    "collapsed": true
   },
   "outputs": [],
   "source": [
    "#clearly models are overfitting  x"
   ]
  },
  {
   "cell_type": "code",
   "execution_count": null,
   "metadata": {
    "collapsed": true
   },
   "outputs": [],
   "source": [
    "#tryin out "
   ]
  },
  {
   "cell_type": "code",
   "execution_count": 44,
   "metadata": {
    "collapsed": false
   },
   "outputs": [
    {
     "name": "stderr",
     "output_type": "stream",
     "text": [
      "/root/anaconda3/lib/python3.5/site-packages/sklearn/cross_validation.py:44: DeprecationWarning: This module was deprecated in version 0.18 in favor of the model_selection module into which all the refactored classes and functions are moved. Also note that the interface of the new CV iterators are different from that of this module. This module will be removed in 0.20.\n",
      "  \"This module will be removed in 0.20.\", DeprecationWarning)\n"
     ]
    }
   ],
   "source": [
    "from __future__ import division\n",
    "from gensim.models.doc2vec import LabeledSentence\n",
    "from gensim.models import Doc2Vec\n",
    "from random import shuffle\n",
    "from sklearn.cross_validation import train_test_split\n",
    "import nltk\n",
    "import numpy as np"
   ]
  },
  {
   "cell_type": "code",
   "execution_count": null,
   "metadata": {
    "collapsed": true
   },
   "outputs": [],
   "source": [
    "# read input data"
   ]
  },
  {
   "cell_type": "code",
   "execution_count": 45,
   "metadata": {
    "collapsed": false
   },
   "outputs": [
    {
     "data": {
      "text/plain": [
       "topic         object\n",
       "word          object\n",
       "lifecycle     object\n",
       "topic_code     int64\n",
       "dtype: object"
      ]
     },
     "execution_count": 45,
     "metadata": {},
     "output_type": "execute_result"
    }
   ],
   "source": [
    "con_bhv_df_labelencode.dtypes"
   ]
  },
  {
   "cell_type": "code",
   "execution_count": 47,
   "metadata": {
    "collapsed": false
   },
   "outputs": [
    {
     "data": {
      "text/plain": [
       "(603, 4)"
      ]
     },
     "execution_count": 47,
     "metadata": {},
     "output_type": "execute_result"
    }
   ],
   "source": [
    "con_bhv_df_labelencode.shape"
   ]
  },
  {
   "cell_type": "code",
   "execution_count": 1,
   "metadata": {
    "collapsed": false
   },
   "outputs": [
    {
     "ename": "NameError",
     "evalue": "name 'os' is not defined",
     "output_type": "error",
     "traceback": [
      "\u001b[1;31m\u001b[0m",
      "\u001b[1;31mNameError\u001b[0mTraceback (most recent call last)",
      "\u001b[1;32m<ipython-input-1-19d5095bb6ff>\u001b[0m in \u001b[0;36m<module>\u001b[1;34m()\u001b[0m\n\u001b[1;32m----> 1\u001b[1;33m \u001b[0mos\u001b[0m\u001b[1;33m.\u001b[0m\u001b[0mgetcwd\u001b[0m\u001b[1;33m(\u001b[0m\u001b[1;33m)\u001b[0m\u001b[1;33m\u001b[0m\u001b[0m\n\u001b[0m",
      "\u001b[1;31mNameError\u001b[0m: name 'os' is not defined"
     ]
    }
   ],
   "source": [
    "os.getcwd()"
   ]
  },
  {
   "cell_type": "code",
   "execution_count": null,
   "metadata": {
    "collapsed": true
   },
   "outputs": [],
   "source": [
    "orig_sents = []\n",
    "sentences = []\n",
    "fdata = open(\"/root/Arghya_scripts/Alenza/Alenza_nlp/tagged_plots.csv\", 'rb')\n",
    "for line in fdata:\n",
    "    mid, text, label = line.strip().split(\"\\t\")\n",
    "    orig_sents.append(text)\n",
    "    tokens = tokenize_text(text)\n",
    "    tags = tokenize_tags(label)\n",
    "    sentences.append(LabeledSentence(words=tokens, tags=tags))\n",
    "fdata.close()"
   ]
  },
  {
   "cell_type": "code",
   "execution_count": null,
   "metadata": {
    "collapsed": true
   },
   "outputs": [],
   "source": [
    "#trying out word embedding using word2vec"
   ]
  }
 ],
 "metadata": {
  "anaconda-cloud": {},
  "kernelspec": {
   "display_name": "Python [Root]",
   "language": "python",
   "name": "Python [Root]"
  },
  "language_info": {
   "codemirror_mode": {
    "name": "ipython",
    "version": 3
   },
   "file_extension": ".py",
   "mimetype": "text/x-python",
   "name": "python",
   "nbconvert_exporter": "python",
   "pygments_lexer": "ipython3",
   "version": "3.5.2"
  }
 },
 "nbformat": 4,
 "nbformat_minor": 0
}
