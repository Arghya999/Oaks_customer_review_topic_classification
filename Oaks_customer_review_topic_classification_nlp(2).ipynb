{
 "cells": [
  {
   "cell_type": "code",
   "execution_count": 1,
   "metadata": {
    "collapsed": true
   },
   "outputs": [],
   "source": [
    "# more common imports\n",
    "import pandas as pd\n",
    "import numpy as np\n",
    "from collections import Counter\n",
    "import re\n",
    "\n",
    "# languange processing imports\n",
    "import nltk\n",
    "from gensim.corpora import Dictionary\n",
    "# preprocessing imports\n",
    "from sklearn.preprocessing import LabelEncoder\n",
    "\n",
    "# model imports\n",
    "from gensim.models.ldamulticore import LdaMulticore\n",
    "from gensim.models.word2vec import Word2Vec\n",
    "from sklearn.ensemble import RandomForestClassifier, AdaBoostClassifier\n",
    "from sklearn.linear_model import LogisticRegression\n",
    "# hyperparameter training imports\n",
    "from sklearn.model_selection import GridSearchCV\n",
    "\n",
    "# visualization imports\n",
    "from IPython.display import display\n",
    "import seaborn as sns\n",
    "import matplotlib.pyplot as plt\n",
    "import matplotlib.image as mpimg\n",
    "import base64\n",
    "import io\n",
    "%matplotlib inline\n",
    "sns.set()  # defines the style of the plots to be seaborn style"
   ]
  },
  {
   "cell_type": "code",
   "execution_count": 2,
   "metadata": {
    "collapsed": true
   },
   "outputs": [],
   "source": [
    "import os"
   ]
  },
  {
   "cell_type": "code",
   "execution_count": 3,
   "metadata": {
    "collapsed": false
   },
   "outputs": [
    {
     "data": {
      "text/plain": [
       "'/root/Arghya_scripts/Alenza/Alenza_nlp'"
      ]
     },
     "execution_count": 3,
     "metadata": {},
     "output_type": "execute_result"
    }
   ],
   "source": [
    "os.getcwd()"
   ]
  },
  {
   "cell_type": "code",
   "execution_count": 4,
   "metadata": {
    "collapsed": true
   },
   "outputs": [],
   "source": [
    "con_bhv_df = pd.read_csv('Customer_behaviour_analysis.csv')"
   ]
  },
  {
   "cell_type": "code",
   "execution_count": 5,
   "metadata": {
    "collapsed": false
   },
   "outputs": [
    {
     "data": {
      "text/plain": [
       "(603, 3)"
      ]
     },
     "execution_count": 5,
     "metadata": {},
     "output_type": "execute_result"
    }
   ],
   "source": [
    "con_bhv_df.shape"
   ]
  },
  {
   "cell_type": "code",
   "execution_count": 6,
   "metadata": {
    "collapsed": false
   },
   "outputs": [
    {
     "data": {
      "text/html": [
       "<div>\n",
       "<table border=\"1\" class=\"dataframe\">\n",
       "  <thead>\n",
       "    <tr style=\"text-align: right;\">\n",
       "      <th></th>\n",
       "      <th>topic</th>\n",
       "      <th>word</th>\n",
       "      <th>lifecycle</th>\n",
       "    </tr>\n",
       "  </thead>\n",
       "  <tbody>\n",
       "    <tr>\n",
       "      <th>0</th>\n",
       "      <td>Amenities</td>\n",
       "      <td>air con</td>\n",
       "      <td>stay</td>\n",
       "    </tr>\n",
       "    <tr>\n",
       "      <th>1</th>\n",
       "      <td>Amenities</td>\n",
       "      <td>air conditioner</td>\n",
       "      <td>stay</td>\n",
       "    </tr>\n",
       "    <tr>\n",
       "      <th>2</th>\n",
       "      <td>Amenities</td>\n",
       "      <td>air conditioner</td>\n",
       "      <td>before arrival</td>\n",
       "    </tr>\n",
       "    <tr>\n",
       "      <th>3</th>\n",
       "      <td>Amenities</td>\n",
       "      <td>air conditioning</td>\n",
       "      <td>stay</td>\n",
       "    </tr>\n",
       "    <tr>\n",
       "      <th>4</th>\n",
       "      <td>Amenities</td>\n",
       "      <td>airport shuttle</td>\n",
       "      <td>before arrival</td>\n",
       "    </tr>\n",
       "    <tr>\n",
       "      <th>5</th>\n",
       "      <td>Amenities</td>\n",
       "      <td>airport shuttle</td>\n",
       "      <td>stay</td>\n",
       "    </tr>\n",
       "    <tr>\n",
       "      <th>6</th>\n",
       "      <td>Amenities</td>\n",
       "      <td>balcony</td>\n",
       "      <td>stay</td>\n",
       "    </tr>\n",
       "    <tr>\n",
       "      <th>7</th>\n",
       "      <td>Amenities</td>\n",
       "      <td>bar</td>\n",
       "      <td>stay</td>\n",
       "    </tr>\n",
       "    <tr>\n",
       "      <th>8</th>\n",
       "      <td>Amenities</td>\n",
       "      <td>barbeque</td>\n",
       "      <td>stay</td>\n",
       "    </tr>\n",
       "    <tr>\n",
       "      <th>9</th>\n",
       "      <td>Amenities</td>\n",
       "      <td>bars</td>\n",
       "      <td>stay</td>\n",
       "    </tr>\n",
       "  </tbody>\n",
       "</table>\n",
       "</div>"
      ],
      "text/plain": [
       "       topic              word       lifecycle\n",
       "0  Amenities           air con            stay\n",
       "1  Amenities   air conditioner            stay\n",
       "2  Amenities   air conditioner  before arrival\n",
       "3  Amenities  air conditioning            stay\n",
       "4  Amenities   airport shuttle  before arrival\n",
       "5  Amenities   airport shuttle            stay\n",
       "6  Amenities           balcony            stay\n",
       "7  Amenities               bar            stay\n",
       "8  Amenities          barbeque            stay\n",
       "9  Amenities              bars            stay"
      ]
     },
     "execution_count": 6,
     "metadata": {},
     "output_type": "execute_result"
    }
   ],
   "source": [
    "con_bhv_df.head(10)"
   ]
  },
  {
   "cell_type": "code",
   "execution_count": 7,
   "metadata": {
    "collapsed": true
   },
   "outputs": [],
   "source": [
    "import copy"
   ]
  },
  {
   "cell_type": "code",
   "execution_count": 8,
   "metadata": {
    "collapsed": false
   },
   "outputs": [
    {
     "data": {
      "text/plain": [
       "Index(['Experience', 'Amenities', 'experience', 'Location', 'Value',\n",
       "       'Transactions', 'value', 'location', 'transactions', 'amenities'],\n",
       "      dtype='object')"
      ]
     },
     "execution_count": 8,
     "metadata": {},
     "output_type": "execute_result"
    }
   ],
   "source": [
    "## check if we indeed have three topics\n",
    "con_bhv_df.topic.value_counts().index"
   ]
  },
  {
   "cell_type": "code",
   "execution_count": 9,
   "metadata": {
    "collapsed": false,
    "scrolled": true
   },
   "outputs": [],
   "source": [
    "#making topic classes case uniform\n",
    "#converting small case to caps\n",
    "con_bhv_df['topic'] = con_bhv_df['topic'].replace({'value': 'Value', 'transactions': 'Transactions', 'location': 'Location', 'experience': 'Experience','amenities': 'Amenities'})\n",
    "\n"
   ]
  },
  {
   "cell_type": "code",
   "execution_count": 10,
   "metadata": {
    "collapsed": false
   },
   "outputs": [
    {
     "data": {
      "text/plain": [
       "Index(['Experience', 'Value', 'Location', 'Amenities', 'Transactions'], dtype='object')"
      ]
     },
     "execution_count": 10,
     "metadata": {},
     "output_type": "execute_result"
    }
   ],
   "source": [
    "#recheck\n",
    "## check if we indeed have three topics\n",
    "con_bhv_df.topic.value_counts().index"
   ]
  },
  {
   "cell_type": "code",
   "execution_count": 12,
   "metadata": {
    "collapsed": true
   },
   "outputs": [],
   "source": [
    "input_df_oaks_rev = copy.deepcopy(con_bhv_df)"
   ]
  },
  {
   "cell_type": "code",
   "execution_count": 13,
   "metadata": {
    "collapsed": false
   },
   "outputs": [
    {
     "data": {
      "text/html": [
       "<div>\n",
       "<table border=\"1\" class=\"dataframe\">\n",
       "  <thead>\n",
       "    <tr style=\"text-align: right;\">\n",
       "      <th></th>\n",
       "      <th>topic</th>\n",
       "      <th>word</th>\n",
       "      <th>lifecycle</th>\n",
       "    </tr>\n",
       "  </thead>\n",
       "  <tbody>\n",
       "    <tr>\n",
       "      <th>546</th>\n",
       "      <td>Experience</td>\n",
       "      <td>air</td>\n",
       "      <td>check-in</td>\n",
       "    </tr>\n",
       "  </tbody>\n",
       "</table>\n",
       "</div>"
      ],
      "text/plain": [
       "          topic word lifecycle\n",
       "546  Experience  air  check-in"
      ]
     },
     "execution_count": 13,
     "metadata": {},
     "output_type": "execute_result"
    }
   ],
   "source": [
    "\n",
    "con_bhv_df.loc[(con_bhv_df['topic'] == \"Experience\") & (con_bhv_df['word'] == \"air\") & (con_bhv_df['lifecycle'] == \"check-in\")]"
   ]
  },
  {
   "cell_type": "code",
   "execution_count": 8,
   "metadata": {
    "collapsed": true
   },
   "outputs": [],
   "source": [
    "#function to shuffle the dagtaframe"
   ]
  },
  {
   "cell_type": "code",
   "execution_count": 14,
   "metadata": {
    "collapsed": false
   },
   "outputs": [],
   "source": [
    "input_df_oaks_rev_shuffled = input_df_oaks_rev.iloc[np.random.permutation(len(input_df_oaks_rev))]"
   ]
  },
  {
   "cell_type": "code",
   "execution_count": 15,
   "metadata": {
    "collapsed": false
   },
   "outputs": [
    {
     "data": {
      "text/html": [
       "<div>\n",
       "<table border=\"1\" class=\"dataframe\">\n",
       "  <thead>\n",
       "    <tr style=\"text-align: right;\">\n",
       "      <th></th>\n",
       "      <th>topic</th>\n",
       "      <th>word</th>\n",
       "      <th>lifecycle</th>\n",
       "    </tr>\n",
       "  </thead>\n",
       "  <tbody>\n",
       "    <tr>\n",
       "      <th>220</th>\n",
       "      <td>Transactions</td>\n",
       "      <td>front desk</td>\n",
       "      <td>check-in</td>\n",
       "    </tr>\n",
       "    <tr>\n",
       "      <th>584</th>\n",
       "      <td>Transactions</td>\n",
       "      <td>early</td>\n",
       "      <td>before arrival</td>\n",
       "    </tr>\n",
       "    <tr>\n",
       "      <th>583</th>\n",
       "      <td>Transactions</td>\n",
       "      <td>early</td>\n",
       "      <td>check-in</td>\n",
       "    </tr>\n",
       "    <tr>\n",
       "      <th>155</th>\n",
       "      <td>Location</td>\n",
       "      <td>easy walking</td>\n",
       "      <td>stay</td>\n",
       "    </tr>\n",
       "    <tr>\n",
       "      <th>120</th>\n",
       "      <td>Experience</td>\n",
       "      <td>love</td>\n",
       "      <td>check-out</td>\n",
       "    </tr>\n",
       "    <tr>\n",
       "      <th>497</th>\n",
       "      <td>Transactions</td>\n",
       "      <td>available</td>\n",
       "      <td>before arrival</td>\n",
       "    </tr>\n",
       "    <tr>\n",
       "      <th>158</th>\n",
       "      <td>Location</td>\n",
       "      <td>good location</td>\n",
       "      <td>stay</td>\n",
       "    </tr>\n",
       "    <tr>\n",
       "      <th>269</th>\n",
       "      <td>Location</td>\n",
       "      <td>great location</td>\n",
       "      <td>before arrival</td>\n",
       "    </tr>\n",
       "    <tr>\n",
       "      <th>287</th>\n",
       "      <td>Value</td>\n",
       "      <td>apartment</td>\n",
       "      <td>before arrival</td>\n",
       "    </tr>\n",
       "    <tr>\n",
       "      <th>427</th>\n",
       "      <td>Experience</td>\n",
       "      <td>would stay</td>\n",
       "      <td>check-out</td>\n",
       "    </tr>\n",
       "  </tbody>\n",
       "</table>\n",
       "</div>"
      ],
      "text/plain": [
       "            topic            word       lifecycle\n",
       "220  Transactions      front desk        check-in\n",
       "584  Transactions           early  before arrival\n",
       "583  Transactions           early        check-in\n",
       "155      Location    easy walking            stay\n",
       "120    Experience            love       check-out\n",
       "497  Transactions       available  before arrival\n",
       "158      Location   good location            stay\n",
       "269      Location  great location  before arrival\n",
       "287         Value       apartment  before arrival\n",
       "427    Experience      would stay       check-out"
      ]
     },
     "execution_count": 15,
     "metadata": {},
     "output_type": "execute_result"
    }
   ],
   "source": [
    "input_df_oaks_rev_shuffled.head(10)"
   ]
  },
  {
   "cell_type": "code",
   "execution_count": 30,
   "metadata": {
    "collapsed": true
   },
   "outputs": [],
   "source": [
    "#spilt the dataset into train and test dataframes(sets)"
   ]
  },
  {
   "cell_type": "code",
   "execution_count": 16,
   "metadata": {
    "collapsed": true
   },
   "outputs": [],
   "source": [
    "from sklearn.model_selection import train_test_split\n",
    "\n",
    "oaks_rev_train_df,oaks_rev_test_df = train_test_split(input_df_oaks_rev_shuffled, test_size=0.2)"
   ]
  },
  {
   "cell_type": "code",
   "execution_count": 17,
   "metadata": {
    "collapsed": false
   },
   "outputs": [
    {
     "data": {
      "text/plain": [
       "(482, 3)"
      ]
     },
     "execution_count": 17,
     "metadata": {},
     "output_type": "execute_result"
    }
   ],
   "source": [
    "oaks_rev_train_df.shape"
   ]
  },
  {
   "cell_type": "code",
   "execution_count": 18,
   "metadata": {
    "collapsed": false
   },
   "outputs": [
    {
     "data": {
      "text/plain": [
       "(121, 3)"
      ]
     },
     "execution_count": 18,
     "metadata": {},
     "output_type": "execute_result"
    }
   ],
   "source": [
    "oaks_rev_test_df.shape"
   ]
  },
  {
   "cell_type": "code",
   "execution_count": null,
   "metadata": {
    "collapsed": true
   },
   "outputs": [],
   "source": [
    "#feature inspection(exploring the data)"
   ]
  },
  {
   "cell_type": "code",
   "execution_count": 19,
   "metadata": {
    "collapsed": false
   },
   "outputs": [
    {
     "data": {
      "text/plain": [
       "topic        0\n",
       "word         0\n",
       "lifecycle    0\n",
       "dtype: int64"
      ]
     },
     "execution_count": 19,
     "metadata": {},
     "output_type": "execute_result"
    }
   ],
   "source": [
    "# check if there's missing data\n",
    "oaks_rev_train_df.isnull().sum()"
   ]
  },
  {
   "cell_type": "code",
   "execution_count": 20,
   "metadata": {
    "collapsed": false
   },
   "outputs": [
    {
     "data": {
      "text/plain": [
       "Index(['Experience', 'Value', 'Amenities', 'Location', 'Transactions'], dtype='object')"
      ]
     },
     "execution_count": 20,
     "metadata": {},
     "output_type": "execute_result"
    }
   ],
   "source": [
    "# check if we indeed have five topics\n",
    "oaks_rev_train_df.topic.value_counts().index"
   ]
  },
  {
   "cell_type": "code",
   "execution_count": 21,
   "metadata": {
    "collapsed": false
   },
   "outputs": [
    {
     "data": {
      "image/png": "[encoded data removed]",
      "text/plain": [
       "<matplotlib.figure.Figure at 0x7fafa2b4c278>"
      ]
     },
     "metadata": {},
     "output_type": "display_data"
    }
   ],
   "source": [
    "fig, ax = plt.subplots(1,1,figsize=(8,6))\n",
    "\n",
    "topic_vc = oaks_rev_train_df.topic.value_counts()\n",
    "\n",
    "ax.bar(range(5), topic_vc)\n",
    "ax.set_xticks(range(5))\n",
    "ax.set_xticklabels(topic_vc.index, fontsize=16)\n",
    "\n",
    "for rect, c, value in zip(ax.patches, ['b', 'r', 'g','y','m'], topic_vc.values):\n",
    "    rect.set_color(c)\n",
    "    height = rect.get_height()\n",
    "    width = rect.get_width()\n",
    "    x_loc = rect.get_x()\n",
    "    ax.text(x_loc + width/2, 0.9*height, value, ha='center', va='center', fontsize=18, color='white')"
   ]
  },
  {
   "cell_type": "code",
   "execution_count": 56,
   "metadata": {
    "collapsed": true
   },
   "outputs": [],
   "source": [
    "#pitfalls\n",
    "#chance of biasedness due to huge diff b2n Experience and Transactions"
   ]
  },
  {
   "cell_type": "code",
   "execution_count": 22,
   "metadata": {
    "collapsed": false
   },
   "outputs": [
    {
     "name": "stdout",
     "output_type": "stream",
     "text": [
      "The average number of words in a document is: 1.8526970954356847.\n",
      "The minimum number of words in a document is: 1.\n",
      "The maximum number of words in a document is: 4.\n"
     ]
    }
   ],
   "source": [
    "#inspecting the text variables\n",
    "document_lengths = np.array(list(map(len, oaks_rev_train_df.word.str.split(' '))))\n",
    "\n",
    "print(\"The average number of words in a document is: {}.\".format(np.mean(document_lengths)))\n",
    "print(\"The minimum number of words in a document is: {}.\".format(min(document_lengths)))\n",
    "print(\"The maximum number of words in a document is: {}.\".format(max(document_lengths)))"
   ]
  },
  {
   "cell_type": "code",
   "execution_count": 58,
   "metadata": {
    "collapsed": true
   },
   "outputs": [],
   "source": [
    "# see the distribution of the number of words in a document."
   ]
  },
  {
   "cell_type": "code",
   "execution_count": 23,
   "metadata": {
    "collapsed": false
   },
   "outputs": [
    {
     "data": {
      "image/png": "[encoded data removed]",
      "text/plain": [
       "<matplotlib.figure.Figure at 0x7faf9e22d630>"
      ]
     },
     "metadata": {},
     "output_type": "display_data"
    }
   ],
   "source": [
    "fig, ax = plt.subplots(figsize=(15,6))\n",
    "\n",
    "ax.set_title(\"Distribution of number of words\", fontsize=16)\n",
    "ax.set_xlabel(\"Number of words\")\n",
    "sns.distplot(document_lengths, bins=50, ax=ax,kde=False);"
   ]
  },
  {
   "cell_type": "code",
   "execution_count": 24,
   "metadata": {
    "collapsed": false
   },
   "outputs": [
    {
     "name": "stdout",
     "output_type": "stream",
     "text": [
      "There are 264 documents with over 1 words.\n"
     ]
    }
   ],
   "source": [
    "print(\"There are {} documents with over 1 words.\".format(sum(document_lengths > 1)))\n",
    "\n",
    "shorter_documents = document_lengths[document_lengths <= 1]"
   ]
  },
  {
   "cell_type": "code",
   "execution_count": 25,
   "metadata": {
    "collapsed": false
   },
   "outputs": [
    {
     "data": {
      "image/png": "[encoded data removed]",
      "text/plain": [
       "<matplotlib.figure.Figure at 0x7faf9e1bb198>"
      ]
     },
     "metadata": {},
     "output_type": "display_data"
    }
   ],
   "source": [
    "fig, ax = plt.subplots(figsize=(15,6))\n",
    "\n",
    "ax.set_title(\"Distribution of number of words\", fontsize=16)\n",
    "ax.set_xlabel(\"Number of words\")\n",
    "sns.distplot(shorter_documents, bins=50, ax=ax,kde = False);"
   ]
  },
  {
   "cell_type": "code",
   "execution_count": 26,
   "metadata": {
    "collapsed": false,
    "scrolled": true
   },
   "outputs": [
    {
     "data": {
      "text/html": [
       "<div>\n",
       "<table border=\"1\" class=\"dataframe\">\n",
       "  <thead>\n",
       "    <tr style=\"text-align: right;\">\n",
       "      <th></th>\n",
       "      <th>topic</th>\n",
       "      <th>word</th>\n",
       "      <th>lifecycle</th>\n",
       "    </tr>\n",
       "  </thead>\n",
       "  <tbody>\n",
       "    <tr>\n",
       "      <th>69</th>\n",
       "      <td>Amenities</td>\n",
       "      <td>towels</td>\n",
       "      <td>stay</td>\n",
       "    </tr>\n",
       "    <tr>\n",
       "      <th>195</th>\n",
       "      <td>Transactions</td>\n",
       "      <td>book</td>\n",
       "      <td>check-in</td>\n",
       "    </tr>\n",
       "    <tr>\n",
       "      <th>44</th>\n",
       "      <td>Amenities</td>\n",
       "      <td>nights</td>\n",
       "      <td>stay</td>\n",
       "    </tr>\n",
       "    <tr>\n",
       "      <th>87</th>\n",
       "      <td>Experience</td>\n",
       "      <td>awesome</td>\n",
       "      <td>check-out</td>\n",
       "    </tr>\n",
       "    <tr>\n",
       "      <th>306</th>\n",
       "      <td>Value</td>\n",
       "      <td>clean</td>\n",
       "      <td>after departure</td>\n",
       "    </tr>\n",
       "    <tr>\n",
       "      <th>353</th>\n",
       "      <td>Experience</td>\n",
       "      <td>everything</td>\n",
       "      <td>check-out</td>\n",
       "    </tr>\n",
       "    <tr>\n",
       "      <th>177</th>\n",
       "      <td>Location</td>\n",
       "      <td>shopping</td>\n",
       "      <td>stay</td>\n",
       "    </tr>\n",
       "    <tr>\n",
       "      <th>252</th>\n",
       "      <td>Value</td>\n",
       "      <td>modern</td>\n",
       "      <td>before arrival</td>\n",
       "    </tr>\n",
       "    <tr>\n",
       "      <th>179</th>\n",
       "      <td>Location</td>\n",
       "      <td>shops</td>\n",
       "      <td>stay</td>\n",
       "    </tr>\n",
       "    <tr>\n",
       "      <th>202</th>\n",
       "      <td>Transactions</td>\n",
       "      <td>checked</td>\n",
       "      <td>check-in</td>\n",
       "    </tr>\n",
       "    <tr>\n",
       "      <th>94</th>\n",
       "      <td>Experience</td>\n",
       "      <td>concern</td>\n",
       "      <td>stay</td>\n",
       "    </tr>\n",
       "    <tr>\n",
       "      <th>314</th>\n",
       "      <td>Location</td>\n",
       "      <td>close</td>\n",
       "      <td>before arrival</td>\n",
       "    </tr>\n",
       "    <tr>\n",
       "      <th>530</th>\n",
       "      <td>Value</td>\n",
       "      <td>look</td>\n",
       "      <td>after departure</td>\n",
       "    </tr>\n",
       "    <tr>\n",
       "      <th>170</th>\n",
       "      <td>Location</td>\n",
       "      <td>nearby</td>\n",
       "      <td>before arrival</td>\n",
       "    </tr>\n",
       "    <tr>\n",
       "      <th>16</th>\n",
       "      <td>Amenities</td>\n",
       "      <td>casino</td>\n",
       "      <td>stay</td>\n",
       "    </tr>\n",
       "    <tr>\n",
       "      <th>598</th>\n",
       "      <td>Value</td>\n",
       "      <td>overall</td>\n",
       "      <td>after departure</td>\n",
       "    </tr>\n",
       "    <tr>\n",
       "      <th>475</th>\n",
       "      <td>Value</td>\n",
       "      <td>excellent</td>\n",
       "      <td>after departure</td>\n",
       "    </tr>\n",
       "    <tr>\n",
       "      <th>251</th>\n",
       "      <td>Value</td>\n",
       "      <td>luxury</td>\n",
       "      <td>before arrival</td>\n",
       "    </tr>\n",
       "    <tr>\n",
       "      <th>275</th>\n",
       "      <td>Location</td>\n",
       "      <td>hotel</td>\n",
       "      <td>before arrival</td>\n",
       "    </tr>\n",
       "    <tr>\n",
       "      <th>228</th>\n",
       "      <td>Transactions</td>\n",
       "      <td>overcharged</td>\n",
       "      <td>check-out</td>\n",
       "    </tr>\n",
       "    <tr>\n",
       "      <th>260</th>\n",
       "      <td>Value</td>\n",
       "      <td>priced</td>\n",
       "      <td>before arrival</td>\n",
       "    </tr>\n",
       "    <tr>\n",
       "      <th>505</th>\n",
       "      <td>Value</td>\n",
       "      <td>hotels</td>\n",
       "      <td>before arrival</td>\n",
       "    </tr>\n",
       "    <tr>\n",
       "      <th>98</th>\n",
       "      <td>Experience</td>\n",
       "      <td>experience</td>\n",
       "      <td>after departure</td>\n",
       "    </tr>\n",
       "    <tr>\n",
       "      <th>43</th>\n",
       "      <td>Amenities</td>\n",
       "      <td>minibar</td>\n",
       "      <td>stay</td>\n",
       "    </tr>\n",
       "    <tr>\n",
       "      <th>237</th>\n",
       "      <td>Transactions</td>\n",
       "      <td>reception</td>\n",
       "      <td>check-in</td>\n",
       "    </tr>\n",
       "    <tr>\n",
       "      <th>259</th>\n",
       "      <td>Value</td>\n",
       "      <td>price</td>\n",
       "      <td>before arrival</td>\n",
       "    </tr>\n",
       "    <tr>\n",
       "      <th>30</th>\n",
       "      <td>Amenities</td>\n",
       "      <td>fridge</td>\n",
       "      <td>before arrival</td>\n",
       "    </tr>\n",
       "    <tr>\n",
       "      <th>182</th>\n",
       "      <td>Location</td>\n",
       "      <td>taxi</td>\n",
       "      <td>stay</td>\n",
       "    </tr>\n",
       "    <tr>\n",
       "      <th>184</th>\n",
       "      <td>Location</td>\n",
       "      <td>traffic</td>\n",
       "      <td>stay</td>\n",
       "    </tr>\n",
       "    <tr>\n",
       "      <th>229</th>\n",
       "      <td>Transactions</td>\n",
       "      <td>overnight</td>\n",
       "      <td>stay</td>\n",
       "    </tr>\n",
       "    <tr>\n",
       "      <th>...</th>\n",
       "      <td>...</td>\n",
       "      <td>...</td>\n",
       "      <td>...</td>\n",
       "    </tr>\n",
       "    <tr>\n",
       "      <th>31</th>\n",
       "      <td>Amenities</td>\n",
       "      <td>golf</td>\n",
       "      <td>before arrival</td>\n",
       "    </tr>\n",
       "    <tr>\n",
       "      <th>204</th>\n",
       "      <td>Transactions</td>\n",
       "      <td>checking</td>\n",
       "      <td>check-in</td>\n",
       "    </tr>\n",
       "    <tr>\n",
       "      <th>522</th>\n",
       "      <td>Value</td>\n",
       "      <td>accommodation</td>\n",
       "      <td>before arrival</td>\n",
       "    </tr>\n",
       "    <tr>\n",
       "      <th>240</th>\n",
       "      <td>Transactions</td>\n",
       "      <td>upgraded</td>\n",
       "      <td>check-in</td>\n",
       "    </tr>\n",
       "    <tr>\n",
       "      <th>32</th>\n",
       "      <td>Amenities</td>\n",
       "      <td>gym</td>\n",
       "      <td>before arrival</td>\n",
       "    </tr>\n",
       "    <tr>\n",
       "      <th>234</th>\n",
       "      <td>Transactions</td>\n",
       "      <td>paying</td>\n",
       "      <td>check-out</td>\n",
       "    </tr>\n",
       "    <tr>\n",
       "      <th>208</th>\n",
       "      <td>Transactions</td>\n",
       "      <td>counter</td>\n",
       "      <td>check-in</td>\n",
       "    </tr>\n",
       "    <tr>\n",
       "      <th>236</th>\n",
       "      <td>Transactions</td>\n",
       "      <td>property</td>\n",
       "      <td>before arrival</td>\n",
       "    </tr>\n",
       "    <tr>\n",
       "      <th>431</th>\n",
       "      <td>Value</td>\n",
       "      <td>like</td>\n",
       "      <td>before arrival</td>\n",
       "    </tr>\n",
       "    <tr>\n",
       "      <th>590</th>\n",
       "      <td>Transactions</td>\n",
       "      <td>paid</td>\n",
       "      <td>before arrival</td>\n",
       "    </tr>\n",
       "    <tr>\n",
       "      <th>53</th>\n",
       "      <td>Amenities</td>\n",
       "      <td>restaurants</td>\n",
       "      <td>stay</td>\n",
       "    </tr>\n",
       "    <tr>\n",
       "      <th>9</th>\n",
       "      <td>Amenities</td>\n",
       "      <td>bars</td>\n",
       "      <td>stay</td>\n",
       "    </tr>\n",
       "    <tr>\n",
       "      <th>564</th>\n",
       "      <td>Value</td>\n",
       "      <td>old</td>\n",
       "      <td>before arrival</td>\n",
       "    </tr>\n",
       "    <tr>\n",
       "      <th>582</th>\n",
       "      <td>Location</td>\n",
       "      <td>town</td>\n",
       "      <td>before arrival</td>\n",
       "    </tr>\n",
       "    <tr>\n",
       "      <th>587</th>\n",
       "      <td>Experience</td>\n",
       "      <td>bad</td>\n",
       "      <td>stay</td>\n",
       "    </tr>\n",
       "    <tr>\n",
       "      <th>245</th>\n",
       "      <td>Value</td>\n",
       "      <td>facility</td>\n",
       "      <td>after departure</td>\n",
       "    </tr>\n",
       "    <tr>\n",
       "      <th>257</th>\n",
       "      <td>Value</td>\n",
       "      <td>offered</td>\n",
       "      <td>before arrival</td>\n",
       "    </tr>\n",
       "    <tr>\n",
       "      <th>567</th>\n",
       "      <td>Transactions</td>\n",
       "      <td>access</td>\n",
       "      <td>stay</td>\n",
       "    </tr>\n",
       "    <tr>\n",
       "      <th>28</th>\n",
       "      <td>Amenities</td>\n",
       "      <td>gym</td>\n",
       "      <td>stay</td>\n",
       "    </tr>\n",
       "    <tr>\n",
       "      <th>67</th>\n",
       "      <td>Amenities</td>\n",
       "      <td>toileteries</td>\n",
       "      <td>before arrival</td>\n",
       "    </tr>\n",
       "    <tr>\n",
       "      <th>142</th>\n",
       "      <td>Experience</td>\n",
       "      <td>views</td>\n",
       "      <td>before arrival</td>\n",
       "    </tr>\n",
       "    <tr>\n",
       "      <th>216</th>\n",
       "      <td>Transactions</td>\n",
       "      <td>entrance</td>\n",
       "      <td>check-in</td>\n",
       "    </tr>\n",
       "    <tr>\n",
       "      <th>599</th>\n",
       "      <td>Transactions</td>\n",
       "      <td>arrived</td>\n",
       "      <td>check-in</td>\n",
       "    </tr>\n",
       "    <tr>\n",
       "      <th>358</th>\n",
       "      <td>Experience</td>\n",
       "      <td>day</td>\n",
       "      <td>stay</td>\n",
       "    </tr>\n",
       "    <tr>\n",
       "      <th>176</th>\n",
       "      <td>Location</td>\n",
       "      <td>resort</td>\n",
       "      <td>before arrival</td>\n",
       "    </tr>\n",
       "    <tr>\n",
       "      <th>239</th>\n",
       "      <td>Transactions</td>\n",
       "      <td>upgrade</td>\n",
       "      <td>check-in</td>\n",
       "    </tr>\n",
       "    <tr>\n",
       "      <th>535</th>\n",
       "      <td>Value</td>\n",
       "      <td>best</td>\n",
       "      <td>before arrival</td>\n",
       "    </tr>\n",
       "    <tr>\n",
       "      <th>310</th>\n",
       "      <td>Amenities</td>\n",
       "      <td>bed</td>\n",
       "      <td>before arrival</td>\n",
       "    </tr>\n",
       "    <tr>\n",
       "      <th>232</th>\n",
       "      <td>Transactions</td>\n",
       "      <td>payment</td>\n",
       "      <td>check-in</td>\n",
       "    </tr>\n",
       "    <tr>\n",
       "      <th>194</th>\n",
       "      <td>Transactions</td>\n",
       "      <td>arrival</td>\n",
       "      <td>check-in</td>\n",
       "    </tr>\n",
       "  </tbody>\n",
       "</table>\n",
       "<p>218 rows × 3 columns</p>\n",
       "</div>"
      ],
      "text/plain": [
       "            topic           word        lifecycle\n",
       "69      Amenities         towels             stay\n",
       "195  Transactions           book         check-in\n",
       "44      Amenities         nights             stay\n",
       "87     Experience        awesome        check-out\n",
       "306         Value          clean  after departure\n",
       "353    Experience     everything        check-out\n",
       "177      Location       shopping             stay\n",
       "252         Value         modern   before arrival\n",
       "179      Location          shops             stay\n",
       "202  Transactions        checked         check-in\n",
       "94     Experience        concern             stay\n",
       "314      Location          close   before arrival\n",
       "530         Value           look  after departure\n",
       "170      Location         nearby   before arrival\n",
       "16      Amenities         casino             stay\n",
       "598         Value        overall  after departure\n",
       "475         Value      excellent  after departure\n",
       "251         Value         luxury   before arrival\n",
       "275      Location          hotel   before arrival\n",
       "228  Transactions    overcharged        check-out\n",
       "260         Value         priced   before arrival\n",
       "505         Value         hotels   before arrival\n",
       "98     Experience     experience  after departure\n",
       "43      Amenities        minibar             stay\n",
       "237  Transactions      reception         check-in\n",
       "259         Value          price   before arrival\n",
       "30      Amenities         fridge   before arrival\n",
       "182      Location           taxi             stay\n",
       "184      Location        traffic             stay\n",
       "229  Transactions      overnight             stay\n",
       "..            ...            ...              ...\n",
       "31      Amenities           golf   before arrival\n",
       "204  Transactions       checking         check-in\n",
       "522         Value  accommodation   before arrival\n",
       "240  Transactions       upgraded         check-in\n",
       "32      Amenities            gym   before arrival\n",
       "234  Transactions         paying        check-out\n",
       "208  Transactions        counter         check-in\n",
       "236  Transactions       property   before arrival\n",
       "431         Value           like   before arrival\n",
       "590  Transactions           paid   before arrival\n",
       "53      Amenities    restaurants             stay\n",
       "9       Amenities           bars             stay\n",
       "564         Value            old   before arrival\n",
       "582      Location           town   before arrival\n",
       "587    Experience            bad             stay\n",
       "245         Value       facility  after departure\n",
       "257         Value        offered   before arrival\n",
       "567  Transactions         access             stay\n",
       "28      Amenities            gym             stay\n",
       "67      Amenities    toileteries   before arrival\n",
       "142    Experience          views   before arrival\n",
       "216  Transactions       entrance         check-in\n",
       "599  Transactions        arrived         check-in\n",
       "358    Experience            day             stay\n",
       "176      Location         resort   before arrival\n",
       "239  Transactions        upgrade         check-in\n",
       "535         Value           best   before arrival\n",
       "310     Amenities            bed   before arrival\n",
       "232  Transactions        payment         check-in\n",
       "194  Transactions        arrival         check-in\n",
       "\n",
       "[218 rows x 3 columns]"
      ]
     },
     "execution_count": 26,
     "metadata": {},
     "output_type": "execute_result"
    }
   ],
   "source": [
    "oaks_rev_train_df[document_lengths == 1]"
   ]
  },
  {
   "cell_type": "code",
   "execution_count": 27,
   "metadata": {
    "collapsed": false,
    "scrolled": true
   },
   "outputs": [
    {
     "data": {
      "text/html": [
       "<div>\n",
       "<table border=\"1\" class=\"dataframe\">\n",
       "  <thead>\n",
       "    <tr style=\"text-align: right;\">\n",
       "      <th></th>\n",
       "      <th>topic</th>\n",
       "      <th>word</th>\n",
       "      <th>lifecycle</th>\n",
       "    </tr>\n",
       "  </thead>\n",
       "  <tbody>\n",
       "    <tr>\n",
       "      <th>221</th>\n",
       "      <td>Transactions</td>\n",
       "      <td>front desk</td>\n",
       "      <td>check-out</td>\n",
       "    </tr>\n",
       "    <tr>\n",
       "      <th>100</th>\n",
       "      <td>Experience</td>\n",
       "      <td>good room</td>\n",
       "      <td>check-out</td>\n",
       "    </tr>\n",
       "    <tr>\n",
       "      <th>190</th>\n",
       "      <td>Location</td>\n",
       "      <td>walking distance</td>\n",
       "      <td>before arrival</td>\n",
       "    </tr>\n",
       "    <tr>\n",
       "      <th>135</th>\n",
       "      <td>Experience</td>\n",
       "      <td>staff excellent</td>\n",
       "      <td>stay</td>\n",
       "    </tr>\n",
       "    <tr>\n",
       "      <th>167</th>\n",
       "      <td>Location</td>\n",
       "      <td>location Walk</td>\n",
       "      <td>stay</td>\n",
       "    </tr>\n",
       "    <tr>\n",
       "      <th>254</th>\n",
       "      <td>Value</td>\n",
       "      <td>modern facilities</td>\n",
       "      <td>after departure</td>\n",
       "    </tr>\n",
       "    <tr>\n",
       "      <th>557</th>\n",
       "      <td>Experience</td>\n",
       "      <td>bathroom not</td>\n",
       "      <td>check-out</td>\n",
       "    </tr>\n",
       "    <tr>\n",
       "      <th>80</th>\n",
       "      <td>Experience</td>\n",
       "      <td>apartment comfortable</td>\n",
       "      <td>stay</td>\n",
       "    </tr>\n",
       "    <tr>\n",
       "      <th>52</th>\n",
       "      <td>Amenities</td>\n",
       "      <td>pool spa</td>\n",
       "      <td>stay</td>\n",
       "    </tr>\n",
       "    <tr>\n",
       "      <th>459</th>\n",
       "      <td>Experience</td>\n",
       "      <td>room nice</td>\n",
       "      <td>check-out</td>\n",
       "    </tr>\n",
       "    <tr>\n",
       "      <th>14</th>\n",
       "      <td>Amenities</td>\n",
       "      <td>car parking</td>\n",
       "      <td>before arrival</td>\n",
       "    </tr>\n",
       "    <tr>\n",
       "      <th>174</th>\n",
       "      <td>Location</td>\n",
       "      <td>public transport</td>\n",
       "      <td>stay</td>\n",
       "    </tr>\n",
       "    <tr>\n",
       "      <th>269</th>\n",
       "      <td>Location</td>\n",
       "      <td>great location</td>\n",
       "      <td>before arrival</td>\n",
       "    </tr>\n",
       "    <tr>\n",
       "      <th>160</th>\n",
       "      <td>Location</td>\n",
       "      <td>location close</td>\n",
       "      <td>stay</td>\n",
       "    </tr>\n",
       "    <tr>\n",
       "      <th>125</th>\n",
       "      <td>Experience</td>\n",
       "      <td>nice view</td>\n",
       "      <td>stay</td>\n",
       "    </tr>\n",
       "    <tr>\n",
       "      <th>406</th>\n",
       "      <td>Amenities</td>\n",
       "      <td>sofa bed</td>\n",
       "      <td>before arrival</td>\n",
       "    </tr>\n",
       "    <tr>\n",
       "      <th>162</th>\n",
       "      <td>Location</td>\n",
       "      <td>location friendly</td>\n",
       "      <td>after departure</td>\n",
       "    </tr>\n",
       "    <tr>\n",
       "      <th>81</th>\n",
       "      <td>Experience</td>\n",
       "      <td>apartment spacious</td>\n",
       "      <td>stay</td>\n",
       "    </tr>\n",
       "    <tr>\n",
       "      <th>555</th>\n",
       "      <td>Experience</td>\n",
       "      <td>clean room</td>\n",
       "      <td>stay</td>\n",
       "    </tr>\n",
       "    <tr>\n",
       "      <th>277</th>\n",
       "      <td>Experience</td>\n",
       "      <td>friendly staff</td>\n",
       "      <td>check-out</td>\n",
       "    </tr>\n",
       "    <tr>\n",
       "      <th>51</th>\n",
       "      <td>Amenities</td>\n",
       "      <td>pool gym</td>\n",
       "      <td>stay</td>\n",
       "    </tr>\n",
       "    <tr>\n",
       "      <th>460</th>\n",
       "      <td>Location</td>\n",
       "      <td>not location</td>\n",
       "      <td>stay</td>\n",
       "    </tr>\n",
       "    <tr>\n",
       "      <th>485</th>\n",
       "      <td>Experience</td>\n",
       "      <td>bed not</td>\n",
       "      <td>stay</td>\n",
       "    </tr>\n",
       "    <tr>\n",
       "      <th>106</th>\n",
       "      <td>Experience</td>\n",
       "      <td>great room</td>\n",
       "      <td>check-out</td>\n",
       "    </tr>\n",
       "    <tr>\n",
       "      <th>102</th>\n",
       "      <td>Experience</td>\n",
       "      <td>great friendly</td>\n",
       "      <td>after departure</td>\n",
       "    </tr>\n",
       "    <tr>\n",
       "      <th>132</th>\n",
       "      <td>Experience</td>\n",
       "      <td>room view</td>\n",
       "      <td>after departure</td>\n",
       "    </tr>\n",
       "    <tr>\n",
       "      <th>33</th>\n",
       "      <td>Amenities</td>\n",
       "      <td>gym pool</td>\n",
       "      <td>stay</td>\n",
       "    </tr>\n",
       "    <tr>\n",
       "      <th>302</th>\n",
       "      <td>Value</td>\n",
       "      <td>review hotel</td>\n",
       "      <td>after departure</td>\n",
       "    </tr>\n",
       "    <tr>\n",
       "      <th>139</th>\n",
       "      <td>Experience</td>\n",
       "      <td>view amazing</td>\n",
       "      <td>after departure</td>\n",
       "    </tr>\n",
       "    <tr>\n",
       "      <th>58</th>\n",
       "      <td>Amenities</td>\n",
       "      <td>shuttle bus</td>\n",
       "      <td>stay</td>\n",
       "    </tr>\n",
       "    <tr>\n",
       "      <th>...</th>\n",
       "      <td>...</td>\n",
       "      <td>...</td>\n",
       "      <td>...</td>\n",
       "    </tr>\n",
       "    <tr>\n",
       "      <th>312</th>\n",
       "      <td>Value</td>\n",
       "      <td>clean comfortable</td>\n",
       "      <td>after departure</td>\n",
       "    </tr>\n",
       "    <tr>\n",
       "      <th>0</th>\n",
       "      <td>Amenities</td>\n",
       "      <td>air con</td>\n",
       "      <td>stay</td>\n",
       "    </tr>\n",
       "    <tr>\n",
       "      <th>63</th>\n",
       "      <td>Amenities</td>\n",
       "      <td>swimming pool</td>\n",
       "      <td>stay</td>\n",
       "    </tr>\n",
       "    <tr>\n",
       "      <th>66</th>\n",
       "      <td>Amenities</td>\n",
       "      <td>swimming pool</td>\n",
       "      <td>before arrival</td>\n",
       "    </tr>\n",
       "    <tr>\n",
       "      <th>158</th>\n",
       "      <td>Location</td>\n",
       "      <td>good location</td>\n",
       "      <td>stay</td>\n",
       "    </tr>\n",
       "    <tr>\n",
       "      <th>126</th>\n",
       "      <td>Experience</td>\n",
       "      <td>ocean view</td>\n",
       "      <td>check-in</td>\n",
       "    </tr>\n",
       "    <tr>\n",
       "      <th>124</th>\n",
       "      <td>Experience</td>\n",
       "      <td>nice room</td>\n",
       "      <td>stay</td>\n",
       "    </tr>\n",
       "    <tr>\n",
       "      <th>164</th>\n",
       "      <td>Location</td>\n",
       "      <td>location shopping</td>\n",
       "      <td>stay</td>\n",
       "    </tr>\n",
       "    <tr>\n",
       "      <th>307</th>\n",
       "      <td>Experience</td>\n",
       "      <td>not stay</td>\n",
       "      <td>check-out</td>\n",
       "    </tr>\n",
       "    <tr>\n",
       "      <th>223</th>\n",
       "      <td>Transactions</td>\n",
       "      <td>late check</td>\n",
       "      <td>check-in</td>\n",
       "    </tr>\n",
       "    <tr>\n",
       "      <th>315</th>\n",
       "      <td>Value</td>\n",
       "      <td>guest review</td>\n",
       "      <td>after departure</td>\n",
       "    </tr>\n",
       "    <tr>\n",
       "      <th>112</th>\n",
       "      <td>Experience</td>\n",
       "      <td>great view</td>\n",
       "      <td>after departure</td>\n",
       "    </tr>\n",
       "    <tr>\n",
       "      <th>441</th>\n",
       "      <td>Location</td>\n",
       "      <td>location location</td>\n",
       "      <td>before arrival</td>\n",
       "    </tr>\n",
       "    <tr>\n",
       "      <th>166</th>\n",
       "      <td>Location</td>\n",
       "      <td>location shops</td>\n",
       "      <td>stay</td>\n",
       "    </tr>\n",
       "    <tr>\n",
       "      <th>71</th>\n",
       "      <td>Amenities</td>\n",
       "      <td>washing machine</td>\n",
       "      <td>Before arrival</td>\n",
       "    </tr>\n",
       "    <tr>\n",
       "      <th>83</th>\n",
       "      <td>Experience</td>\n",
       "      <td>apartment clean</td>\n",
       "      <td>check-out</td>\n",
       "    </tr>\n",
       "    <tr>\n",
       "      <th>92</th>\n",
       "      <td>Experience</td>\n",
       "      <td>comfortable great</td>\n",
       "      <td>after departure</td>\n",
       "    </tr>\n",
       "    <tr>\n",
       "      <th>214</th>\n",
       "      <td>Transactions</td>\n",
       "      <td>desk staff</td>\n",
       "      <td>check-in</td>\n",
       "    </tr>\n",
       "    <tr>\n",
       "      <th>430</th>\n",
       "      <td>Location</td>\n",
       "      <td>room location</td>\n",
       "      <td>stay</td>\n",
       "    </tr>\n",
       "    <tr>\n",
       "      <th>322</th>\n",
       "      <td>Experience</td>\n",
       "      <td>staff great</td>\n",
       "      <td>check-out</td>\n",
       "    </tr>\n",
       "    <tr>\n",
       "      <th>265</th>\n",
       "      <td>Value</td>\n",
       "      <td>room quite</td>\n",
       "      <td>stay</td>\n",
       "    </tr>\n",
       "    <tr>\n",
       "      <th>274</th>\n",
       "      <td>Experience</td>\n",
       "      <td>staff friendly</td>\n",
       "      <td>check-out</td>\n",
       "    </tr>\n",
       "    <tr>\n",
       "      <th>123</th>\n",
       "      <td>Experience</td>\n",
       "      <td>nice clean</td>\n",
       "      <td>stay</td>\n",
       "    </tr>\n",
       "    <tr>\n",
       "      <th>545</th>\n",
       "      <td>Location</td>\n",
       "      <td>hotel location</td>\n",
       "      <td>before arrival</td>\n",
       "    </tr>\n",
       "    <tr>\n",
       "      <th>283</th>\n",
       "      <td>Transactions</td>\n",
       "      <td>room room</td>\n",
       "      <td>check-in</td>\n",
       "    </tr>\n",
       "    <tr>\n",
       "      <th>5</th>\n",
       "      <td>Amenities</td>\n",
       "      <td>airport shuttle</td>\n",
       "      <td>stay</td>\n",
       "    </tr>\n",
       "    <tr>\n",
       "      <th>547</th>\n",
       "      <td>Value</td>\n",
       "      <td>hotel not</td>\n",
       "      <td>after departure</td>\n",
       "    </tr>\n",
       "    <tr>\n",
       "      <th>103</th>\n",
       "      <td>Experience</td>\n",
       "      <td>great great</td>\n",
       "      <td>after departure</td>\n",
       "    </tr>\n",
       "    <tr>\n",
       "      <th>130</th>\n",
       "      <td>Experience</td>\n",
       "      <td>room excellent</td>\n",
       "      <td>after departure</td>\n",
       "    </tr>\n",
       "    <tr>\n",
       "      <th>97</th>\n",
       "      <td>Experience</td>\n",
       "      <td>excellent facilities</td>\n",
       "      <td>check-out</td>\n",
       "    </tr>\n",
       "  </tbody>\n",
       "</table>\n",
       "<p>155 rows × 3 columns</p>\n",
       "</div>"
      ],
      "text/plain": [
       "            topic                   word        lifecycle\n",
       "221  Transactions             front desk        check-out\n",
       "100    Experience              good room        check-out\n",
       "190      Location       walking distance   before arrival\n",
       "135    Experience        staff excellent             stay\n",
       "167      Location          location Walk             stay\n",
       "254         Value      modern facilities  after departure\n",
       "557    Experience           bathroom not        check-out\n",
       "80     Experience  apartment comfortable             stay\n",
       "52      Amenities               pool spa             stay\n",
       "459    Experience              room nice        check-out\n",
       "14      Amenities            car parking   before arrival\n",
       "174      Location       public transport             stay\n",
       "269      Location         great location   before arrival\n",
       "160      Location         location close             stay\n",
       "125    Experience              nice view             stay\n",
       "406     Amenities               sofa bed   before arrival\n",
       "162      Location      location friendly  after departure\n",
       "81     Experience     apartment spacious             stay\n",
       "555    Experience             clean room             stay\n",
       "277    Experience         friendly staff        check-out\n",
       "51      Amenities               pool gym             stay\n",
       "460      Location           not location             stay\n",
       "485    Experience                bed not             stay\n",
       "106    Experience             great room        check-out\n",
       "102    Experience         great friendly  after departure\n",
       "132    Experience              room view  after departure\n",
       "33      Amenities               gym pool             stay\n",
       "302         Value           review hotel  after departure\n",
       "139    Experience           view amazing  after departure\n",
       "58      Amenities            shuttle bus             stay\n",
       "..            ...                    ...              ...\n",
       "312         Value      clean comfortable  after departure\n",
       "0       Amenities                air con             stay\n",
       "63      Amenities          swimming pool             stay\n",
       "66      Amenities          swimming pool   before arrival\n",
       "158      Location          good location             stay\n",
       "126    Experience             ocean view         check-in\n",
       "124    Experience              nice room             stay\n",
       "164      Location      location shopping             stay\n",
       "307    Experience               not stay        check-out\n",
       "223  Transactions             late check         check-in\n",
       "315         Value           guest review  after departure\n",
       "112    Experience             great view  after departure\n",
       "441      Location      location location   before arrival\n",
       "166      Location         location shops             stay\n",
       "71      Amenities        washing machine   Before arrival\n",
       "83     Experience        apartment clean        check-out\n",
       "92     Experience      comfortable great  after departure\n",
       "214  Transactions             desk staff         check-in\n",
       "430      Location          room location             stay\n",
       "322    Experience            staff great        check-out\n",
       "265         Value             room quite             stay\n",
       "274    Experience         staff friendly        check-out\n",
       "123    Experience             nice clean             stay\n",
       "545      Location         hotel location   before arrival\n",
       "283  Transactions              room room         check-in\n",
       "5       Amenities        airport shuttle             stay\n",
       "547         Value              hotel not  after departure\n",
       "103    Experience            great great  after departure\n",
       "130    Experience         room excellent  after departure\n",
       "97     Experience   excellent facilities        check-out\n",
       "\n",
       "[155 rows x 3 columns]"
      ]
     },
     "execution_count": 27,
     "metadata": {},
     "output_type": "execute_result"
    }
   ],
   "source": [
    "oaks_rev_train_df[document_lengths == 2]"
   ]
  },
  {
   "cell_type": "code",
   "execution_count": 28,
   "metadata": {
    "collapsed": false,
    "scrolled": true
   },
   "outputs": [
    {
     "data": {
      "text/html": [
       "<div>\n",
       "<table border=\"1\" class=\"dataframe\">\n",
       "  <thead>\n",
       "    <tr style=\"text-align: right;\">\n",
       "      <th></th>\n",
       "      <th>topic</th>\n",
       "      <th>word</th>\n",
       "      <th>lifecycle</th>\n",
       "    </tr>\n",
       "  </thead>\n",
       "  <tbody>\n",
       "    <tr>\n",
       "      <th>304</th>\n",
       "      <td>Value</td>\n",
       "      <td>room clean comfortable</td>\n",
       "      <td>after departure</td>\n",
       "    </tr>\n",
       "    <tr>\n",
       "      <th>520</th>\n",
       "      <td>Experience</td>\n",
       "      <td>no room service</td>\n",
       "      <td>check-in</td>\n",
       "    </tr>\n",
       "    <tr>\n",
       "      <th>401</th>\n",
       "      <td>Experience</td>\n",
       "      <td>not play golf</td>\n",
       "      <td>stay</td>\n",
       "    </tr>\n",
       "    <tr>\n",
       "      <th>286</th>\n",
       "      <td>Experience</td>\n",
       "      <td>great great staff</td>\n",
       "      <td>check-out</td>\n",
       "    </tr>\n",
       "    <tr>\n",
       "      <th>344</th>\n",
       "      <td>Experience</td>\n",
       "      <td>beds single beds</td>\n",
       "      <td>check-in</td>\n",
       "    </tr>\n",
       "    <tr>\n",
       "      <th>339</th>\n",
       "      <td>Experience</td>\n",
       "      <td>air cons power</td>\n",
       "      <td>stay</td>\n",
       "    </tr>\n",
       "    <tr>\n",
       "      <th>526</th>\n",
       "      <td>Experience</td>\n",
       "      <td>hotel staff friendly</td>\n",
       "      <td>stay</td>\n",
       "    </tr>\n",
       "    <tr>\n",
       "      <th>329</th>\n",
       "      <td>Transactions</td>\n",
       "      <td>front desk staff</td>\n",
       "      <td>check-out</td>\n",
       "    </tr>\n",
       "    <tr>\n",
       "      <th>288</th>\n",
       "      <td>Value</td>\n",
       "      <td>good value money</td>\n",
       "      <td>after departure</td>\n",
       "    </tr>\n",
       "    <tr>\n",
       "      <th>361</th>\n",
       "      <td>Experience</td>\n",
       "      <td>everything great home</td>\n",
       "      <td>stay</td>\n",
       "    </tr>\n",
       "    <tr>\n",
       "      <th>359</th>\n",
       "      <td>Transactions</td>\n",
       "      <td>early check no</td>\n",
       "      <td>check-in</td>\n",
       "    </tr>\n",
       "    <tr>\n",
       "      <th>529</th>\n",
       "      <td>Experience</td>\n",
       "      <td>room staff friendly</td>\n",
       "      <td>check-out</td>\n",
       "    </tr>\n",
       "    <tr>\n",
       "      <th>481</th>\n",
       "      <td>Value</td>\n",
       "      <td>one bedroom apartment</td>\n",
       "      <td>before arrival</td>\n",
       "    </tr>\n",
       "    <tr>\n",
       "      <th>429</th>\n",
       "      <td>Experience</td>\n",
       "      <td>car park not</td>\n",
       "      <td>stay</td>\n",
       "    </tr>\n",
       "    <tr>\n",
       "      <th>388</th>\n",
       "      <td>Experience</td>\n",
       "      <td>not stay hotel</td>\n",
       "      <td>check-out</td>\n",
       "    </tr>\n",
       "    <tr>\n",
       "      <th>248</th>\n",
       "      <td>Value</td>\n",
       "      <td>great value money</td>\n",
       "      <td>after departure</td>\n",
       "    </tr>\n",
       "    <tr>\n",
       "      <th>575</th>\n",
       "      <td>Experience</td>\n",
       "      <td>great staff helpful</td>\n",
       "      <td>check-out</td>\n",
       "    </tr>\n",
       "    <tr>\n",
       "      <th>560</th>\n",
       "      <td>Experience</td>\n",
       "      <td>friendly staff great</td>\n",
       "      <td>check-out</td>\n",
       "    </tr>\n",
       "    <tr>\n",
       "      <th>374</th>\n",
       "      <td>Experience</td>\n",
       "      <td>control not work</td>\n",
       "      <td>check-out</td>\n",
       "    </tr>\n",
       "    <tr>\n",
       "      <th>513</th>\n",
       "      <td>Experience</td>\n",
       "      <td>staff friendly room</td>\n",
       "      <td>stay</td>\n",
       "    </tr>\n",
       "    <tr>\n",
       "      <th>297</th>\n",
       "      <td>Location</td>\n",
       "      <td>great location close</td>\n",
       "      <td>after departure</td>\n",
       "    </tr>\n",
       "    <tr>\n",
       "      <th>356</th>\n",
       "      <td>Transactions</td>\n",
       "      <td>could not get</td>\n",
       "      <td>check-in</td>\n",
       "    </tr>\n",
       "    <tr>\n",
       "      <th>425</th>\n",
       "      <td>Value</td>\n",
       "      <td>traveler type quiz</td>\n",
       "      <td>after departure</td>\n",
       "    </tr>\n",
       "    <tr>\n",
       "      <th>313</th>\n",
       "      <td>Location</td>\n",
       "      <td>close central station</td>\n",
       "      <td>before arrival</td>\n",
       "    </tr>\n",
       "    <tr>\n",
       "      <th>326</th>\n",
       "      <td>Location</td>\n",
       "      <td>location close shops</td>\n",
       "      <td>before arrival</td>\n",
       "    </tr>\n",
       "    <tr>\n",
       "      <th>319</th>\n",
       "      <td>Value</td>\n",
       "      <td>room clean staff</td>\n",
       "      <td>after departure</td>\n",
       "    </tr>\n",
       "    <tr>\n",
       "      <th>311</th>\n",
       "      <td>Value</td>\n",
       "      <td>two bedroom apartment</td>\n",
       "      <td>before arrival</td>\n",
       "    </tr>\n",
       "    <tr>\n",
       "      <th>331</th>\n",
       "      <td>Transactions</td>\n",
       "      <td>not work reception</td>\n",
       "      <td>check-out</td>\n",
       "    </tr>\n",
       "    <tr>\n",
       "      <th>409</th>\n",
       "      <td>Transactions</td>\n",
       "      <td>staff manager receptionist</td>\n",
       "      <td>after departure</td>\n",
       "    </tr>\n",
       "    <tr>\n",
       "      <th>367</th>\n",
       "      <td>Experience</td>\n",
       "      <td>great experience great</td>\n",
       "      <td>check-out</td>\n",
       "    </tr>\n",
       "    <tr>\n",
       "      <th>...</th>\n",
       "      <td>...</td>\n",
       "      <td>...</td>\n",
       "      <td>...</td>\n",
       "    </tr>\n",
       "    <tr>\n",
       "      <th>292</th>\n",
       "      <td>Experience</td>\n",
       "      <td>room could not</td>\n",
       "      <td>check-out</td>\n",
       "    </tr>\n",
       "    <tr>\n",
       "      <th>403</th>\n",
       "      <td>Location</td>\n",
       "      <td>offside room bath</td>\n",
       "      <td>stay</td>\n",
       "    </tr>\n",
       "    <tr>\n",
       "      <th>323</th>\n",
       "      <td>Value</td>\n",
       "      <td>credit card not</td>\n",
       "      <td>check-in</td>\n",
       "    </tr>\n",
       "    <tr>\n",
       "      <th>479</th>\n",
       "      <td>Location</td>\n",
       "      <td>great location good</td>\n",
       "      <td>before arrival</td>\n",
       "    </tr>\n",
       "    <tr>\n",
       "      <th>540</th>\n",
       "      <td>Location</td>\n",
       "      <td>great location friendly</td>\n",
       "      <td>before arrival</td>\n",
       "    </tr>\n",
       "    <tr>\n",
       "      <th>333</th>\n",
       "      <td>Value</td>\n",
       "      <td>guest review hotel</td>\n",
       "      <td>after departure</td>\n",
       "    </tr>\n",
       "    <tr>\n",
       "      <th>385</th>\n",
       "      <td>Experience</td>\n",
       "      <td>not coming back</td>\n",
       "      <td>after departure</td>\n",
       "    </tr>\n",
       "    <tr>\n",
       "      <th>389</th>\n",
       "      <td>Experience</td>\n",
       "      <td>great great service</td>\n",
       "      <td>after departure</td>\n",
       "    </tr>\n",
       "    <tr>\n",
       "      <th>386</th>\n",
       "      <td>Experience</td>\n",
       "      <td>not match room</td>\n",
       "      <td>stay</td>\n",
       "    </tr>\n",
       "    <tr>\n",
       "      <th>581</th>\n",
       "      <td>Experience</td>\n",
       "      <td>air conditioning not</td>\n",
       "      <td>after departure</td>\n",
       "    </tr>\n",
       "    <tr>\n",
       "      <th>105</th>\n",
       "      <td>Experience</td>\n",
       "      <td>great place stay</td>\n",
       "      <td>after departure</td>\n",
       "    </tr>\n",
       "    <tr>\n",
       "      <th>156</th>\n",
       "      <td>Location</td>\n",
       "      <td>easy walking distance</td>\n",
       "      <td>before arrival</td>\n",
       "    </tr>\n",
       "    <tr>\n",
       "      <th>456</th>\n",
       "      <td>Location</td>\n",
       "      <td>location walking distance</td>\n",
       "      <td>before arrival</td>\n",
       "    </tr>\n",
       "    <tr>\n",
       "      <th>303</th>\n",
       "      <td>Location</td>\n",
       "      <td>hotel great location</td>\n",
       "      <td>after departure</td>\n",
       "    </tr>\n",
       "    <tr>\n",
       "      <th>523</th>\n",
       "      <td>Experience</td>\n",
       "      <td>friendly staff clean</td>\n",
       "      <td>check-out</td>\n",
       "    </tr>\n",
       "    <tr>\n",
       "      <th>421</th>\n",
       "      <td>Experience</td>\n",
       "      <td>service great great</td>\n",
       "      <td>check-out</td>\n",
       "    </tr>\n",
       "    <tr>\n",
       "      <th>419</th>\n",
       "      <td>Location</td>\n",
       "      <td>room needs location</td>\n",
       "      <td>stay</td>\n",
       "    </tr>\n",
       "    <tr>\n",
       "      <th>363</th>\n",
       "      <td>Value</td>\n",
       "      <td>fire evacuate building</td>\n",
       "      <td>before arrival</td>\n",
       "    </tr>\n",
       "    <tr>\n",
       "      <th>447</th>\n",
       "      <td>Experience</td>\n",
       "      <td>not work not</td>\n",
       "      <td>check-out</td>\n",
       "    </tr>\n",
       "    <tr>\n",
       "      <th>193</th>\n",
       "      <td>Location</td>\n",
       "      <td>within walking distance</td>\n",
       "      <td>before arrival</td>\n",
       "    </tr>\n",
       "    <tr>\n",
       "      <th>517</th>\n",
       "      <td>Amenities</td>\n",
       "      <td>washing machine dryer</td>\n",
       "      <td>before arrival</td>\n",
       "    </tr>\n",
       "    <tr>\n",
       "      <th>566</th>\n",
       "      <td>Location</td>\n",
       "      <td>staff great location</td>\n",
       "      <td>after departure</td>\n",
       "    </tr>\n",
       "    <tr>\n",
       "      <th>525</th>\n",
       "      <td>Experience</td>\n",
       "      <td>friendly staff clean</td>\n",
       "      <td>stay</td>\n",
       "    </tr>\n",
       "    <tr>\n",
       "      <th>145</th>\n",
       "      <td>Experience</td>\n",
       "      <td>would highly recommend</td>\n",
       "      <td>after departure</td>\n",
       "    </tr>\n",
       "    <tr>\n",
       "      <th>543</th>\n",
       "      <td>Location</td>\n",
       "      <td>friendly staff location</td>\n",
       "      <td>after departure</td>\n",
       "    </tr>\n",
       "    <tr>\n",
       "      <th>402</th>\n",
       "      <td>Value</td>\n",
       "      <td>room room studio</td>\n",
       "      <td>before arrival</td>\n",
       "    </tr>\n",
       "    <tr>\n",
       "      <th>328</th>\n",
       "      <td>Transactions</td>\n",
       "      <td>front desk staff</td>\n",
       "      <td>check-in</td>\n",
       "    </tr>\n",
       "    <tr>\n",
       "      <th>417</th>\n",
       "      <td>Experience</td>\n",
       "      <td>tried no luck</td>\n",
       "      <td>stay</td>\n",
       "    </tr>\n",
       "    <tr>\n",
       "      <th>365</th>\n",
       "      <td>Experience</td>\n",
       "      <td>free wi-fi not</td>\n",
       "      <td>stay</td>\n",
       "    </tr>\n",
       "    <tr>\n",
       "      <th>334</th>\n",
       "      <td>Location</td>\n",
       "      <td>great location walk</td>\n",
       "      <td>before arrival</td>\n",
       "    </tr>\n",
       "  </tbody>\n",
       "</table>\n",
       "<p>71 rows × 3 columns</p>\n",
       "</div>"
      ],
      "text/plain": [
       "            topic                        word        lifecycle\n",
       "304         Value      room clean comfortable  after departure\n",
       "520    Experience             no room service         check-in\n",
       "401    Experience               not play golf             stay\n",
       "286    Experience           great great staff        check-out\n",
       "344    Experience            beds single beds         check-in\n",
       "339    Experience              air cons power             stay\n",
       "526    Experience        hotel staff friendly             stay\n",
       "329  Transactions            front desk staff        check-out\n",
       "288         Value            good value money  after departure\n",
       "361    Experience       everything great home             stay\n",
       "359  Transactions              early check no         check-in\n",
       "529    Experience         room staff friendly        check-out\n",
       "481         Value       one bedroom apartment   before arrival\n",
       "429    Experience                car park not             stay\n",
       "388    Experience              not stay hotel        check-out\n",
       "248         Value           great value money  after departure\n",
       "575    Experience         great staff helpful        check-out\n",
       "560    Experience        friendly staff great        check-out\n",
       "374    Experience            control not work        check-out\n",
       "513    Experience         staff friendly room             stay\n",
       "297      Location        great location close  after departure\n",
       "356  Transactions               could not get         check-in\n",
       "425         Value          traveler type quiz  after departure\n",
       "313      Location       close central station   before arrival\n",
       "326      Location        location close shops   before arrival\n",
       "319         Value            room clean staff  after departure\n",
       "311         Value       two bedroom apartment   before arrival\n",
       "331  Transactions          not work reception        check-out\n",
       "409  Transactions  staff manager receptionist  after departure\n",
       "367    Experience      great experience great        check-out\n",
       "..            ...                         ...              ...\n",
       "292    Experience              room could not        check-out\n",
       "403      Location           offside room bath             stay\n",
       "323         Value             credit card not         check-in\n",
       "479      Location         great location good   before arrival\n",
       "540      Location     great location friendly   before arrival\n",
       "333         Value          guest review hotel  after departure\n",
       "385    Experience             not coming back  after departure\n",
       "389    Experience         great great service  after departure\n",
       "386    Experience              not match room             stay\n",
       "581    Experience        air conditioning not  after departure\n",
       "105    Experience            great place stay  after departure\n",
       "156      Location       easy walking distance   before arrival\n",
       "456      Location   location walking distance   before arrival\n",
       "303      Location        hotel great location  after departure\n",
       "523    Experience        friendly staff clean        check-out\n",
       "421    Experience         service great great        check-out\n",
       "419      Location         room needs location             stay\n",
       "363         Value      fire evacuate building   before arrival\n",
       "447    Experience                not work not        check-out\n",
       "193      Location     within walking distance   before arrival\n",
       "517     Amenities       washing machine dryer   before arrival\n",
       "566      Location        staff great location  after departure\n",
       "525    Experience        friendly staff clean             stay\n",
       "145    Experience      would highly recommend  after departure\n",
       "543      Location     friendly staff location  after departure\n",
       "402         Value            room room studio   before arrival\n",
       "328  Transactions            front desk staff         check-in\n",
       "417    Experience               tried no luck             stay\n",
       "365    Experience              free wi-fi not             stay\n",
       "334      Location         great location walk   before arrival\n",
       "\n",
       "[71 rows x 3 columns]"
      ]
     },
     "execution_count": 28,
     "metadata": {},
     "output_type": "execute_result"
    }
   ],
   "source": [
    "oaks_rev_train_df[document_lengths == 3]"
   ]
  },
  {
   "cell_type": "code",
   "execution_count": 29,
   "metadata": {
    "collapsed": false,
    "scrolled": true
   },
   "outputs": [
    {
     "data": {
      "text/html": [
       "<div>\n",
       "<table border=\"1\" class=\"dataframe\">\n",
       "  <thead>\n",
       "    <tr style=\"text-align: right;\">\n",
       "      <th></th>\n",
       "      <th>topic</th>\n",
       "      <th>word</th>\n",
       "      <th>lifecycle</th>\n",
       "    </tr>\n",
       "  </thead>\n",
       "  <tbody>\n",
       "    <tr>\n",
       "      <th>418</th>\n",
       "      <td>Transactions</td>\n",
       "      <td>weeks ago paid night</td>\n",
       "      <td>before arrival</td>\n",
       "    </tr>\n",
       "    <tr>\n",
       "      <th>457</th>\n",
       "      <td>Experience</td>\n",
       "      <td>staff friendly room clean</td>\n",
       "      <td>after departure</td>\n",
       "    </tr>\n",
       "    <tr>\n",
       "      <th>340</th>\n",
       "      <td>Value</td>\n",
       "      <td>apartment two room apartment</td>\n",
       "      <td>before arrival</td>\n",
       "    </tr>\n",
       "    <tr>\n",
       "      <th>341</th>\n",
       "      <td>Experience</td>\n",
       "      <td>assistance tv not not</td>\n",
       "      <td>stay</td>\n",
       "    </tr>\n",
       "    <tr>\n",
       "      <th>384</th>\n",
       "      <td>Experience</td>\n",
       "      <td>no exhaust fan bathroom</td>\n",
       "      <td>stay</td>\n",
       "    </tr>\n",
       "    <tr>\n",
       "      <th>332</th>\n",
       "      <td>Experience</td>\n",
       "      <td>air conditioner not work</td>\n",
       "      <td>stay</td>\n",
       "    </tr>\n",
       "    <tr>\n",
       "      <th>343</th>\n",
       "      <td>Value</td>\n",
       "      <td>bed provided comfortable spacious</td>\n",
       "      <td>after departure</td>\n",
       "    </tr>\n",
       "    <tr>\n",
       "      <th>420</th>\n",
       "      <td>Experience</td>\n",
       "      <td>rooms clean staff helpful</td>\n",
       "      <td>check-out</td>\n",
       "    </tr>\n",
       "    <tr>\n",
       "      <th>376</th>\n",
       "      <td>Experience</td>\n",
       "      <td>living area second bedroom</td>\n",
       "      <td>check-in</td>\n",
       "    </tr>\n",
       "    <tr>\n",
       "      <th>400</th>\n",
       "      <td>Experience</td>\n",
       "      <td>room comfortable good facilities</td>\n",
       "      <td>check-out</td>\n",
       "    </tr>\n",
       "    <tr>\n",
       "      <th>415</th>\n",
       "      <td>Experience</td>\n",
       "      <td>traffic noise main bedroom</td>\n",
       "      <td>stay</td>\n",
       "    </tr>\n",
       "    <tr>\n",
       "      <th>375</th>\n",
       "      <td>Experience</td>\n",
       "      <td>disagree mirrors not clean</td>\n",
       "      <td>after departure</td>\n",
       "    </tr>\n",
       "    <tr>\n",
       "      <th>368</th>\n",
       "      <td>Experience</td>\n",
       "      <td>aggressively get new keys</td>\n",
       "      <td>stay</td>\n",
       "    </tr>\n",
       "    <tr>\n",
       "      <th>408</th>\n",
       "      <td>Value</td>\n",
       "      <td>spacious apartment nice balcony</td>\n",
       "      <td>after departure</td>\n",
       "    </tr>\n",
       "    <tr>\n",
       "      <th>552</th>\n",
       "      <td>Experience</td>\n",
       "      <td>staff friendly helpful room</td>\n",
       "      <td>check-out</td>\n",
       "    </tr>\n",
       "    <tr>\n",
       "      <th>396</th>\n",
       "      <td>Experience</td>\n",
       "      <td>higher floor not told</td>\n",
       "      <td>check-out</td>\n",
       "    </tr>\n",
       "    <tr>\n",
       "      <th>390</th>\n",
       "      <td>Experience</td>\n",
       "      <td>one sofa bed not</td>\n",
       "      <td>check-out</td>\n",
       "    </tr>\n",
       "    <tr>\n",
       "      <th>364</th>\n",
       "      <td>Amenities</td>\n",
       "      <td>free wi-fi cable wall</td>\n",
       "      <td>before arrival</td>\n",
       "    </tr>\n",
       "    <tr>\n",
       "      <th>379</th>\n",
       "      <td>Experience</td>\n",
       "      <td>main air-conditioner not work</td>\n",
       "      <td>stay</td>\n",
       "    </tr>\n",
       "    <tr>\n",
       "      <th>382</th>\n",
       "      <td>Experience</td>\n",
       "      <td>friend get bed bed</td>\n",
       "      <td>stay</td>\n",
       "    </tr>\n",
       "    <tr>\n",
       "      <th>391</th>\n",
       "      <td>Amenities</td>\n",
       "      <td>great location close station</td>\n",
       "      <td>before arrival</td>\n",
       "    </tr>\n",
       "    <tr>\n",
       "      <th>298</th>\n",
       "      <td>Location</td>\n",
       "      <td>great location friendly staff</td>\n",
       "      <td>after departure</td>\n",
       "    </tr>\n",
       "    <tr>\n",
       "      <th>395</th>\n",
       "      <td>Transactions</td>\n",
       "      <td>halls not receptionist one</td>\n",
       "      <td>stay</td>\n",
       "    </tr>\n",
       "    <tr>\n",
       "      <th>412</th>\n",
       "      <td>Transactions</td>\n",
       "      <td>stored luggage check late</td>\n",
       "      <td>check-out</td>\n",
       "    </tr>\n",
       "    <tr>\n",
       "      <th>327</th>\n",
       "      <td>Experience</td>\n",
       "      <td>could not fault room</td>\n",
       "      <td>check-out</td>\n",
       "    </tr>\n",
       "    <tr>\n",
       "      <th>407</th>\n",
       "      <td>Experience</td>\n",
       "      <td>spa facility spa not</td>\n",
       "      <td>stay</td>\n",
       "    </tr>\n",
       "    <tr>\n",
       "      <th>346</th>\n",
       "      <td>Experience</td>\n",
       "      <td>best hotel hotel want</td>\n",
       "      <td>after departure</td>\n",
       "    </tr>\n",
       "    <tr>\n",
       "      <th>347</th>\n",
       "      <td>Transactions</td>\n",
       "      <td>bond put credit card</td>\n",
       "      <td>check-in</td>\n",
       "    </tr>\n",
       "    <tr>\n",
       "      <th>387</th>\n",
       "      <td>Experience</td>\n",
       "      <td>got late check cleaners</td>\n",
       "      <td>stay</td>\n",
       "    </tr>\n",
       "    <tr>\n",
       "      <th>392</th>\n",
       "      <td>Location</td>\n",
       "      <td>great location close station</td>\n",
       "      <td>after departure</td>\n",
       "    </tr>\n",
       "    <tr>\n",
       "      <th>381</th>\n",
       "      <td>Experience</td>\n",
       "      <td>everything attending family close</td>\n",
       "      <td>stay</td>\n",
       "    </tr>\n",
       "    <tr>\n",
       "      <th>338</th>\n",
       "      <td>Location</td>\n",
       "      <td>absolutely nothing location location</td>\n",
       "      <td>after departure</td>\n",
       "    </tr>\n",
       "    <tr>\n",
       "      <th>355</th>\n",
       "      <td>Transactions</td>\n",
       "      <td>despite applied marketing spin</td>\n",
       "      <td>before arrival</td>\n",
       "    </tr>\n",
       "    <tr>\n",
       "      <th>373</th>\n",
       "      <td>Experience</td>\n",
       "      <td>insulation room not good</td>\n",
       "      <td>check-out</td>\n",
       "    </tr>\n",
       "    <tr>\n",
       "      <th>383</th>\n",
       "      <td>Transactions</td>\n",
       "      <td>friendly staff easy check</td>\n",
       "      <td>check-out</td>\n",
       "    </tr>\n",
       "    <tr>\n",
       "      <th>351</th>\n",
       "      <td>Location</td>\n",
       "      <td>close central station easy</td>\n",
       "      <td>before arrival</td>\n",
       "    </tr>\n",
       "    <tr>\n",
       "      <th>393</th>\n",
       "      <td>Transactions</td>\n",
       "      <td>pay daily credit card</td>\n",
       "      <td>stay</td>\n",
       "    </tr>\n",
       "    <tr>\n",
       "      <th>370</th>\n",
       "      <td>Experience</td>\n",
       "      <td>behind us not cleared</td>\n",
       "      <td>stay</td>\n",
       "    </tr>\n",
       "  </tbody>\n",
       "</table>\n",
       "</div>"
      ],
      "text/plain": [
       "            topic                                  word        lifecycle\n",
       "418  Transactions                  weeks ago paid night   before arrival\n",
       "457    Experience             staff friendly room clean  after departure\n",
       "340         Value          apartment two room apartment   before arrival\n",
       "341    Experience                 assistance tv not not             stay\n",
       "384    Experience               no exhaust fan bathroom             stay\n",
       "332    Experience              air conditioner not work             stay\n",
       "343         Value     bed provided comfortable spacious  after departure\n",
       "420    Experience             rooms clean staff helpful        check-out\n",
       "376    Experience            living area second bedroom         check-in\n",
       "400    Experience      room comfortable good facilities        check-out\n",
       "415    Experience            traffic noise main bedroom             stay\n",
       "375    Experience            disagree mirrors not clean  after departure\n",
       "368    Experience             aggressively get new keys             stay\n",
       "408         Value       spacious apartment nice balcony  after departure\n",
       "552    Experience           staff friendly helpful room        check-out\n",
       "396    Experience                 higher floor not told        check-out\n",
       "390    Experience                      one sofa bed not        check-out\n",
       "364     Amenities                 free wi-fi cable wall   before arrival\n",
       "379    Experience         main air-conditioner not work             stay\n",
       "382    Experience                    friend get bed bed             stay\n",
       "391     Amenities          great location close station   before arrival\n",
       "298      Location         great location friendly staff  after departure\n",
       "395  Transactions            halls not receptionist one             stay\n",
       "412  Transactions             stored luggage check late        check-out\n",
       "327    Experience                  could not fault room        check-out\n",
       "407    Experience                  spa facility spa not             stay\n",
       "346    Experience                 best hotel hotel want  after departure\n",
       "347  Transactions                  bond put credit card         check-in\n",
       "387    Experience               got late check cleaners             stay\n",
       "392      Location          great location close station  after departure\n",
       "381    Experience     everything attending family close             stay\n",
       "338      Location  absolutely nothing location location  after departure\n",
       "355  Transactions        despite applied marketing spin   before arrival\n",
       "373    Experience              insulation room not good        check-out\n",
       "383  Transactions             friendly staff easy check        check-out\n",
       "351      Location            close central station easy   before arrival\n",
       "393  Transactions                 pay daily credit card             stay\n",
       "370    Experience                 behind us not cleared             stay"
      ]
     },
     "execution_count": 29,
     "metadata": {},
     "output_type": "execute_result"
    }
   ],
   "source": [
    "oaks_rev_train_df[document_lengths == 4]"
   ]
  },
  {
   "cell_type": "code",
   "execution_count": 30,
   "metadata": {
    "collapsed": false
   },
   "outputs": [
    {
     "data": {
      "text/html": [
       "<div>\n",
       "<table border=\"1\" class=\"dataframe\">\n",
       "  <thead>\n",
       "    <tr style=\"text-align: right;\">\n",
       "      <th></th>\n",
       "      <th>topic</th>\n",
       "      <th>word</th>\n",
       "      <th>lifecycle</th>\n",
       "    </tr>\n",
       "  </thead>\n",
       "  <tbody>\n",
       "  </tbody>\n",
       "</table>\n",
       "</div>"
      ],
      "text/plain": [
       "Empty DataFrame\n",
       "Columns: [topic, word, lifecycle]\n",
       "Index: []"
      ]
     },
     "execution_count": 30,
     "metadata": {},
     "output_type": "execute_result"
    }
   ],
   "source": [
    "oaks_rev_train_df[document_lengths == 5]"
   ]
  },
  {
   "cell_type": "code",
   "execution_count": null,
   "metadata": {
    "collapsed": true
   },
   "outputs": [],
   "source": [
    "#feature_creation"
   ]
  },
  {
   "cell_type": "code",
   "execution_count": null,
   "metadata": {
    "collapsed": true
   },
   "outputs": [],
   "source": [
    "# preprocessing steps for LDA"
   ]
  },
  {
   "cell_type": "code",
   "execution_count": 31,
   "metadata": {
    "collapsed": false
   },
   "outputs": [
    {
     "name": "stderr",
     "output_type": "stream",
     "text": [
      "/root/anaconda3/lib/python3.5/site-packages/ipykernel/__main__.py:2: SettingWithCopyWarning: \n",
      "A value is trying to be set on a copy of a slice from a DataFrame.\n",
      "Try using .loc[row_indexer,col_indexer] = value instead\n",
      "\n",
      "See the caveats in the documentation: http://pandas.pydata.org/pandas-docs/stable/indexing.html#indexing-view-versus-copy\n",
      "  from ipykernel import kernelapp as app\n",
      "/root/anaconda3/lib/python3.5/site-packages/ipykernel/__main__.py:3: SettingWithCopyWarning: \n",
      "A value is trying to be set on a copy of a slice from a DataFrame.\n",
      "Try using .loc[row_indexer,col_indexer] = value instead\n",
      "\n",
      "See the caveats in the documentation: http://pandas.pydata.org/pandas-docs/stable/indexing.html#indexing-view-versus-copy\n",
      "  app.launch_new_instance()\n"
     ]
    }
   ],
   "source": [
    "def lda_get_good_tokens(df):\n",
    "    df['word'] = df.word.str.lower()\n",
    "    df['tokenized_text'] = list(map(nltk.word_tokenize, df.word))\n",
    "    \n",
    "\n",
    "lda_get_good_tokens(oaks_rev_train_df)"
   ]
  },
  {
   "cell_type": "code",
   "execution_count": null,
   "metadata": {
    "collapsed": true
   },
   "outputs": [],
   "source": [
    "# Let's view at the top word frequencies now and get an idea of the words that are used mostly."
   ]
  },
  {
   "cell_type": "code",
   "execution_count": 32,
   "metadata": {
    "collapsed": true
   },
   "outputs": [],
   "source": [
    "tokenized_only_dict = Counter(np.concatenate(oaks_rev_train_df.tokenized_text.values))\n",
    "\n",
    "tokenized_only_df = pd.DataFrame.from_dict(tokenized_only_dict, orient='index')\n",
    "tokenized_only_df.rename(columns={0: 'count'}, inplace=True)"
   ]
  },
  {
   "cell_type": "code",
   "execution_count": 33,
   "metadata": {
    "collapsed": true
   },
   "outputs": [],
   "source": [
    "tokenized_only_df.sort_values('count', ascending=False, inplace=True)"
   ]
  },
  {
   "cell_type": "code",
   "execution_count": 34,
   "metadata": {
    "collapsed": false
   },
   "outputs": [
    {
     "data": {
      "image/png": "[encoded data removed]",
      "text/plain": [
       "<matplotlib.figure.Figure at 0x7faf9dfce898>"
      ]
     },
     "metadata": {},
     "output_type": "display_data"
    }
   ],
   "source": [
    "#function for word frequency \n",
    "def word_frequency_barplot(df, nr_top_words=50):\n",
    "    \"\"\" df should have a column named count.\n",
    "    \"\"\"\n",
    "    fig, ax = plt.subplots(1,1,figsize=(20,5))\n",
    "\n",
    "    sns.barplot(list(range(nr_top_words)), df['count'].values[:nr_top_words], palette='hls', ax=ax)\n",
    "\n",
    "    ax.set_xticks(list(range(nr_top_words)))\n",
    "    ax.set_xticklabels(df.index[:nr_top_words], fontsize=14, rotation=90)\n",
    "    return ax\n",
    "    \n",
    "ax = word_frequency_barplot(tokenized_only_df)\n",
    "ax.set_title(\"Word Frequencies\", fontsize=16);"
   ]
  },
  {
   "cell_type": "code",
   "execution_count": null,
   "metadata": {
    "collapsed": true
   },
   "outputs": [],
   "source": [
    "#stemming with lemmatization, this will stem words like leaves to leaf. \n",
    "#we'll apply  porterstemmer which in turn will complete the stemming by converting words like running to run."
   ]
  },
  {
   "cell_type": "code",
   "execution_count": 35,
   "metadata": {
    "collapsed": false
   },
   "outputs": [
    {
     "name": "stdout",
     "output_type": "stream",
     "text": [
      "[nltk_data] Downloading package wordnet to /root/nltk_data...\n",
      "[nltk_data]   Package wordnet is already up-to-date!\n"
     ]
    },
    {
     "data": {
      "text/plain": [
       "True"
      ]
     },
     "execution_count": 35,
     "metadata": {},
     "output_type": "execute_result"
    }
   ],
   "source": [
    "nltk.download('wordnet')"
   ]
  },
  {
   "cell_type": "code",
   "execution_count": 36,
   "metadata": {
    "collapsed": true
   },
   "outputs": [],
   "source": [
    " from nltk.corpus import wordnet as wn"
   ]
  },
  {
   "cell_type": "code",
   "execution_count": 37,
   "metadata": {
    "collapsed": false
   },
   "outputs": [
    {
     "name": "stderr",
     "output_type": "stream",
     "text": [
      "/root/anaconda3/lib/python3.5/site-packages/ipykernel/__main__.py:5: SettingWithCopyWarning: \n",
      "A value is trying to be set on a copy of a slice from a DataFrame.\n",
      "Try using .loc[row_indexer,col_indexer] = value instead\n",
      "\n",
      "See the caveats in the documentation: http://pandas.pydata.org/pandas-docs/stable/indexing.html#indexing-view-versus-copy\n",
      "/root/anaconda3/lib/python3.5/site-packages/ipykernel/__main__.py:10: SettingWithCopyWarning: \n",
      "A value is trying to be set on a copy of a slice from a DataFrame.\n",
      "Try using .loc[row_indexer,col_indexer] = value instead\n",
      "\n",
      "See the caveats in the documentation: http://pandas.pydata.org/pandas-docs/stable/indexing.html#indexing-view-versus-copy\n"
     ]
    }
   ],
   "source": [
    "def stem_words(df):\n",
    "    lemm = nltk.stem.WordNetLemmatizer()\n",
    "    df['lemmatized_text'] = list(map(lambda word:\n",
    "                                     list(map(lemm.lemmatize, word)),\n",
    "                                     df.tokenized_text))\n",
    "\n",
    "    p_stemmer = nltk.stem.porter.PorterStemmer()\n",
    "    df['stemmed_text'] = list(map(lambda word:\n",
    "                                  list(map(p_stemmer.stem, word)),\n",
    "                                  df.lemmatized_text))\n",
    "\n",
    "stem_words(oaks_rev_train_df)"
   ]
  },
  {
   "cell_type": "code",
   "execution_count": 37,
   "metadata": {
    "collapsed": true
   },
   "outputs": [],
   "source": [
    "# creating a dictionary for the model. Since a computer can't reallly understand what a word means, we need to transform it into some number the model will be able to work with. \n",
    "# using gensim.corpora.Dictionary for this."
   ]
  },
  {
   "cell_type": "code",
   "execution_count": 38,
   "metadata": {
    "collapsed": false
   },
   "outputs": [
    {
     "name": "stdout",
     "output_type": "stream",
     "text": [
      "Found 265 words.\n"
     ]
    }
   ],
   "source": [
    "dictionary = Dictionary(documents=oaks_rev_train_df.stemmed_text.values)\n",
    "\n",
    "print(\"Found {} words.\".format(len(dictionary.values())))"
   ]
  },
  {
   "cell_type": "code",
   "execution_count": 39,
   "metadata": {
    "collapsed": false
   },
   "outputs": [
    {
     "name": "stdout",
     "output_type": "stream",
     "text": [
      "Left with 130 words.\n"
     ]
    }
   ],
   "source": [
    "dictionary.filter_extremes(no_above=0.8, no_below=2)\n",
    "\n",
    "dictionary.compactify()  # Reindexes the remaining words after filtering\n",
    "print(\"Left with {} words.\".format(len(dictionary.values())))"
   ]
  },
  {
   "cell_type": "code",
   "execution_count": null,
   "metadata": {
    "collapsed": true
   },
   "outputs": [],
   "source": [
    "# I decided to remove only the top 20% of words since we're dealing with a relatively small dataset here. Also words that occur less than 2 times are removed."
   ]
  },
  {
   "cell_type": "code",
   "execution_count": 40,
   "metadata": {
    "collapsed": false
   },
   "outputs": [
    {
     "name": "stderr",
     "output_type": "stream",
     "text": [
      "/root/anaconda3/lib/python3.5/site-packages/ipykernel/__main__.py:3: SettingWithCopyWarning: \n",
      "A value is trying to be set on a copy of a slice from a DataFrame.\n",
      "Try using .loc[row_indexer,col_indexer] = value instead\n",
      "\n",
      "See the caveats in the documentation: http://pandas.pydata.org/pandas-docs/stable/indexing.html#indexing-view-versus-copy\n",
      "  app.launch_new_instance()\n"
     ]
    }
   ],
   "source": [
    "#Make a BOW for every document\n",
    "def document_to_bow(df):\n",
    "    df['bow'] = list(map(lambda doc: dictionary.doc2bow(doc), df.stemmed_text))\n",
    "    \n",
    "document_to_bow(oaks_rev_train_df)"
   ]
  },
  {
   "cell_type": "code",
   "execution_count": 41,
   "metadata": {
    "collapsed": true
   },
   "outputs": [],
   "source": [
    "# we make a function for lda_preprocessing\n",
    "def lda_preprocessing(df):\n",
    "    \"\"\" All the preprocessing steps for LDA are combined in this function.\n",
    "    All mutations are done on the dataframe itself. So this function returns\n",
    "    nothing.\n",
    "    \"\"\"\n",
    "    lda_get_good_tokens(df)\n",
    "    stem_words(df)\n",
    "    document_to_bow(df)"
   ]
  },
  {
   "cell_type": "code",
   "execution_count": 43,
   "metadata": {
    "collapsed": true
   },
   "outputs": [],
   "source": [
    "#VISUALISE THE cleaned word frequencies"
   ]
  },
  {
   "cell_type": "code",
   "execution_count": null,
   "metadata": {
    "collapsed": true
   },
   "outputs": [],
   "source": [
    "# before using LDA and Word2Vec,would like to visualize the cleansed results and see what was created so far"
   ]
  },
  {
   "cell_type": "code",
   "execution_count": 42,
   "metadata": {
    "collapsed": true
   },
   "outputs": [],
   "source": [
    "cleansed_words_df = pd.DataFrame.from_dict(dictionary.token2id, orient='index')\n",
    "cleansed_words_df.rename(columns={0: 'id'}, inplace=True)\n",
    "\n",
    "cleansed_words_df['count'] = list(map(lambda id_: dictionary.dfs.get(id_), cleansed_words_df.id))\n",
    "del cleansed_words_df['id']"
   ]
  },
  {
   "cell_type": "code",
   "execution_count": 43,
   "metadata": {
    "collapsed": true
   },
   "outputs": [],
   "source": [
    "cleansed_words_df.sort_values('count', ascending=False, inplace=True)\n"
   ]
  },
  {
   "cell_type": "code",
   "execution_count": 44,
   "metadata": {
    "collapsed": false
   },
   "outputs": [
    {
     "data": {
      "image/png": "[encoded data removed]",
      "text/plain": [
       "<matplotlib.figure.Figure at 0x7faf9dd65828>"
      ]
     },
     "metadata": {},
     "output_type": "display_data"
    }
   ],
   "source": [
    "ax = word_frequency_barplot(cleansed_words_df)\n",
    "ax.set_title(\"Document Frequencies (Number of documents a word appears in)\", fontsize=16);"
   ]
  },
  {
   "cell_type": "code",
   "execution_count": null,
   "metadata": {
    "collapsed": true
   },
   "outputs": [],
   "source": [
    "# see how often each of the topics used these words in the plot above and see if we can find something interesting."
   ]
  },
  {
   "cell_type": "code",
   "execution_count": 45,
   "metadata": {
    "collapsed": false
   },
   "outputs": [],
   "source": [
    "Experience_words = list(np.concatenate(oaks_rev_train_df.loc[oaks_rev_train_df.topic == 'Experience', 'stemmed_text'].values))\n",
    "Value_words = list(np.concatenate(oaks_rev_train_df.loc[oaks_rev_train_df.topic == 'Value', 'stemmed_text'].values))\n",
    "Location_words = list(np.concatenate(oaks_rev_train_df.loc[oaks_rev_train_df.topic == 'Location', 'stemmed_text'].values))\n",
    "Amenities_words = list(np.concatenate(oaks_rev_train_df.loc[oaks_rev_train_df.topic == 'Amenities', 'stemmed_text'].values))\n",
    "Transactions_words = list(np.concatenate(oaks_rev_train_df.loc[oaks_rev_train_df.topic == 'Transactions', 'stemmed_text'].values))"
   ]
  },
  {
   "cell_type": "code",
   "execution_count": null,
   "metadata": {
    "collapsed": true
   },
   "outputs": [],
   "source": [
    "'Experience', 'Value', 'Location', 'Amenities', 'Transactions'"
   ]
  },
  {
   "cell_type": "code",
   "execution_count": 46,
   "metadata": {
    "collapsed": true
   },
   "outputs": [],
   "source": [
    "Experience_words_frequencies = {word: Experience_words.count(word) for word in cleansed_words_df.index[:50]}\n",
    "Value_words_frequencies = {word: Value_words.count(word) for word in cleansed_words_df.index[:50]}\n",
    "Location_words_frequencies = {word: Location_words.count(word) for word in cleansed_words_df.index[:50]}\n",
    "Amenities_words_frequencies = {word: Amenities_words.count(word) for word in cleansed_words_df.index[:50]}\n",
    "Transactions_words_frequencies = {word: Transactions_words.count(word) for word in cleansed_words_df.index[:50]}"
   ]
  },
  {
   "cell_type": "code",
   "execution_count": 47,
   "metadata": {
    "collapsed": true
   },
   "outputs": [],
   "source": [
    "frequencies_df = pd.DataFrame(index=cleansed_words_df.index[:50])"
   ]
  },
  {
   "cell_type": "code",
   "execution_count": 48,
   "metadata": {
    "collapsed": true
   },
   "outputs": [],
   "source": [
    "frequencies_df['Experience_freq'] = list(map(lambda word:\n",
    "                                      Experience_words_frequencies[word],\n",
    "                                      frequencies_df.index))\n",
    "frequencies_df['Experience_Value_freq'] = list(map(lambda word:\n",
    "                                          Experience_words_frequencies[word] + Value_words_frequencies[word],\n",
    "                                          frequencies_df.index))\n",
    "frequencies_df['Experience_Value_Location_freq'] = list(map(lambda word:\n",
    "                                                   Experience_words_frequencies[word] + Value_words_frequencies[word] + Location_words_frequencies[word],\n",
    "                                                   frequencies_df.index))\n",
    "frequencies_df['Experience_Value_Location_Amenities_freq'] = list(map(lambda word:\n",
    "                                                              Experience_words_frequencies[word] + Value_words_frequencies[word] + Location_words_frequencies[word]+Amenities_words_frequencies[word],\n",
    "                                                              frequencies_df.index))\n",
    "frequencies_df['Experience_Value_Location_Amenities_Transactions_freq'] = list(map(lambda word:\n",
    "                                                                          Experience_words_frequencies[word] + Value_words_frequencies[word] + Location_words_frequencies[word]+Amenities_words_frequencies[word]+Transactions_words_frequencies[word],\n",
    "                                                                          frequencies_df.index))                                            \n"
   ]
  },
  {
   "cell_type": "code",
   "execution_count": 49,
   "metadata": {
    "collapsed": false
   },
   "outputs": [
    {
     "data": {
      "image/png": "[encoded data removed]",
      "text/plain": [
       "<matplotlib.figure.Figure at 0x7faf9abd5ba8>"
      ]
     },
     "metadata": {},
     "output_type": "display_data"
    }
   ],
   "source": [
    "fig, ax = plt.subplots(1,1,figsize=(20,5))\n",
    "\n",
    "nr_top_words = len(frequencies_df)\n",
    "nrs = list(range(nr_top_words))\n",
    "sns.barplot(nrs, frequencies_df['Experience_Value_Location_Amenities_Transactions_freq'].values, color='b', ax=ax, label=\"Transactions\")\n",
    "sns.barplot(nrs, frequencies_df['Experience_Value_Location_Amenities_freq'].values, color='g', ax=ax, label=\"Amenities\")\n",
    "sns.barplot(nrs, frequencies_df['Experience_Value_Location_freq'].values, color='r', ax=ax, label=\"Location\")\n",
    "sns.barplot(nrs, frequencies_df['Experience_Value_freq'].values, color='y', ax=ax, label=\"Value\")\n",
    "sns.barplot(nrs, frequencies_df['Experience_freq'].values, color='m', ax=ax, label=\"Experience\")\n",
    "\n",
    "ax.set_title(\"Word frequencies per topic\", fontsize=16)\n",
    "ax.legend(prop={'size': 16})\n",
    "ax.set_xticks(nrs)\n",
    "ax.set_xticklabels(frequencies_df.index, fontsize=14, rotation=90);"
   ]
  },
  {
   "cell_type": "code",
   "execution_count": null,
   "metadata": {
    "collapsed": true
   },
   "outputs": [],
   "source": [
    "#LDA training"
   ]
  },
  {
   "cell_type": "code",
   "execution_count": 50,
   "metadata": {
    "collapsed": true
   },
   "outputs": [],
   "source": [
    "corpus = oaks_rev_train_df.bow"
   ]
  },
  {
   "cell_type": "code",
   "execution_count": 51,
   "metadata": {
    "collapsed": false
   },
   "outputs": [
    {
     "name": "stdout",
     "output_type": "stream",
     "text": [
      "CPU times: user 8.97 s, sys: 1.77 s, total: 10.7 s\n",
      "Wall time: 10.6 s\n"
     ]
    }
   ],
   "source": [
    "%%time\n",
    "num_topics = 150\n",
    "#A multicore approach to decrease training time\n",
    "LDAmodel = LdaMulticore(corpus=corpus,\n",
    "                        id2word=dictionary,\n",
    "                        num_topics=num_topics,\n",
    "                        workers=4,\n",
    "                        chunksize=4000,\n",
    "                        passes=7,\n",
    "                        alpha='asymmetric')"
   ]
  },
  {
   "cell_type": "code",
   "execution_count": null,
   "metadata": {
    "collapsed": true
   },
   "outputs": [],
   "source": [
    "# LDA topic inspection"
   ]
  },
  {
   "cell_type": "code",
   "execution_count": 52,
   "metadata": {
    "collapsed": false
   },
   "outputs": [
    {
     "name": "stderr",
     "output_type": "stream",
     "text": [
      "/root/anaconda3/lib/python3.5/site-packages/ipykernel/__main__.py:12: SettingWithCopyWarning: \n",
      "A value is trying to be set on a copy of a slice from a DataFrame.\n",
      "Try using .loc[row_indexer,col_indexer] = value instead\n",
      "\n",
      "See the caveats in the documentation: http://pandas.pydata.org/pandas-docs/stable/indexing.html#indexing-view-versus-copy\n"
     ]
    }
   ],
   "source": [
    "def document_to_lda_features(lda_model, document):\n",
    "    \"\"\" Transforms a bag of words document to features.\n",
    "    It returns the proportion of how much each topic was\n",
    "    present in the document.\n",
    "    \"\"\"\n",
    "    topic_importances = LDAmodel.get_document_topics(document, minimum_probability=0)\n",
    "    topic_importances = np.array(topic_importances)\n",
    "    return topic_importances[:,1]\n",
    "\n",
    "oaks_rev_train_df['lda_features'] = list(map(lambda doc:\n",
    "                                      document_to_lda_features(LDAmodel, doc),\n",
    "                                      oaks_rev_train_df.bow))"
   ]
  },
  {
   "cell_type": "code",
   "execution_count": null,
   "metadata": {
    "collapsed": true
   },
   "outputs": [],
   "source": [
    "# Now let's continue with the topic's individual topic distributions and let's see some words that come with the topics"
   ]
  },
  {
   "cell_type": "code",
   "execution_count": null,
   "metadata": {
    "collapsed": true
   },
   "outputs": [],
   "source": [
    "# Experience_Value_Location_Amenities_Transactions"
   ]
  },
  {
   "cell_type": "code",
   "execution_count": 53,
   "metadata": {
    "collapsed": true
   },
   "outputs": [],
   "source": [
    "Experience_topic_distribution = oaks_rev_train_df.loc[oaks_rev_train_df.topic == 'Experience', 'lda_features'].mean()\n",
    "Value_topic_distribution = oaks_rev_train_df.loc[oaks_rev_train_df.topic == 'Value', 'lda_features'].mean()\n",
    "Location_topic_distribution = oaks_rev_train_df.loc[oaks_rev_train_df.topic == 'Location', 'lda_features'].mean()\n",
    "Amenities_topic_distribution = oaks_rev_train_df.loc[oaks_rev_train_df.topic == 'Amenities', 'lda_features'].mean()\n",
    "Transactions_topic_distribution = oaks_rev_train_df.loc[oaks_rev_train_df.topic == 'Transactions', 'lda_features'].mean()"
   ]
  },
  {
   "cell_type": "code",
   "execution_count": 54,
   "metadata": {
    "collapsed": false
   },
   "outputs": [
    {
     "data": {
      "image/png": "[encoded data removed]",
      "text/plain": [
       "<matplotlib.figure.Figure at 0x7faf9abecb70>"
      ]
     },
     "metadata": {},
     "output_type": "display_data"
    }
   ],
   "source": [
    "fig, [ax1,ax2,ax3,ax4,ax5] = plt.subplots(5,1,figsize=(20,10))\n",
    "\n",
    "nr_top_bars = 5\n",
    "\n",
    "ax1.set_title(\"Experience_topic_distributions\", fontsize=16)\n",
    "ax2.set_title(\"Value_topic_distributions\", fontsize=16)\n",
    "ax3.set_title(\"Location_topic_distributions\", fontsize=16)\n",
    "ax4.set_title(\"Amenities_topic_distributions\", fontsize=16)\n",
    "ax5.set_title(\"Transactions_topic_distributions\", fontsize=16)\n",
    "ax5.text(-10, 0.04, \"Average Probability of Topic\", fontsize=30, ha=\"center\", va=\"center\",\n",
    "         rotation=\"vertical\")\n",
    "\n",
    "for ax, distribution, color in zip([ax1,ax2,ax3,ax4,ax5],\n",
    "                                   [Experience_topic_distribution,Value_topic_distribution,Location_topic_distribution,Amenities_topic_distribution,Transactions_topic_distribution],\n",
    "                                   ['b','g','r','y','m']):\n",
    "    # Individual distribution barplots\n",
    "    ax.bar(range(len(distribution)), distribution, alpha=0.7)\n",
    "    rects = ax.patches\n",
    "    for i in np.argsort(distribution)[-nr_top_bars:]:\n",
    "        rects[i].set_color(color)\n",
    "        rects[i].set_alpha(1)\n",
    "    # General plotting adjustments\n",
    "    ax.set_xlim(-1, 150)\n",
    "    ax.set_xticks(range(20,149,20))\n",
    "    ax.set_xticklabels(range(20,149,20), fontsize=16)\n",
    "    ax.set_ylim(0,0.02)\n",
    "    ax.set_yticks([0,0.01,0.02])\n",
    "    ax.set_yticklabels([0,0.01,0.02], fontsize=16)\n",
    "\n",
    "fig.tight_layout(h_pad=3.)"
   ]
  },
  {
   "cell_type": "code",
   "execution_count": null,
   "metadata": {
    "collapsed": true
   },
   "outputs": [],
   "source": [
    "# Let's have a look at what words these top topics contain."
   ]
  },
  {
   "cell_type": "code",
   "execution_count": 55,
   "metadata": {
    "collapsed": true
   },
   "outputs": [],
   "source": [
    "def get_topic_top_words(lda_model, topic_id, nr_top_words=5):\n",
    "    \"\"\" Returns the top words for topic_id from lda_model.\n",
    "    \"\"\"\n",
    "    id_tuples = lda_model.get_topic_terms(topic_id, topn=nr_top_words)\n",
    "    word_ids = np.array(id_tuples)[:,0]\n",
    "    words = map(lambda id_: lda_model.id2word[id_], word_ids)\n",
    "    return words"
   ]
  },
  {
   "cell_type": "code",
   "execution_count": 56,
   "metadata": {
    "collapsed": false
   },
   "outputs": [
    {
     "name": "stdout",
     "output_type": "stream",
     "text": [
      "Looking up top words from top topics from Experience.\n",
      "For topic 0, the top words are: view, walk, facil, check, shop.\n",
      "For topic 2, the top words are: room, staff, help, desk, servic.\n",
      "For topic 3, the top words are: hotel, bed, clean, comfort, not.\n",
      "For topic 4, the top words are: not, valu, work, money, night.\n",
      "For topic 11, the top words are: great, staff, locat, friendli, close.\n",
      "\n",
      "Looking up top words from top topics from Value.\n",
      "For topic 0, the top words are: view, walk, facil, check, shop.\n",
      "For topic 1, the top words are: not, park, air, pay, spa.\n",
      "For topic 2, the top words are: room, staff, help, desk, servic.\n",
      "For topic 3, the top words are: hotel, bed, clean, comfort, not.\n",
      "For topic 4, the top words are: not, valu, work, money, night.\n",
      "\n",
      "Looking up top words from top topics from Location.\n",
      "For topic 0, the top words are: view, walk, facil, check, shop.\n",
      "For topic 1, the top words are: not, park, air, pay, spa.\n",
      "For topic 2, the top words are: room, staff, help, desk, servic.\n",
      "For topic 7, the top words are: locat, good, size, peopl, machin.\n",
      "For topic 11, the top words are: great, staff, locat, friendli, close.\n",
      "\n",
      "Looking up top words from top topics from Amenities.\n",
      "For topic 0, the top words are: view, walk, facil, check, shop.\n",
      "For topic 1, the top words are: not, park, air, pay, spa.\n",
      "For topic 2, the top words are: room, staff, help, desk, servic.\n",
      "For topic 3, the top words are: hotel, bed, clean, comfort, not.\n",
      "For topic 5, the top words are: stay, pool, would, gym, definit.\n",
      "\n",
      "Looking up top words from top topics from Transactions.\n",
      "For topic 0, the top words are: view, walk, facil, check, shop.\n",
      "For topic 1, the top words are: not, park, air, pay, spa.\n",
      "For topic 2, the top words are: room, staff, help, desk, servic.\n",
      "For topic 3, the top words are: hotel, bed, clean, comfort, not.\n",
      "For topic 4, the top words are: not, valu, work, money, night.\n",
      "\n"
     ]
    }
   ],
   "source": [
    "for topic, distribution in zip(['Experience','Value','Location','Amenities','Transactions'], [Experience_topic_distribution,Value_topic_distribution,Location_topic_distribution,Amenities_topic_distribution,Transactions_topic_distribution]):\n",
    "    print(\"Looking up top words from top topics from {}.\".format(topic))\n",
    "    for x in sorted(np.argsort(distribution)[-5:]):\n",
    "        top_words = get_topic_top_words(LDAmodel, x)\n",
    "        print(\"For topic {}, the top words are: {}.\".format(x, \", \".join(top_words)))\n",
    "    print(\"\")"
   ]
  },
  {
   "cell_type": "code",
   "execution_count": 57,
   "metadata": {
    "collapsed": true
   },
   "outputs": [],
   "source": [
    "def show_image(base64_encoded_image):\n",
    "    \"\"\" Decodes a base64 encoded image and plots it.\n",
    "    \"\"\"\n",
    "    fig, ax = plt.subplots(figsize=(10,10))\n",
    "\n",
    "    decoded_image = base64.b64decode(base64_encoded_image)\n",
    "    img = io.BytesIO(decoded_image)\n",
    "    img = mpimg.imread(img, format='PNG')\n",
    "\n",
    "    ax.imshow(img)\n",
    "    ax.axis('off');"
   ]
  },
  {
   "cell_type": "code",
   "execution_count": null,
   "metadata": {
    "collapsed": true
   },
   "outputs": [],
   "source": [
    "# Word2Vec training"
   ]
  },
  {
   "cell_type": "code",
   "execution_count": 58,
   "metadata": {
    "collapsed": false
   },
   "outputs": [
    {
     "data": {
      "text/plain": [
       "topic              object\n",
       "word               object\n",
       "lifecycle          object\n",
       "tokenized_text     object\n",
       "lemmatized_text    object\n",
       "stemmed_text       object\n",
       "bow                object\n",
       "lda_features       object\n",
       "dtype: object"
      ]
     },
     "execution_count": 58,
     "metadata": {},
     "output_type": "execute_result"
    }
   ],
   "source": [
    "oaks_rev_train_df.dtypes"
   ]
  },
  {
   "cell_type": "code",
   "execution_count": 59,
   "metadata": {
    "collapsed": false
   },
   "outputs": [
    {
     "name": "stderr",
     "output_type": "stream",
     "text": [
      "/root/anaconda3/lib/python3.5/site-packages/ipykernel/__main__.py:1: SettingWithCopyWarning: \n",
      "A value is trying to be set on a copy of a slice from a DataFrame.\n",
      "Try using .loc[row_indexer,col_indexer] = value instead\n",
      "\n",
      "See the caveats in the documentation: http://pandas.pydata.org/pandas-docs/stable/indexing.html#indexing-view-versus-copy\n",
      "  if __name__ == '__main__':\n"
     ]
    }
   ],
   "source": [
    "oaks_rev_train_df[\"tokenized_sentences\"] = oaks_rev_train_df[\"word\"]"
   ]
  },
  {
   "cell_type": "code",
   "execution_count": 60,
   "metadata": {
    "collapsed": false
   },
   "outputs": [
    {
     "data": {
      "text/plain": [
       "69                     towels\n",
       "195                      book\n",
       "44                     nights\n",
       "304    room clean comfortable\n",
       "87                    awesome\n",
       "221                front desk\n",
       "100                 good room\n",
       "306                     clean\n",
       "190          walking distance\n",
       "353                everything\n",
       "Name: tokenized_sentences, dtype: object"
      ]
     },
     "execution_count": 60,
     "metadata": {},
     "output_type": "execute_result"
    }
   ],
   "source": [
    "oaks_rev_train_df[\"tokenized_sentences\"].head(10)"
   ]
  },
  {
   "cell_type": "code",
   "execution_count": 61,
   "metadata": {
    "collapsed": false
   },
   "outputs": [
    {
     "data": {
      "text/plain": [
       "(482,)"
      ]
     },
     "execution_count": 61,
     "metadata": {},
     "output_type": "execute_result"
    }
   ],
   "source": [
    "oaks_rev_train_df[\"tokenized_sentences\"].shape"
   ]
  },
  {
   "cell_type": "code",
   "execution_count": 62,
   "metadata": {
    "collapsed": false
   },
   "outputs": [
    {
     "data": {
      "text/plain": [
       "69                        towels\n",
       "195                         book\n",
       "44                        nights\n",
       "304       room clean comfortable\n",
       "87                       awesome\n",
       "221                   front desk\n",
       "100                    good room\n",
       "306                        clean\n",
       "190             walking distance\n",
       "353                   everything\n",
       "418         weeks ago paid night\n",
       "177                     shopping\n",
       "520              no room service\n",
       "252                       modern\n",
       "179                        shops\n",
       "202                      checked\n",
       "457    staff friendly room clean\n",
       "135              staff excellent\n",
       "167                location walk\n",
       "94                       concern\n",
       "314                        close\n",
       "254            modern facilities\n",
       "557                 bathroom not\n",
       "530                         look\n",
       "401                not play golf\n",
       "80         apartment comfortable\n",
       "286            great great staff\n",
       "344             beds single beds\n",
       "52                      pool spa\n",
       "459                    room nice\n",
       "                 ...            \n",
       "587                          bad\n",
       "123                   nice clean\n",
       "545               hotel location\n",
       "245                     facility\n",
       "257                      offered\n",
       "283                    room room\n",
       "567                       access\n",
       "28                           gym\n",
       "67                   toileteries\n",
       "5                airport shuttle\n",
       "142                        views\n",
       "328             front desk staff\n",
       "417                tried no luck\n",
       "365               free wi-fi not\n",
       "216                     entrance\n",
       "599                      arrived\n",
       "358                          day\n",
       "547                    hotel not\n",
       "103                  great great\n",
       "130               room excellent\n",
       "393        pay daily credit card\n",
       "97          excellent facilities\n",
       "334          great location walk\n",
       "176                       resort\n",
       "370        behind us not cleared\n",
       "239                      upgrade\n",
       "535                         best\n",
       "310                          bed\n",
       "232                      payment\n",
       "194                      arrival\n",
       "Name: tokenized_sentences, dtype: object"
      ]
     },
     "execution_count": 62,
     "metadata": {},
     "output_type": "execute_result"
    }
   ],
   "source": [
    "oaks_rev_train_df.tokenized_sentences"
   ]
  },
  {
   "cell_type": "code",
   "execution_count": 63,
   "metadata": {
    "collapsed": false
   },
   "outputs": [
    {
     "name": "stdout",
     "output_type": "stream",
     "text": [
      "Number of sentences: 482.\n",
      "Number of texts: 482.\n",
      "['towels', 'book', 'nights', 'room clean comfortable', 'awesome', 'front desk', 'good room', 'clean', 'walking distance', 'everything', 'weeks ago paid night', 'shopping', 'no room service', 'modern', 'shops', 'checked', 'staff friendly room clean', 'staff excellent', 'location walk', 'concern', 'close', 'modern facilities', 'bathroom not', 'look', 'not play golf', 'apartment comfortable', 'great great staff', 'beds single beds', 'pool spa', 'room nice', 'car parking', 'public transport', 'great location', 'nearby', 'casino', 'overall', 'location close', 'excellent', 'nice view', 'air cons power', 'apartment two room apartment', 'sofa bed', 'luxury', 'hotel', 'hotel staff friendly', 'overcharged', 'assistance tv not not', 'location friendly', 'apartment spacious', 'clean room', 'friendly staff', 'priced', 'pool gym', 'not location', 'bed not', 'front desk staff', 'great room', 'hotels', 'experience', 'no exhaust fan bathroom', 'minibar', 'great friendly', 'room view', 'gym pool', 'reception', 'price', 'good value money', 'everything great home', 'review hotel', 'view amazing', 'fridge', 'early check no', 'taxi', 'traffic', 'room staff friendly', 'overnight', 'shuttle bus', 'another shot', 'spa', 'air conditioner not work', 'save', 'food', 'please email', 'hotel room', 'offer', 'charged', 'one bedroom apartment', 'transport', 'rooms', 'location room', 'apartment view', 'close airport', 'car park not', 'bed comfortable', 'new', 'great close', 'location shops', 'dirty', 'comfortable bed', 'staying', 'park', 'modern facilities', 'concierge', 'beach', 'place', 'room comfortable', 'sale', 'location fantastic', 'kitchen', 'not hotel', 'amazing view', 'not stay hotel', 'comfy', 'internet', 'helpful staff', 'great value money', 'hotel great', 'could hear', 'bar', 'not great', 'longer', 'pillows', 'quite', 'street', 'booking', 'great staff helpful', 'check', 'mini bar', 'harbor', 'credit', 'easy walking', 'bed provided comfortable spacious', 'fantastic', 'rooms clean staff helpful', 'never', 'room service', 'friendly staff great', 'dishwasher', 'control not work', 'living area second bedroom', 'prices', 'barbeque', 'value', 'convenient', 'room comfortable', 'room small', 'metro', 'staff friendly room', 'not get', 'great location close', 'room comfortable good facilities', 'shuttle bus', 'road', 'longer', 'suites', 'nothing location', 'traffic noise main bedroom', 'view room', 'cheap', 'staff location', 'washing machine', 'great facilities', 'room', 'not working', 'disagree mirrors not clean', 'not even', 'value money', 'view', 'aggressively get new keys', 'buffet', 'tv', 'hotel staff', 'staff not', 'friendly location', 'morning', 'spacious apartment nice balcony', 'staff friendly helpful room', 'facilities', 'could not get', 'great', 'higher floor not told', 'people', 'late', 'find', 'check-out', 'space', 'staff helpful', 'traveler type quiz', 'close central station', 'location close shops', 'room clean staff', 'one sofa bed not', 'two bedroom apartment', 'expensive', 'non-smoking', 'paying', 'pay', 'bedroom', 'parking', 'no room', 'not work reception', 'air conditioner', 'staff manager receptionist', 'microwave', 'showers', 'near', 'highly recommend', 'great experience great', 'room not', 'no room service', 'good good', 'location good size', 'free wi-fi cable wall', 'building', 'would stay', 'room spacious', 'location perfect', 'main air-conditioner not work', 'staff helpful friendly', 'early', 'would definitely', 'facility', 'room bed', 'bus', 'busy', 'friendly helpful', 'perfect', 'parking', 'location', 'amazing', 'staff apartment', 'air conditioning not', 'family', 'beautiful', 'would definitely stay', 'payment', 'bed room', 'apartments', 'booked', 'room views', 'great location good', 'rail', 'resort loved loved', 'friend get bed bed', 'clean staff friendly', 'guests', 'pay', 'hotel staff friendly', 'staff helpful room', 'nothing', 'spa', 'station', 'great friendly staff', 'room could not', 'hot', 'luxurious', 'offside room bath', 'location good', 'sauna', 'offers', 'dishwasher', 'beds', 'coffee', 'great location close station', 'little', 'room great', 'credit card not', 'car parking', 'loved', 'wife', 'road', 'tv', 'great location friendly staff', 'great stay', 'room good', 'stayed', 'high', 'golf', 'coffee machine', 'comfortable room', 'well', 'wifi', 'today learned', 'great location good', 'need', 'away', 'great location friendly', 'wifi', 'air conditioner', 'helpful', 'non-smoking', 'available', 'guest review hotel', 'central station', 'halls not receptionist one', 'not coming back', 'room amazing', 'great great service', 'not match room', 'night stay', 'wi-fi', 'toileteries', 'outside', 'dryer', 'available', 'laundry', 'shuttle', 'early', 'great hotel', 'room modern', 'close airport', 'stored luggage check late', 'air conditioning not', 'laundry', 'stay', 'checkout', 'great place stay', 'front desk', 'car park', 'train station', 'poor', 'pool area', 'enjoyed', 'quiet', 'could not fault room', 'staff clean', 'within walking', 'apartment spacious', 'concert', 'free wifi', 'service', 'charge', 'easy walking distance', 'room staff', 'pool', 'location walking distance', 'definitely', 'concierge', 'location staff', 'counter', 'great value', 'parking not', 'hotel great location', 'bedroom apartment', 'wi-fi', 'microwave', 'facilities', 'view amazing', 'suites street', 'walk', 'would recommend', 'people', 'location great', 'great location', 'coffee machine', 'apartment view', 'metro', 'friendly staff clean', 'love', 'service great great', 'comfortable', 'welcoming', 'room needs location', 'not like', 'smoke', 'dryer', 'great view', 'near', 'within', 'apartment clean', 'spa facility spa not', 'small', 'easy walk', 'good value', 'air', 'best hotel hotel want', 'mini bar', 'distance', 'room could', 'pleasant', 'good', 'area', 'walking', 'lovely', 'sofa bed', 'smoking', 'clean comfortable', 'air con', 'swimming pool', 'expensive', 'fire evacuate building', 'bond put credit card', 'included', 'swimming pool', 'water', 'good location', 'thanks', 'restaurant', 'not work not', 'got late check cleaners', 'great location close station', 'ocean view', 'nice room', 'location shopping', 'not stay', 'everything attending family close', 'desk', 'within walking distance', 'time', 'late check', 'city', 'guest review', 'noisy', 'great view', 'location location', 'location shops', 'free', 'washing machine', 'absolutely nothing location location', 'despite applied marketing spin', 'size', 'review', 'golf', 'washing machine dryer', 'checking', 'accommodation', 'upgraded', 'staff great location', 'apartment clean', 'comfortable great', 'desk staff', 'room location', 'friendly staff clean', 'gym', 'insulation room not good', 'staff great', 'would highly recommend', 'paying', 'friendly staff easy check', 'counter', 'friendly staff location', 'room quite', 'close central station easy', 'property', 'like', 'room room studio', 'paid', 'restaurants', 'bars', 'old', 'town', 'staff friendly', 'bad', 'nice clean', 'hotel location', 'facility', 'offered', 'room room', 'access', 'gym', 'toileteries', 'airport shuttle', 'views', 'front desk staff', 'tried no luck', 'free wi-fi not', 'entrance', 'arrived', 'day', 'hotel not', 'great great', 'room excellent', 'pay daily credit card', 'excellent facilities', 'great location walk', 'resort', 'behind us not cleared', 'upgrade', 'best', 'bed', 'payment', 'arrival']\n"
     ]
    }
   ],
   "source": [
    "sentences = []\n",
    "for sentence_group in oaks_rev_train_df.tokenized_sentences:\n",
    "    sentences.append(sentence_group)\n",
    "\n",
    "print(\"Number of sentences: {}.\".format(len(sentences)))\n",
    "print(\"Number of texts: {}.\".format(len(oaks_rev_train_df)))\n",
    "print(sentences)"
   ]
  },
  {
   "cell_type": "code",
   "execution_count": 64,
   "metadata": {
    "collapsed": false
   },
   "outputs": [
    {
     "name": "stdout",
     "output_type": "stream",
     "text": [
      "CPU times: user 102 ms, sys: 23.5 ms, total: 126 ms\n",
      "Wall time: 115 ms\n"
     ]
    }
   ],
   "source": [
    "%%time\n",
    "# Set values for various parameters\n",
    "num_features = 200    # Word vector dimensionality\n",
    "min_word_count = 3    # Minimum word count\n",
    "num_workers = 4       # Number of threads to run in parallel\n",
    "context = 6           # Context window size\n",
    "downsampling = 1e-3   # Downsample setting for frequent words\n",
    "\n",
    "# Initialize and train the model\n",
    "W2Vmodel = Word2Vec(sentences=sentences,\n",
    "                    sg=1,\n",
    "                    hs=0,\n",
    "                    workers=num_workers,\n",
    "                    size=num_features,\n",
    "                    min_count=min_word_count,\n",
    "                    window=context,\n",
    "                    sample=downsampling,\n",
    "                    negative=5,\n",
    "                    iter=6)"
   ]
  },
  {
   "cell_type": "code",
   "execution_count": 65,
   "metadata": {
    "collapsed": false
   },
   "outputs": [
    {
     "data": {
      "text/plain": [
       "'arrival'"
      ]
     },
     "execution_count": 65,
     "metadata": {},
     "output_type": "execute_result"
    }
   ],
   "source": [
    "sentence_group"
   ]
  },
  {
   "cell_type": "code",
   "execution_count": 64,
   "metadata": {
    "collapsed": true
   },
   "outputs": [],
   "source": [
    "#create the word2vec features."
   ]
  },
  {
   "cell_type": "code",
   "execution_count": 66,
   "metadata": {
    "collapsed": false
   },
   "outputs": [
    {
     "name": "stderr",
     "output_type": "stream",
     "text": [
      "/root/anaconda3/lib/python3.5/site-packages/ipykernel/__main__.py:16: DeprecationWarning: Call to deprecated `__getitem__` (Method will be removed in 4.0.0, use self.wv.__getitem__() instead).\n",
      "/root/anaconda3/lib/python3.5/site-packages/ipykernel/__main__.py:26: SettingWithCopyWarning: \n",
      "A value is trying to be set on a copy of a slice from a DataFrame.\n",
      "Try using .loc[row_indexer,col_indexer] = value instead\n",
      "\n",
      "See the caveats in the documentation: http://pandas.pydata.org/pandas-docs/stable/indexing.html#indexing-view-versus-copy\n"
     ]
    }
   ],
   "source": [
    "def get_w2v_features(w2v_model, sentence_group):\n",
    "    \"\"\" Transform a sentence_group (containing multiple lists\n",
    "    of words) into a feature vector. It averages out all the\n",
    "    word vectors of the sentence_group.\n",
    "    \"\"\"\n",
    "    words = np.hstack(sentence_group)  # words in word\n",
    "    index2word_set = set(w2v_model.wv.vocab.keys())  # words known to model\n",
    "    \n",
    "    featureVec = np.zeros(w2v_model.vector_size, dtype=\"float32\")\n",
    "    \n",
    "    # Initialize a counter for number of words in a review\n",
    "    nwords = 0\n",
    "    # Loop over each word in the comment and, if it is in the model's vocabulary, add its feature vector to the total\n",
    "    for word in words:\n",
    "        if word in index2word_set: \n",
    "            featureVec = np.add(featureVec, w2v_model[word])\n",
    "            nwords += 1.\n",
    "\n",
    "    # Divide the result by the number of words to get the average\n",
    "    if nwords > 0:\n",
    "        featureVec = np.divide(featureVec, nwords)\n",
    "    return featureVec\n",
    "\n",
    "oaks_rev_train_df['w2v_features'] = list(map(lambda sen_group:\n",
    "                                      get_w2v_features(W2Vmodel, sen_group),\n",
    "                                      oaks_rev_train_df.tokenized_sentences))"
   ]
  },
  {
   "cell_type": "code",
   "execution_count": 67,
   "metadata": {
    "collapsed": true
   },
   "outputs": [],
   "source": [
    "Experience_w2v_distribution = oaks_rev_train_df.loc[oaks_rev_train_df.topic == 'Experience', 'w2v_features'].mean()\n",
    "Value_w2v_distribution = oaks_rev_train_df.loc[oaks_rev_train_df.topic == 'Value', 'w2v_features'].mean()\n",
    "Location_w2v_distribution = oaks_rev_train_df.loc[oaks_rev_train_df.topic == 'Location', 'w2v_features'].mean()\n",
    "Amenities_w2v_distribution = oaks_rev_train_df.loc[oaks_rev_train_df.topic == 'Amenities', 'w2v_features'].mean()\n",
    "Transactions_w2v_distribution = oaks_rev_train_df.loc[oaks_rev_train_df.topic == 'Transactions', 'w2v_features'].mean()"
   ]
  },
  {
   "cell_type": "code",
   "execution_count": 68,
   "metadata": {
    "collapsed": false
   },
   "outputs": [
    {
     "data": {
      "image/png": "[encoded data removed]",
      "text/plain": [
       "<matplotlib.figure.Figure at 0x7faf9ab9a550>"
      ]
     },
     "metadata": {},
     "output_type": "display_data"
    }
   ],
   "source": [
    "fig, [ax1,ax2,ax3,ax4,ax5] = plt.subplots(5,1,figsize=(20,10))\n",
    "\n",
    "nr_top_bars = 5\n",
    "\n",
    "ax1.set_title(\"Experience w2v feature distributions\", fontsize=16)\n",
    "ax2.set_title(\"Value w2v feature distributions\", fontsize=16)\n",
    "ax3.set_title(\"Location w2v feature distributions\", fontsize=16)\n",
    "ax4.set_title(\"Amenities w2v feature distributions\", fontsize=16)\n",
    "ax5.set_title(\"Transactions w2v feature distributions\", fontsize=16)\n",
    "ax5.text(-10, 2.3, \"Average feature vectors\", fontsize=30, ha=\"center\", va=\"center\", rotation=\"vertical\")\n",
    "\n",
    "for ax, distribution, color in zip([ax1,ax2,ax3,ax4,ax5], [Experience_w2v_distribution,Value_w2v_distribution,Location_w2v_distribution,Amenities_w2v_distribution,Transactions_w2v_distribution], ['b','g','r','y','m']):\n",
    "    # Individual distribution barplots\n",
    "    ax.bar(range(len(distribution)), distribution, alpha=0.7)\n",
    "    rects = ax.patches\n",
    "    for i in np.argsort(distribution)[-nr_top_bars:]:\n",
    "        rects[i].set_color(color)\n",
    "        rects[i].set_alpha(1)\n",
    "    # General plotting adjustments\n",
    "    ax.set_xlim(-1, 200)\n",
    "    ax.set_xticks(range(20,199,20))\n",
    "    ax.set_xticklabels(range(20,199,20), fontsize=16)\n",
    "    ax.set_ylim(-0.8,0.8)\n",
    "\n",
    "fig.tight_layout(h_pad=3.)"
   ]
  },
  {
   "cell_type": "code",
   "execution_count": null,
   "metadata": {
    "collapsed": true
   },
   "outputs": [],
   "source": [
    "#classification and hyperparameter tuning"
   ]
  },
  {
   "cell_type": "code",
   "execution_count": 69,
   "metadata": {
    "collapsed": false
   },
   "outputs": [
    {
     "name": "stderr",
     "output_type": "stream",
     "text": [
      "/root/anaconda3/lib/python3.5/site-packages/ipykernel/__main__.py:4: SettingWithCopyWarning: \n",
      "A value is trying to be set on a copy of a slice from a DataFrame.\n",
      "Try using .loc[row_indexer,col_indexer] = value instead\n",
      "\n",
      "See the caveats in the documentation: http://pandas.pydata.org/pandas-docs/stable/indexing.html#indexing-view-versus-copy\n"
     ]
    }
   ],
   "source": [
    "label_encoder = LabelEncoder()\n",
    "\n",
    "label_encoder.fit(oaks_rev_train_df.topic)\n",
    "oaks_rev_train_df['topic_id'] = label_encoder.transform(oaks_rev_train_df.topic)"
   ]
  },
  {
   "cell_type": "code",
   "execution_count": 70,
   "metadata": {
    "collapsed": true
   },
   "outputs": [],
   "source": [
    "def get_cross_validated_model(model, param_grid, X, y, nr_folds=5):\n",
    "    \"\"\" Trains a model by doing a grid search combined with cross validation.\n",
    "    args:\n",
    "        model: your model\n",
    "        param_grid: dict of parameter values for the grid search\n",
    "    returns:\n",
    "        Model trained on entire dataset with hyperparameters chosen from best results in the grid search.\n",
    "    \"\"\"\n",
    "    # train the model (since the evaluation is based on the logloss, we'll use neg_log_loss here)\n",
    "    grid_cv = GridSearchCV(model, param_grid=param_grid, scoring='neg_log_loss', cv=nr_folds, n_jobs=-1, verbose=True)\n",
    "    best_model = grid_cv.fit(X, y)\n",
    "    # show top models with parameter values\n",
    "    result_df = pd.DataFrame(best_model.cv_results_)\n",
    "    show_columns = ['mean_test_score', 'mean_train_score', 'rank_test_score']\n",
    "    for col in result_df.columns:\n",
    "        if col.startswith('param_'):\n",
    "            show_columns.append(col)\n",
    "    display(result_df[show_columns].sort_values(by='rank_test_score').head())\n",
    "    return best_model"
   ]
  },
  {
   "cell_type": "code",
   "execution_count": 71,
   "metadata": {
    "collapsed": true
   },
   "outputs": [],
   "source": [
    "#  since oaks_rev_train_df['lda_features'] and oaks_rev_train_df['w2v_features'] don't have the needed shape and type yet,\n",
    "# we first have to transform every entry\n",
    "X_train_lda = np.array(list(map(np.array, oaks_rev_train_df.lda_features)))\n",
    "X_train_w2v = np.array(list(map(np.array, oaks_rev_train_df.w2v_features)))\n",
    "X_train_combined = np.append(X_train_lda, X_train_w2v, axis=1)"
   ]
  },
  {
   "cell_type": "code",
   "execution_count": null,
   "metadata": {
    "collapsed": true
   },
   "outputs": [],
   "source": [
    "# since we are dealing with log loss and not simply accuracy, we have to choose models that support the method predict_proba.\n"
   ]
  },
  {
   "cell_type": "code",
   "execution_count": 72,
   "metadata": {
    "collapsed": true
   },
   "outputs": [],
   "source": [
    "# store all models in a dictionary\n",
    "models = dict()"
   ]
  },
  {
   "cell_type": "code",
   "execution_count": 73,
   "metadata": {
    "collapsed": false
   },
   "outputs": [
    {
     "name": "stdout",
     "output_type": "stream",
     "text": [
      "Fitting 5 folds for each of 2 candidates, totalling 10 fits\n"
     ]
    },
    {
     "name": "stderr",
     "output_type": "stream",
     "text": [
      "[Parallel(n_jobs=-1)]: Done  10 out of  10 | elapsed:    0.6s remaining:    0.0s\n",
      "[Parallel(n_jobs=-1)]: Done  10 out of  10 | elapsed:    0.6s finished\n"
     ]
    },
    {
     "data": {
      "text/html": [
       "<div>\n",
       "<table border=\"1\" class=\"dataframe\">\n",
       "  <thead>\n",
       "    <tr style=\"text-align: right;\">\n",
       "      <th></th>\n",
       "      <th>mean_test_score</th>\n",
       "      <th>mean_train_score</th>\n",
       "      <th>rank_test_score</th>\n",
       "      <th>param_penalty</th>\n",
       "    </tr>\n",
       "  </thead>\n",
       "  <tbody>\n",
       "    <tr>\n",
       "      <th>0</th>\n",
       "      <td>-1.427561</td>\n",
       "      <td>-1.381167</td>\n",
       "      <td>1</td>\n",
       "      <td>l1</td>\n",
       "    </tr>\n",
       "    <tr>\n",
       "      <th>1</th>\n",
       "      <td>-1.439484</td>\n",
       "      <td>-1.398597</td>\n",
       "      <td>2</td>\n",
       "      <td>l2</td>\n",
       "    </tr>\n",
       "  </tbody>\n",
       "</table>\n",
       "</div>"
      ],
      "text/plain": [
       "   mean_test_score  mean_train_score  rank_test_score param_penalty\n",
       "0        -1.427561         -1.381167                1            l1\n",
       "1        -1.439484         -1.398597                2            l2"
      ]
     },
     "metadata": {},
     "output_type": "display_data"
    }
   ],
   "source": [
    "# Logistic Regression\n",
    "# LDA features only\n",
    "lr = LogisticRegression()\n",
    "\n",
    "param_grid = {'penalty': ['l1', 'l2']}\n",
    "\n",
    "best_lr_lda = get_cross_validated_model(lr, param_grid, X_train_lda, oaks_rev_train_df.topic_id)\n",
    "\n",
    "models['best_lr_lda'] = best_lr_lda\n"
   ]
  },
  {
   "cell_type": "code",
   "execution_count": 74,
   "metadata": {
    "collapsed": false
   },
   "outputs": [
    {
     "name": "stdout",
     "output_type": "stream",
     "text": [
      "Fitting 5 folds for each of 2 candidates, totalling 10 fits\n"
     ]
    },
    {
     "name": "stderr",
     "output_type": "stream",
     "text": [
      "[Parallel(n_jobs=-1)]: Done  10 out of  10 | elapsed:    0.4s remaining:    0.0s\n",
      "[Parallel(n_jobs=-1)]: Done  10 out of  10 | elapsed:    0.4s finished\n"
     ]
    },
    {
     "data": {
      "text/html": [
       "<div>\n",
       "<table border=\"1\" class=\"dataframe\">\n",
       "  <thead>\n",
       "    <tr style=\"text-align: right;\">\n",
       "      <th></th>\n",
       "      <th>mean_test_score</th>\n",
       "      <th>mean_train_score</th>\n",
       "      <th>rank_test_score</th>\n",
       "      <th>param_penalty</th>\n",
       "    </tr>\n",
       "  </thead>\n",
       "  <tbody>\n",
       "    <tr>\n",
       "      <th>1</th>\n",
       "      <td>-1.570181</td>\n",
       "      <td>-1.570030</td>\n",
       "      <td>1</td>\n",
       "      <td>l2</td>\n",
       "    </tr>\n",
       "    <tr>\n",
       "      <th>0</th>\n",
       "      <td>-1.570572</td>\n",
       "      <td>-1.570485</td>\n",
       "      <td>2</td>\n",
       "      <td>l1</td>\n",
       "    </tr>\n",
       "  </tbody>\n",
       "</table>\n",
       "</div>"
      ],
      "text/plain": [
       "   mean_test_score  mean_train_score  rank_test_score param_penalty\n",
       "1        -1.570181         -1.570030                1            l2\n",
       "0        -1.570572         -1.570485                2            l1"
      ]
     },
     "metadata": {},
     "output_type": "display_data"
    }
   ],
   "source": [
    "# Word2Vec features only\n",
    "lr = LogisticRegression()\n",
    "\n",
    "param_grid = {'penalty': ['l1', 'l2']}\n",
    "\n",
    "best_lr_w2v = get_cross_validated_model(lr, param_grid, X_train_w2v,oaks_rev_train_df.topic_id)\n",
    "\n",
    "models['best_lr_w2v'] = best_lr_w2v"
   ]
  },
  {
   "cell_type": "code",
   "execution_count": 75,
   "metadata": {
    "collapsed": false
   },
   "outputs": [
    {
     "name": "stdout",
     "output_type": "stream",
     "text": [
      "Fitting 5 folds for each of 2 candidates, totalling 10 fits\n"
     ]
    },
    {
     "name": "stderr",
     "output_type": "stream",
     "text": [
      "[Parallel(n_jobs=-1)]: Done  10 out of  10 | elapsed:    0.7s remaining:    0.0s\n",
      "[Parallel(n_jobs=-1)]: Done  10 out of  10 | elapsed:    0.7s finished\n"
     ]
    },
    {
     "data": {
      "text/html": [
       "<div>\n",
       "<table border=\"1\" class=\"dataframe\">\n",
       "  <thead>\n",
       "    <tr style=\"text-align: right;\">\n",
       "      <th></th>\n",
       "      <th>mean_test_score</th>\n",
       "      <th>mean_train_score</th>\n",
       "      <th>rank_test_score</th>\n",
       "      <th>param_penalty</th>\n",
       "    </tr>\n",
       "  </thead>\n",
       "  <tbody>\n",
       "    <tr>\n",
       "      <th>0</th>\n",
       "      <td>-1.427586</td>\n",
       "      <td>-1.381154</td>\n",
       "      <td>1</td>\n",
       "      <td>l1</td>\n",
       "    </tr>\n",
       "    <tr>\n",
       "      <th>1</th>\n",
       "      <td>-1.439006</td>\n",
       "      <td>-1.397694</td>\n",
       "      <td>2</td>\n",
       "      <td>l2</td>\n",
       "    </tr>\n",
       "  </tbody>\n",
       "</table>\n",
       "</div>"
      ],
      "text/plain": [
       "   mean_test_score  mean_train_score  rank_test_score param_penalty\n",
       "0        -1.427586         -1.381154                1            l1\n",
       "1        -1.439006         -1.397694                2            l2"
      ]
     },
     "metadata": {},
     "output_type": "display_data"
    }
   ],
   "source": [
    "# LDA and Word2Vec combined\n",
    "lr = LogisticRegression()\n",
    "\n",
    "param_grid = {'penalty': ['l1', 'l2']}\n",
    "\n",
    "best_lr_combined = get_cross_validated_model(lr, param_grid, X_train_combined,oaks_rev_train_df.topic_id)\n",
    "\n",
    "models['best_lr_combined'] = best_lr_combined"
   ]
  },
  {
   "cell_type": "code",
   "execution_count": null,
   "metadata": {
    "collapsed": true
   },
   "outputs": [],
   "source": [
    "#combining the two features gives us the optimal performance"
   ]
  },
  {
   "cell_type": "code",
   "execution_count": null,
   "metadata": {
    "collapsed": true
   },
   "outputs": [],
   "source": [
    "# Model Selection"
   ]
  },
  {
   "cell_type": "code",
   "execution_count": 76,
   "metadata": {
    "collapsed": false
   },
   "outputs": [
    {
     "name": "stdout",
     "output_type": "stream",
     "text": [
      "Model best_lr_w2v has a test score of: -1.5702\n",
      "Model best_lr_combined has a test score of: -1.4276\n",
      "Model best_lr_lda has a test score of: -1.4276\n"
     ]
    }
   ],
   "source": [
    "for name, model in models.items():\n",
    "    print(\"Model {} has a test score of: {:0.4f}\".format(name, float(model.best_score_)))"
   ]
  },
  {
   "cell_type": "code",
   "execution_count": null,
   "metadata": {
    "collapsed": true
   },
   "outputs": [],
   "source": [
    "#will go with best_lr_combined"
   ]
  },
  {
   "cell_type": "code",
   "execution_count": 77,
   "metadata": {
    "collapsed": false
   },
   "outputs": [
    {
     "data": {
      "text/html": [
       "<div>\n",
       "<table border=\"1\" class=\"dataframe\">\n",
       "  <thead>\n",
       "    <tr style=\"text-align: right;\">\n",
       "      <th></th>\n",
       "      <th>topic</th>\n",
       "      <th>word</th>\n",
       "      <th>lifecycle</th>\n",
       "    </tr>\n",
       "  </thead>\n",
       "  <tbody>\n",
       "    <tr>\n",
       "      <th>330</th>\n",
       "      <td>Experience</td>\n",
       "      <td>great location great staff</td>\n",
       "      <td>check-out</td>\n",
       "    </tr>\n",
       "    <tr>\n",
       "      <th>255</th>\n",
       "      <td>Value</td>\n",
       "      <td>money</td>\n",
       "      <td>before arrival</td>\n",
       "    </tr>\n",
       "    <tr>\n",
       "      <th>411</th>\n",
       "      <td>Transactions</td>\n",
       "      <td>stored luggage check</td>\n",
       "      <td>check-in</td>\n",
       "    </tr>\n",
       "    <tr>\n",
       "      <th>38</th>\n",
       "      <td>Amenities</td>\n",
       "      <td>meal</td>\n",
       "      <td>stay</td>\n",
       "    </tr>\n",
       "    <tr>\n",
       "      <th>26</th>\n",
       "      <td>Amenities</td>\n",
       "      <td>fridge</td>\n",
       "      <td>stay</td>\n",
       "    </tr>\n",
       "    <tr>\n",
       "      <th>413</th>\n",
       "      <td>Value</td>\n",
       "      <td>rain forest</td>\n",
       "      <td>before arrival</td>\n",
       "    </tr>\n",
       "    <tr>\n",
       "      <th>494</th>\n",
       "      <td>Transactions</td>\n",
       "      <td>high</td>\n",
       "      <td>check-in</td>\n",
       "    </tr>\n",
       "    <tr>\n",
       "      <th>586</th>\n",
       "      <td>Amenities</td>\n",
       "      <td>bath</td>\n",
       "      <td>before arrival</td>\n",
       "    </tr>\n",
       "    <tr>\n",
       "      <th>489</th>\n",
       "      <td>Value</td>\n",
       "      <td>floor</td>\n",
       "      <td>before arrival</td>\n",
       "    </tr>\n",
       "    <tr>\n",
       "      <th>285</th>\n",
       "      <td>Experience</td>\n",
       "      <td>friendly helpful staff</td>\n",
       "      <td>check-out</td>\n",
       "    </tr>\n",
       "  </tbody>\n",
       "</table>\n",
       "</div>"
      ],
      "text/plain": [
       "            topic                        word       lifecycle\n",
       "330    Experience  great location great staff       check-out\n",
       "255         Value                       money  before arrival\n",
       "411  Transactions        stored luggage check        check-in\n",
       "38      Amenities                        meal            stay\n",
       "26      Amenities                      fridge            stay\n",
       "413         Value                 rain forest  before arrival\n",
       "494  Transactions                        high        check-in\n",
       "586     Amenities                        bath  before arrival\n",
       "489         Value                       floor  before arrival\n",
       "285    Experience      friendly helpful staff       check-out"
      ]
     },
     "execution_count": 77,
     "metadata": {},
     "output_type": "execute_result"
    }
   ],
   "source": [
    "oaks_rev_test_df.head(10)"
   ]
  },
  {
   "cell_type": "code",
   "execution_count": 78,
   "metadata": {
    "collapsed": false
   },
   "outputs": [
    {
     "name": "stderr",
     "output_type": "stream",
     "text": [
      "/root/anaconda3/lib/python3.5/site-packages/ipykernel/__main__.py:1: SettingWithCopyWarning: \n",
      "A value is trying to be set on a copy of a slice from a DataFrame.\n",
      "Try using .loc[row_indexer,col_indexer] = value instead\n",
      "\n",
      "See the caveats in the documentation: http://pandas.pydata.org/pandas-docs/stable/indexing.html#indexing-view-versus-copy\n",
      "  if __name__ == '__main__':\n"
     ]
    }
   ],
   "source": [
    "oaks_rev_test_df['index_id'] = oaks_rev_test_df.index"
   ]
  },
  {
   "cell_type": "code",
   "execution_count": 80,
   "metadata": {
    "collapsed": false
   },
   "outputs": [],
   "source": [
    "test_data = copy.deepcopy(oaks_rev_test_df)"
   ]
  },
  {
   "cell_type": "code",
   "execution_count": null,
   "metadata": {
    "collapsed": true
   },
   "outputs": [],
   "source": [
    "test"
   ]
  },
  {
   "cell_type": "code",
   "execution_count": 81,
   "metadata": {
    "collapsed": false
   },
   "outputs": [],
   "source": [
    "test_data.drop(\"topic\",axis = 1,inplace = True)"
   ]
  },
  {
   "cell_type": "code",
   "execution_count": 82,
   "metadata": {
    "collapsed": false
   },
   "outputs": [],
   "source": [
    "lda_preprocessing(test_data)"
   ]
  },
  {
   "cell_type": "code",
   "execution_count": 83,
   "metadata": {
    "collapsed": false
   },
   "outputs": [],
   "source": [
    "test_data[\"tokenized_sentences\"] = test_data[\"word\"]"
   ]
  },
  {
   "cell_type": "code",
   "execution_count": 84,
   "metadata": {
    "collapsed": false
   },
   "outputs": [
    {
     "name": "stderr",
     "output_type": "stream",
     "text": [
      "/root/anaconda3/lib/python3.5/site-packages/ipykernel/__main__.py:16: DeprecationWarning: Call to deprecated `__getitem__` (Method will be removed in 4.0.0, use self.wv.__getitem__() instead).\n"
     ]
    }
   ],
   "source": [
    "test_data['lda_features'] = list(map(lambda doc:\n",
    "                                     document_to_lda_features(LDAmodel, doc),\n",
    "                                     test_data.bow))\n",
    "\n",
    "test_data['w2v_features'] = list(map(lambda sen_group:\n",
    "                                     get_w2v_features(W2Vmodel, sen_group),\n",
    "                                     test_data.tokenized_sentences))"
   ]
  },
  {
   "cell_type": "code",
   "execution_count": 85,
   "metadata": {
    "collapsed": false
   },
   "outputs": [
    {
     "name": "stderr",
     "output_type": "stream",
     "text": [
      "/root/anaconda3/lib/python3.5/site-packages/ipykernel/__main__.py:1: SettingWithCopyWarning: \n",
      "A value is trying to be set on a copy of a slice from a DataFrame.\n",
      "Try using .loc[row_indexer,col_indexer] = value instead\n",
      "\n",
      "See the caveats in the documentation: http://pandas.pydata.org/pandas-docs/stable/indexing.html#indexing-view-versus-copy\n",
      "  if __name__ == '__main__':\n"
     ]
    }
   ],
   "source": [
    "oaks_rev_train_df['topic_id'] = label_encoder.transform(oaks_rev_train_df.topic)"
   ]
  },
  {
   "cell_type": "code",
   "execution_count": 86,
   "metadata": {
    "collapsed": true
   },
   "outputs": [],
   "source": [
    "X_test_lda = np.array(list(map(np.array, test_data.lda_features)))\n",
    "X_test_w2v = np.array(list(map(np.array, test_data.w2v_features)))\n",
    "X_test_combined = np.append(X_test_lda, X_test_w2v, axis=1)"
   ]
  },
  {
   "cell_type": "code",
   "execution_count": null,
   "metadata": {
    "collapsed": true
   },
   "outputs": [],
   "source": [
    "#  classifications."
   ]
  },
  {
   "cell_type": "code",
   "execution_count": 87,
   "metadata": {
    "collapsed": false
   },
   "outputs": [],
   "source": [
    "predictions = best_lr_combined.predict_proba(X_test_combined)"
   ]
  },
  {
   "cell_type": "code",
   "execution_count": 88,
   "metadata": {
    "collapsed": false
   },
   "outputs": [
    {
     "data": {
      "text/plain": [
       "array(['Amenities', 'Experience', 'Location', 'Transactions', 'Value'],\n",
       "      dtype=object)"
      ]
     },
     "execution_count": 88,
     "metadata": {},
     "output_type": "execute_result"
    }
   ],
   "source": [
    "label_encoder.classes_"
   ]
  },
  {
   "cell_type": "code",
   "execution_count": 120,
   "metadata": {
    "collapsed": false
   },
   "outputs": [
    {
     "data": {
      "text/html": [
       "<div>\n",
       "<table border=\"1\" class=\"dataframe\">\n",
       "  <thead>\n",
       "    <tr style=\"text-align: right;\">\n",
       "      <th></th>\n",
       "      <th>word</th>\n",
       "      <th>lifecycle</th>\n",
       "      <th>index_id</th>\n",
       "      <th>tokenized_text</th>\n",
       "      <th>lemmatized_text</th>\n",
       "      <th>stemmed_text</th>\n",
       "      <th>bow</th>\n",
       "      <th>tokenized_sentences</th>\n",
       "      <th>lda_features</th>\n",
       "      <th>w2v_features</th>\n",
       "    </tr>\n",
       "  </thead>\n",
       "  <tbody>\n",
       "    <tr>\n",
       "      <th>330</th>\n",
       "      <td>great location great staff</td>\n",
       "      <td>check-out</td>\n",
       "      <td>330</td>\n",
       "      <td>[great, location, great, staff]</td>\n",
       "      <td>[great, location, great, staff]</td>\n",
       "      <td>[great, locat, great, staff]</td>\n",
       "      <td>[(18, 1), (20, 1), (27, 2)]</td>\n",
       "      <td>great location great staff</td>\n",
       "      <td>[0.006227807141840458, 0.005757693201303482, 0...</td>\n",
       "      <td>[-0.103962064, 0.01369077, 0.013909781, -0.073...</td>\n",
       "    </tr>\n",
       "    <tr>\n",
       "      <th>255</th>\n",
       "      <td>money</td>\n",
       "      <td>before arrival</td>\n",
       "      <td>255</td>\n",
       "      <td>[money]</td>\n",
       "      <td>[money]</td>\n",
       "      <td>[money]</td>\n",
       "      <td>[(48, 1)]</td>\n",
       "      <td>money</td>\n",
       "      <td>[0.015569516457617283, 0.01439423207193613, 0....</td>\n",
       "      <td>[-0.10229806, 0.013378441, 0.013437969, -0.072...</td>\n",
       "    </tr>\n",
       "    <tr>\n",
       "      <th>411</th>\n",
       "      <td>stored luggage check</td>\n",
       "      <td>check-in</td>\n",
       "      <td>411</td>\n",
       "      <td>[stored, luggage, check]</td>\n",
       "      <td>[stored, luggage, check]</td>\n",
       "      <td>[store, luggag, check]</td>\n",
       "      <td>[(16, 1)]</td>\n",
       "      <td>stored luggage check</td>\n",
       "      <td>[0.5155695080757141, 0.01439423207193613, 0.01...</td>\n",
       "      <td>[-0.1031294, 0.013868379, 0.01387767, -0.07311...</td>\n",
       "    </tr>\n",
       "    <tr>\n",
       "      <th>38</th>\n",
       "      <td>meal</td>\n",
       "      <td>stay</td>\n",
       "      <td>38</td>\n",
       "      <td>[meal]</td>\n",
       "      <td>[meal]</td>\n",
       "      <td>[meal]</td>\n",
       "      <td>[]</td>\n",
       "      <td>meal</td>\n",
       "      <td>[0.031139032915234566, 0.02878846414387226, 0....</td>\n",
       "      <td>[-0.10382951, 0.014088989, 0.01355009, -0.0740...</td>\n",
       "    </tr>\n",
       "    <tr>\n",
       "      <th>26</th>\n",
       "      <td>fridge</td>\n",
       "      <td>stay</td>\n",
       "      <td>26</td>\n",
       "      <td>[fridge]</td>\n",
       "      <td>[fridge]</td>\n",
       "      <td>[fridg]</td>\n",
       "      <td>[]</td>\n",
       "      <td>fridge</td>\n",
       "      <td>[0.031139032915234566, 0.02878846414387226, 0....</td>\n",
       "      <td>[-0.104707144, 0.013857122, 0.014062985, -0.07...</td>\n",
       "    </tr>\n",
       "    <tr>\n",
       "      <th>413</th>\n",
       "      <td>rain forest</td>\n",
       "      <td>before arrival</td>\n",
       "      <td>413</td>\n",
       "      <td>[rain, forest]</td>\n",
       "      <td>[rain, forest]</td>\n",
       "      <td>[rain, forest]</td>\n",
       "      <td>[]</td>\n",
       "      <td>rain forest</td>\n",
       "      <td>[0.031139032915234566, 0.02878846414387226, 0....</td>\n",
       "      <td>[-0.103889756, 0.013562163, 0.014001176, -0.07...</td>\n",
       "    </tr>\n",
       "    <tr>\n",
       "      <th>494</th>\n",
       "      <td>high</td>\n",
       "      <td>check-in</td>\n",
       "      <td>494</td>\n",
       "      <td>[high]</td>\n",
       "      <td>[high]</td>\n",
       "      <td>[high]</td>\n",
       "      <td>[]</td>\n",
       "      <td>high</td>\n",
       "      <td>[0.031139032915234566, 0.02878846414387226, 0....</td>\n",
       "      <td>[-0.101901725, 0.013574029, 0.014807995, -0.07...</td>\n",
       "    </tr>\n",
       "    <tr>\n",
       "      <th>586</th>\n",
       "      <td>bath</td>\n",
       "      <td>before arrival</td>\n",
       "      <td>586</td>\n",
       "      <td>[bath]</td>\n",
       "      <td>[bath]</td>\n",
       "      <td>[bath]</td>\n",
       "      <td>[]</td>\n",
       "      <td>bath</td>\n",
       "      <td>[0.031139032915234566, 0.02878846414387226, 0....</td>\n",
       "      <td>[-0.101424806, 0.013867817, 0.014103061, -0.07...</td>\n",
       "    </tr>\n",
       "    <tr>\n",
       "      <th>489</th>\n",
       "      <td>floor</td>\n",
       "      <td>before arrival</td>\n",
       "      <td>489</td>\n",
       "      <td>[floor]</td>\n",
       "      <td>[floor]</td>\n",
       "      <td>[floor]</td>\n",
       "      <td>[]</td>\n",
       "      <td>floor</td>\n",
       "      <td>[0.031139032915234566, 0.02878846414387226, 0....</td>\n",
       "      <td>[-0.10327866, 0.013507689, 0.014624566, -0.072...</td>\n",
       "    </tr>\n",
       "    <tr>\n",
       "      <th>285</th>\n",
       "      <td>friendly helpful staff</td>\n",
       "      <td>check-out</td>\n",
       "      <td>285</td>\n",
       "      <td>[friendly, helpful, staff]</td>\n",
       "      <td>[friendly, helpful, staff]</td>\n",
       "      <td>[friendli, help, staff]</td>\n",
       "      <td>[(17, 1), (18, 1), (68, 1)]</td>\n",
       "      <td>friendly helpful staff</td>\n",
       "      <td>[0.0077847582288086414, 0.007197116035968065, ...</td>\n",
       "      <td>[-0.10335417, 0.013556015, 0.013442179, -0.073...</td>\n",
       "    </tr>\n",
       "  </tbody>\n",
       "</table>\n",
       "</div>"
      ],
      "text/plain": [
       "                           word       lifecycle  index_id  \\\n",
       "330  great location great staff       check-out       330   \n",
       "255                       money  before arrival       255   \n",
       "411        stored luggage check        check-in       411   \n",
       "38                         meal            stay        38   \n",
       "26                       fridge            stay        26   \n",
       "413                 rain forest  before arrival       413   \n",
       "494                        high        check-in       494   \n",
       "586                        bath  before arrival       586   \n",
       "489                       floor  before arrival       489   \n",
       "285      friendly helpful staff       check-out       285   \n",
       "\n",
       "                      tokenized_text                  lemmatized_text  \\\n",
       "330  [great, location, great, staff]  [great, location, great, staff]   \n",
       "255                          [money]                          [money]   \n",
       "411         [stored, luggage, check]         [stored, luggage, check]   \n",
       "38                            [meal]                           [meal]   \n",
       "26                          [fridge]                         [fridge]   \n",
       "413                   [rain, forest]                   [rain, forest]   \n",
       "494                           [high]                           [high]   \n",
       "586                           [bath]                           [bath]   \n",
       "489                          [floor]                          [floor]   \n",
       "285       [friendly, helpful, staff]       [friendly, helpful, staff]   \n",
       "\n",
       "                     stemmed_text                          bow  \\\n",
       "330  [great, locat, great, staff]  [(18, 1), (20, 1), (27, 2)]   \n",
       "255                       [money]                    [(48, 1)]   \n",
       "411        [store, luggag, check]                    [(16, 1)]   \n",
       "38                         [meal]                           []   \n",
       "26                        [fridg]                           []   \n",
       "413                [rain, forest]                           []   \n",
       "494                        [high]                           []   \n",
       "586                        [bath]                           []   \n",
       "489                       [floor]                           []   \n",
       "285       [friendli, help, staff]  [(17, 1), (18, 1), (68, 1)]   \n",
       "\n",
       "            tokenized_sentences  \\\n",
       "330  great location great staff   \n",
       "255                       money   \n",
       "411        stored luggage check   \n",
       "38                         meal   \n",
       "26                       fridge   \n",
       "413                 rain forest   \n",
       "494                        high   \n",
       "586                        bath   \n",
       "489                       floor   \n",
       "285      friendly helpful staff   \n",
       "\n",
       "                                          lda_features  \\\n",
       "330  [0.006227807141840458, 0.005757693201303482, 0...   \n",
       "255  [0.015569516457617283, 0.01439423207193613, 0....   \n",
       "411  [0.5155695080757141, 0.01439423207193613, 0.01...   \n",
       "38   [0.031139032915234566, 0.02878846414387226, 0....   \n",
       "26   [0.031139032915234566, 0.02878846414387226, 0....   \n",
       "413  [0.031139032915234566, 0.02878846414387226, 0....   \n",
       "494  [0.031139032915234566, 0.02878846414387226, 0....   \n",
       "586  [0.031139032915234566, 0.02878846414387226, 0....   \n",
       "489  [0.031139032915234566, 0.02878846414387226, 0....   \n",
       "285  [0.0077847582288086414, 0.007197116035968065, ...   \n",
       "\n",
       "                                          w2v_features  \n",
       "330  [-0.103962064, 0.01369077, 0.013909781, -0.073...  \n",
       "255  [-0.10229806, 0.013378441, 0.013437969, -0.072...  \n",
       "411  [-0.1031294, 0.013868379, 0.01387767, -0.07311...  \n",
       "38   [-0.10382951, 0.014088989, 0.01355009, -0.0740...  \n",
       "26   [-0.104707144, 0.013857122, 0.014062985, -0.07...  \n",
       "413  [-0.103889756, 0.013562163, 0.014001176, -0.07...  \n",
       "494  [-0.101901725, 0.013574029, 0.014807995, -0.07...  \n",
       "586  [-0.101424806, 0.013867817, 0.014103061, -0.07...  \n",
       "489  [-0.10327866, 0.013507689, 0.014624566, -0.072...  \n",
       "285  [-0.10335417, 0.013556015, 0.013442179, -0.073...  "
      ]
     },
     "execution_count": 120,
     "metadata": {},
     "output_type": "execute_result"
    }
   ],
   "source": [
    "test_data.head(10)"
   ]
  },
  {
   "cell_type": "code",
   "execution_count": 121,
   "metadata": {
    "collapsed": false
   },
   "outputs": [],
   "source": [
    "result = np.append(test_data.index_id.values.reshape(-1,1),predictions, axis=1)"
   ]
  },
  {
   "cell_type": "code",
   "execution_count": 122,
   "metadata": {
    "collapsed": true
   },
   "outputs": [],
   "source": [
    "test_result_df = pd.DataFrame(data=result, columns=['index_id','Amenities', 'Experience', 'Location', 'Transactions', 'Value'])"
   ]
  },
  {
   "cell_type": "code",
   "execution_count": 123,
   "metadata": {
    "collapsed": false
   },
   "outputs": [
    {
     "data": {
      "text/html": [
       "<div>\n",
       "<table border=\"1\" class=\"dataframe\">\n",
       "  <thead>\n",
       "    <tr style=\"text-align: right;\">\n",
       "      <th></th>\n",
       "      <th>index_id</th>\n",
       "      <th>Amenities</th>\n",
       "      <th>Experience</th>\n",
       "      <th>Location</th>\n",
       "      <th>Transactions</th>\n",
       "      <th>Value</th>\n",
       "    </tr>\n",
       "  </thead>\n",
       "  <tbody>\n",
       "    <tr>\n",
       "      <th>0</th>\n",
       "      <td>330.0</td>\n",
       "      <td>0.024851</td>\n",
       "      <td>0.369218</td>\n",
       "      <td>0.544293</td>\n",
       "      <td>0.016675</td>\n",
       "      <td>0.044963</td>\n",
       "    </tr>\n",
       "    <tr>\n",
       "      <th>1</th>\n",
       "      <td>255.0</td>\n",
       "      <td>0.075364</td>\n",
       "      <td>0.499046</td>\n",
       "      <td>0.046608</td>\n",
       "      <td>0.157959</td>\n",
       "      <td>0.221022</td>\n",
       "    </tr>\n",
       "    <tr>\n",
       "      <th>2</th>\n",
       "      <td>411.0</td>\n",
       "      <td>0.252506</td>\n",
       "      <td>0.233330</td>\n",
       "      <td>0.164592</td>\n",
       "      <td>0.183917</td>\n",
       "      <td>0.165656</td>\n",
       "    </tr>\n",
       "    <tr>\n",
       "      <th>3</th>\n",
       "      <td>38.0</td>\n",
       "      <td>0.189440</td>\n",
       "      <td>0.279542</td>\n",
       "      <td>0.092132</td>\n",
       "      <td>0.180779</td>\n",
       "      <td>0.258107</td>\n",
       "    </tr>\n",
       "    <tr>\n",
       "      <th>4</th>\n",
       "      <td>26.0</td>\n",
       "      <td>0.189440</td>\n",
       "      <td>0.279542</td>\n",
       "      <td>0.092132</td>\n",
       "      <td>0.180779</td>\n",
       "      <td>0.258107</td>\n",
       "    </tr>\n",
       "    <tr>\n",
       "      <th>5</th>\n",
       "      <td>413.0</td>\n",
       "      <td>0.189440</td>\n",
       "      <td>0.279542</td>\n",
       "      <td>0.092132</td>\n",
       "      <td>0.180779</td>\n",
       "      <td>0.258107</td>\n",
       "    </tr>\n",
       "    <tr>\n",
       "      <th>6</th>\n",
       "      <td>494.0</td>\n",
       "      <td>0.189440</td>\n",
       "      <td>0.279542</td>\n",
       "      <td>0.092132</td>\n",
       "      <td>0.180779</td>\n",
       "      <td>0.258107</td>\n",
       "    </tr>\n",
       "    <tr>\n",
       "      <th>7</th>\n",
       "      <td>586.0</td>\n",
       "      <td>0.189440</td>\n",
       "      <td>0.279542</td>\n",
       "      <td>0.092132</td>\n",
       "      <td>0.180779</td>\n",
       "      <td>0.258107</td>\n",
       "    </tr>\n",
       "    <tr>\n",
       "      <th>8</th>\n",
       "      <td>489.0</td>\n",
       "      <td>0.189440</td>\n",
       "      <td>0.279542</td>\n",
       "      <td>0.092132</td>\n",
       "      <td>0.180779</td>\n",
       "      <td>0.258107</td>\n",
       "    </tr>\n",
       "    <tr>\n",
       "      <th>9</th>\n",
       "      <td>285.0</td>\n",
       "      <td>0.064135</td>\n",
       "      <td>0.483554</td>\n",
       "      <td>0.220091</td>\n",
       "      <td>0.084013</td>\n",
       "      <td>0.148207</td>\n",
       "    </tr>\n",
       "  </tbody>\n",
       "</table>\n",
       "</div>"
      ],
      "text/plain": [
       "   index_id  Amenities  Experience  Location  Transactions     Value\n",
       "0     330.0   0.024851    0.369218  0.544293      0.016675  0.044963\n",
       "1     255.0   0.075364    0.499046  0.046608      0.157959  0.221022\n",
       "2     411.0   0.252506    0.233330  0.164592      0.183917  0.165656\n",
       "3      38.0   0.189440    0.279542  0.092132      0.180779  0.258107\n",
       "4      26.0   0.189440    0.279542  0.092132      0.180779  0.258107\n",
       "5     413.0   0.189440    0.279542  0.092132      0.180779  0.258107\n",
       "6     494.0   0.189440    0.279542  0.092132      0.180779  0.258107\n",
       "7     586.0   0.189440    0.279542  0.092132      0.180779  0.258107\n",
       "8     489.0   0.189440    0.279542  0.092132      0.180779  0.258107\n",
       "9     285.0   0.064135    0.483554  0.220091      0.084013  0.148207"
      ]
     },
     "execution_count": 123,
     "metadata": {},
     "output_type": "execute_result"
    }
   ],
   "source": [
    "test_result_df.head(10)"
   ]
  },
  {
   "cell_type": "code",
   "execution_count": 125,
   "metadata": {
    "collapsed": false
   },
   "outputs": [],
   "source": [
    "test_result_df['index_id'] = test_result_df['index_id'].astype(np.int64)"
   ]
  },
  {
   "cell_type": "code",
   "execution_count": 140,
   "metadata": {
    "collapsed": false
   },
   "outputs": [
    {
     "data": {
      "text/html": [
       "<div>\n",
       "<table border=\"1\" class=\"dataframe\">\n",
       "  <thead>\n",
       "    <tr style=\"text-align: right;\">\n",
       "      <th></th>\n",
       "      <th>index_id</th>\n",
       "      <th>Amenities</th>\n",
       "      <th>Experience</th>\n",
       "      <th>Location</th>\n",
       "      <th>Transactions</th>\n",
       "      <th>Value</th>\n",
       "    </tr>\n",
       "  </thead>\n",
       "  <tbody>\n",
       "    <tr>\n",
       "      <th>0</th>\n",
       "      <td>330</td>\n",
       "      <td>0.024851</td>\n",
       "      <td>0.369218</td>\n",
       "      <td>0.544293</td>\n",
       "      <td>0.016675</td>\n",
       "      <td>0.044963</td>\n",
       "    </tr>\n",
       "    <tr>\n",
       "      <th>1</th>\n",
       "      <td>255</td>\n",
       "      <td>0.075364</td>\n",
       "      <td>0.499046</td>\n",
       "      <td>0.046608</td>\n",
       "      <td>0.157959</td>\n",
       "      <td>0.221022</td>\n",
       "    </tr>\n",
       "    <tr>\n",
       "      <th>2</th>\n",
       "      <td>411</td>\n",
       "      <td>0.252506</td>\n",
       "      <td>0.233330</td>\n",
       "      <td>0.164592</td>\n",
       "      <td>0.183917</td>\n",
       "      <td>0.165656</td>\n",
       "    </tr>\n",
       "    <tr>\n",
       "      <th>3</th>\n",
       "      <td>38</td>\n",
       "      <td>0.189440</td>\n",
       "      <td>0.279542</td>\n",
       "      <td>0.092132</td>\n",
       "      <td>0.180779</td>\n",
       "      <td>0.258107</td>\n",
       "    </tr>\n",
       "    <tr>\n",
       "      <th>4</th>\n",
       "      <td>26</td>\n",
       "      <td>0.189440</td>\n",
       "      <td>0.279542</td>\n",
       "      <td>0.092132</td>\n",
       "      <td>0.180779</td>\n",
       "      <td>0.258107</td>\n",
       "    </tr>\n",
       "    <tr>\n",
       "      <th>5</th>\n",
       "      <td>413</td>\n",
       "      <td>0.189440</td>\n",
       "      <td>0.279542</td>\n",
       "      <td>0.092132</td>\n",
       "      <td>0.180779</td>\n",
       "      <td>0.258107</td>\n",
       "    </tr>\n",
       "    <tr>\n",
       "      <th>6</th>\n",
       "      <td>494</td>\n",
       "      <td>0.189440</td>\n",
       "      <td>0.279542</td>\n",
       "      <td>0.092132</td>\n",
       "      <td>0.180779</td>\n",
       "      <td>0.258107</td>\n",
       "    </tr>\n",
       "    <tr>\n",
       "      <th>7</th>\n",
       "      <td>586</td>\n",
       "      <td>0.189440</td>\n",
       "      <td>0.279542</td>\n",
       "      <td>0.092132</td>\n",
       "      <td>0.180779</td>\n",
       "      <td>0.258107</td>\n",
       "    </tr>\n",
       "    <tr>\n",
       "      <th>8</th>\n",
       "      <td>489</td>\n",
       "      <td>0.189440</td>\n",
       "      <td>0.279542</td>\n",
       "      <td>0.092132</td>\n",
       "      <td>0.180779</td>\n",
       "      <td>0.258107</td>\n",
       "    </tr>\n",
       "    <tr>\n",
       "      <th>9</th>\n",
       "      <td>285</td>\n",
       "      <td>0.064135</td>\n",
       "      <td>0.483554</td>\n",
       "      <td>0.220091</td>\n",
       "      <td>0.084013</td>\n",
       "      <td>0.148207</td>\n",
       "    </tr>\n",
       "  </tbody>\n",
       "</table>\n",
       "</div>"
      ],
      "text/plain": [
       "   index_id  Amenities  Experience  Location  Transactions     Value\n",
       "0       330   0.024851    0.369218  0.544293      0.016675  0.044963\n",
       "1       255   0.075364    0.499046  0.046608      0.157959  0.221022\n",
       "2       411   0.252506    0.233330  0.164592      0.183917  0.165656\n",
       "3        38   0.189440    0.279542  0.092132      0.180779  0.258107\n",
       "4        26   0.189440    0.279542  0.092132      0.180779  0.258107\n",
       "5       413   0.189440    0.279542  0.092132      0.180779  0.258107\n",
       "6       494   0.189440    0.279542  0.092132      0.180779  0.258107\n",
       "7       586   0.189440    0.279542  0.092132      0.180779  0.258107\n",
       "8       489   0.189440    0.279542  0.092132      0.180779  0.258107\n",
       "9       285   0.064135    0.483554  0.220091      0.084013  0.148207"
      ]
     },
     "execution_count": 140,
     "metadata": {},
     "output_type": "execute_result"
    }
   ],
   "source": [
    "test_result_df.head(10)"
   ]
  },
  {
   "cell_type": "code",
   "execution_count": 141,
   "metadata": {
    "collapsed": true
   },
   "outputs": [],
   "source": [
    "test_result_df_sorted = test_result_df.sort_values(\"index_id\")"
   ]
  },
  {
   "cell_type": "code",
   "execution_count": 142,
   "metadata": {
    "collapsed": false
   },
   "outputs": [
    {
     "data": {
      "text/html": [
       "<div>\n",
       "<table border=\"1\" class=\"dataframe\">\n",
       "  <thead>\n",
       "    <tr style=\"text-align: right;\">\n",
       "      <th></th>\n",
       "      <th>index_id</th>\n",
       "      <th>Amenities</th>\n",
       "      <th>Experience</th>\n",
       "      <th>Location</th>\n",
       "      <th>Transactions</th>\n",
       "      <th>Value</th>\n",
       "    </tr>\n",
       "  </thead>\n",
       "  <tbody>\n",
       "    <tr>\n",
       "      <th>36</th>\n",
       "      <td>3</td>\n",
       "      <td>0.323092</td>\n",
       "      <td>0.245154</td>\n",
       "      <td>0.076895</td>\n",
       "      <td>0.179937</td>\n",
       "      <td>0.174923</td>\n",
       "    </tr>\n",
       "    <tr>\n",
       "      <th>108</th>\n",
       "      <td>4</td>\n",
       "      <td>0.300156</td>\n",
       "      <td>0.232932</td>\n",
       "      <td>0.125535</td>\n",
       "      <td>0.183135</td>\n",
       "      <td>0.158242</td>\n",
       "    </tr>\n",
       "    <tr>\n",
       "      <th>85</th>\n",
       "      <td>6</td>\n",
       "      <td>0.189440</td>\n",
       "      <td>0.279542</td>\n",
       "      <td>0.092132</td>\n",
       "      <td>0.180779</td>\n",
       "      <td>0.258107</td>\n",
       "    </tr>\n",
       "    <tr>\n",
       "      <th>65</th>\n",
       "      <td>10</td>\n",
       "      <td>0.287789</td>\n",
       "      <td>0.255142</td>\n",
       "      <td>0.081021</td>\n",
       "      <td>0.181416</td>\n",
       "      <td>0.194632</td>\n",
       "    </tr>\n",
       "    <tr>\n",
       "      <th>109</th>\n",
       "      <td>11</td>\n",
       "      <td>0.189440</td>\n",
       "      <td>0.279542</td>\n",
       "      <td>0.092132</td>\n",
       "      <td>0.180779</td>\n",
       "      <td>0.258107</td>\n",
       "    </tr>\n",
       "    <tr>\n",
       "      <th>77</th>\n",
       "      <td>12</td>\n",
       "      <td>0.189440</td>\n",
       "      <td>0.279542</td>\n",
       "      <td>0.092132</td>\n",
       "      <td>0.180779</td>\n",
       "      <td>0.258107</td>\n",
       "    </tr>\n",
       "    <tr>\n",
       "      <th>4</th>\n",
       "      <td>26</td>\n",
       "      <td>0.189440</td>\n",
       "      <td>0.279542</td>\n",
       "      <td>0.092132</td>\n",
       "      <td>0.180779</td>\n",
       "      <td>0.258107</td>\n",
       "    </tr>\n",
       "    <tr>\n",
       "      <th>67</th>\n",
       "      <td>29</td>\n",
       "      <td>0.270802</td>\n",
       "      <td>0.215293</td>\n",
       "      <td>0.193337</td>\n",
       "      <td>0.181470</td>\n",
       "      <td>0.139098</td>\n",
       "    </tr>\n",
       "    <tr>\n",
       "      <th>3</th>\n",
       "      <td>38</td>\n",
       "      <td>0.189440</td>\n",
       "      <td>0.279542</td>\n",
       "      <td>0.092132</td>\n",
       "      <td>0.180779</td>\n",
       "      <td>0.258107</td>\n",
       "    </tr>\n",
       "    <tr>\n",
       "      <th>104</th>\n",
       "      <td>55</td>\n",
       "      <td>0.189440</td>\n",
       "      <td>0.279542</td>\n",
       "      <td>0.092132</td>\n",
       "      <td>0.180779</td>\n",
       "      <td>0.258107</td>\n",
       "    </tr>\n",
       "  </tbody>\n",
       "</table>\n",
       "</div>"
      ],
      "text/plain": [
       "     index_id  Amenities  Experience  Location  Transactions     Value\n",
       "36          3   0.323092    0.245154  0.076895      0.179937  0.174923\n",
       "108         4   0.300156    0.232932  0.125535      0.183135  0.158242\n",
       "85          6   0.189440    0.279542  0.092132      0.180779  0.258107\n",
       "65         10   0.287789    0.255142  0.081021      0.181416  0.194632\n",
       "109        11   0.189440    0.279542  0.092132      0.180779  0.258107\n",
       "77         12   0.189440    0.279542  0.092132      0.180779  0.258107\n",
       "4          26   0.189440    0.279542  0.092132      0.180779  0.258107\n",
       "67         29   0.270802    0.215293  0.193337      0.181470  0.139098\n",
       "3          38   0.189440    0.279542  0.092132      0.180779  0.258107\n",
       "104        55   0.189440    0.279542  0.092132      0.180779  0.258107"
      ]
     },
     "execution_count": 142,
     "metadata": {},
     "output_type": "execute_result"
    }
   ],
   "source": [
    "test_result_df_sorted.head(10)"
   ]
  },
  {
   "cell_type": "code",
   "execution_count": 146,
   "metadata": {
    "collapsed": true
   },
   "outputs": [],
   "source": [
    "test_result_df_sorted = test_result_df_sorted.reset_index(drop=True)"
   ]
  },
  {
   "cell_type": "code",
   "execution_count": 147,
   "metadata": {
    "collapsed": false
   },
   "outputs": [
    {
     "data": {
      "text/html": [
       "<div>\n",
       "<table border=\"1\" class=\"dataframe\">\n",
       "  <thead>\n",
       "    <tr style=\"text-align: right;\">\n",
       "      <th></th>\n",
       "      <th>index_id</th>\n",
       "      <th>Amenities</th>\n",
       "      <th>Experience</th>\n",
       "      <th>Location</th>\n",
       "      <th>Transactions</th>\n",
       "      <th>Value</th>\n",
       "    </tr>\n",
       "  </thead>\n",
       "  <tbody>\n",
       "    <tr>\n",
       "      <th>0</th>\n",
       "      <td>3</td>\n",
       "      <td>0.323092</td>\n",
       "      <td>0.245154</td>\n",
       "      <td>0.076895</td>\n",
       "      <td>0.179937</td>\n",
       "      <td>0.174923</td>\n",
       "    </tr>\n",
       "    <tr>\n",
       "      <th>1</th>\n",
       "      <td>4</td>\n",
       "      <td>0.300156</td>\n",
       "      <td>0.232932</td>\n",
       "      <td>0.125535</td>\n",
       "      <td>0.183135</td>\n",
       "      <td>0.158242</td>\n",
       "    </tr>\n",
       "    <tr>\n",
       "      <th>2</th>\n",
       "      <td>6</td>\n",
       "      <td>0.189440</td>\n",
       "      <td>0.279542</td>\n",
       "      <td>0.092132</td>\n",
       "      <td>0.180779</td>\n",
       "      <td>0.258107</td>\n",
       "    </tr>\n",
       "    <tr>\n",
       "      <th>3</th>\n",
       "      <td>10</td>\n",
       "      <td>0.287789</td>\n",
       "      <td>0.255142</td>\n",
       "      <td>0.081021</td>\n",
       "      <td>0.181416</td>\n",
       "      <td>0.194632</td>\n",
       "    </tr>\n",
       "    <tr>\n",
       "      <th>4</th>\n",
       "      <td>11</td>\n",
       "      <td>0.189440</td>\n",
       "      <td>0.279542</td>\n",
       "      <td>0.092132</td>\n",
       "      <td>0.180779</td>\n",
       "      <td>0.258107</td>\n",
       "    </tr>\n",
       "    <tr>\n",
       "      <th>5</th>\n",
       "      <td>12</td>\n",
       "      <td>0.189440</td>\n",
       "      <td>0.279542</td>\n",
       "      <td>0.092132</td>\n",
       "      <td>0.180779</td>\n",
       "      <td>0.258107</td>\n",
       "    </tr>\n",
       "    <tr>\n",
       "      <th>6</th>\n",
       "      <td>26</td>\n",
       "      <td>0.189440</td>\n",
       "      <td>0.279542</td>\n",
       "      <td>0.092132</td>\n",
       "      <td>0.180779</td>\n",
       "      <td>0.258107</td>\n",
       "    </tr>\n",
       "    <tr>\n",
       "      <th>7</th>\n",
       "      <td>29</td>\n",
       "      <td>0.270802</td>\n",
       "      <td>0.215293</td>\n",
       "      <td>0.193337</td>\n",
       "      <td>0.181470</td>\n",
       "      <td>0.139098</td>\n",
       "    </tr>\n",
       "    <tr>\n",
       "      <th>8</th>\n",
       "      <td>38</td>\n",
       "      <td>0.189440</td>\n",
       "      <td>0.279542</td>\n",
       "      <td>0.092132</td>\n",
       "      <td>0.180779</td>\n",
       "      <td>0.258107</td>\n",
       "    </tr>\n",
       "    <tr>\n",
       "      <th>9</th>\n",
       "      <td>55</td>\n",
       "      <td>0.189440</td>\n",
       "      <td>0.279542</td>\n",
       "      <td>0.092132</td>\n",
       "      <td>0.180779</td>\n",
       "      <td>0.258107</td>\n",
       "    </tr>\n",
       "  </tbody>\n",
       "</table>\n",
       "</div>"
      ],
      "text/plain": [
       "   index_id  Amenities  Experience  Location  Transactions     Value\n",
       "0         3   0.323092    0.245154  0.076895      0.179937  0.174923\n",
       "1         4   0.300156    0.232932  0.125535      0.183135  0.158242\n",
       "2         6   0.189440    0.279542  0.092132      0.180779  0.258107\n",
       "3        10   0.287789    0.255142  0.081021      0.181416  0.194632\n",
       "4        11   0.189440    0.279542  0.092132      0.180779  0.258107\n",
       "5        12   0.189440    0.279542  0.092132      0.180779  0.258107\n",
       "6        26   0.189440    0.279542  0.092132      0.180779  0.258107\n",
       "7        29   0.270802    0.215293  0.193337      0.181470  0.139098\n",
       "8        38   0.189440    0.279542  0.092132      0.180779  0.258107\n",
       "9        55   0.189440    0.279542  0.092132      0.180779  0.258107"
      ]
     },
     "execution_count": 147,
     "metadata": {},
     "output_type": "execute_result"
    }
   ],
   "source": [
    "test_result_df_sorted.head(10)"
   ]
  },
  {
   "cell_type": "code",
   "execution_count": 143,
   "metadata": {
    "collapsed": false,
    "scrolled": true
   },
   "outputs": [
    {
     "data": {
      "text/html": [
       "<div>\n",
       "<table border=\"1\" class=\"dataframe\">\n",
       "  <thead>\n",
       "    <tr style=\"text-align: right;\">\n",
       "      <th></th>\n",
       "      <th>topic</th>\n",
       "      <th>word</th>\n",
       "      <th>lifecycle</th>\n",
       "    </tr>\n",
       "  </thead>\n",
       "  <tbody>\n",
       "    <tr>\n",
       "      <th>3</th>\n",
       "      <td>Amenities</td>\n",
       "      <td>air conditioning</td>\n",
       "      <td>stay</td>\n",
       "    </tr>\n",
       "    <tr>\n",
       "      <th>4</th>\n",
       "      <td>Amenities</td>\n",
       "      <td>airport shuttle</td>\n",
       "      <td>before arrival</td>\n",
       "    </tr>\n",
       "    <tr>\n",
       "      <th>6</th>\n",
       "      <td>Amenities</td>\n",
       "      <td>balcony</td>\n",
       "      <td>stay</td>\n",
       "    </tr>\n",
       "    <tr>\n",
       "      <th>10</th>\n",
       "      <td>Amenities</td>\n",
       "      <td>bathroom</td>\n",
       "      <td>stay</td>\n",
       "    </tr>\n",
       "    <tr>\n",
       "      <th>11</th>\n",
       "      <td>Amenities</td>\n",
       "      <td>breakfast</td>\n",
       "      <td>stay</td>\n",
       "    </tr>\n",
       "    <tr>\n",
       "      <th>12</th>\n",
       "      <td>Amenities</td>\n",
       "      <td>breakfast</td>\n",
       "      <td>before arrival</td>\n",
       "    </tr>\n",
       "    <tr>\n",
       "      <th>26</th>\n",
       "      <td>Amenities</td>\n",
       "      <td>fridge</td>\n",
       "      <td>stay</td>\n",
       "    </tr>\n",
       "    <tr>\n",
       "      <th>29</th>\n",
       "      <td>Amenities</td>\n",
       "      <td>free wifi</td>\n",
       "      <td>before arrival</td>\n",
       "    </tr>\n",
       "    <tr>\n",
       "      <th>38</th>\n",
       "      <td>Amenities</td>\n",
       "      <td>meal</td>\n",
       "      <td>stay</td>\n",
       "    </tr>\n",
       "    <tr>\n",
       "      <th>55</th>\n",
       "      <td>Amenities</td>\n",
       "      <td>shower</td>\n",
       "      <td>stay</td>\n",
       "    </tr>\n",
       "    <tr>\n",
       "      <th>68</th>\n",
       "      <td>Amenities</td>\n",
       "      <td>toiletries</td>\n",
       "      <td>stay</td>\n",
       "    </tr>\n",
       "    <tr>\n",
       "      <th>84</th>\n",
       "      <td>Experience</td>\n",
       "      <td>apartment comfortable</td>\n",
       "      <td>check-out</td>\n",
       "    </tr>\n",
       "    <tr>\n",
       "      <th>88</th>\n",
       "      <td>Experience</td>\n",
       "      <td>bedroom apartment</td>\n",
       "      <td>check-in</td>\n",
       "    </tr>\n",
       "    <tr>\n",
       "      <th>90</th>\n",
       "      <td>Experience</td>\n",
       "      <td>clean great</td>\n",
       "      <td>check-out</td>\n",
       "    </tr>\n",
       "    <tr>\n",
       "      <th>91</th>\n",
       "      <td>Experience</td>\n",
       "      <td>clean staff</td>\n",
       "      <td>stay</td>\n",
       "    </tr>\n",
       "    <tr>\n",
       "      <th>96</th>\n",
       "      <td>Experience</td>\n",
       "      <td>enjoyed stay</td>\n",
       "      <td>after departure</td>\n",
       "    </tr>\n",
       "    <tr>\n",
       "      <th>99</th>\n",
       "      <td>Experience</td>\n",
       "      <td>good facilities</td>\n",
       "      <td>check-out</td>\n",
       "    </tr>\n",
       "    <tr>\n",
       "      <th>101</th>\n",
       "      <td>Experience</td>\n",
       "      <td>good stay</td>\n",
       "      <td>check-out</td>\n",
       "    </tr>\n",
       "    <tr>\n",
       "      <th>107</th>\n",
       "      <td>Experience</td>\n",
       "      <td>great staff</td>\n",
       "      <td>check-out</td>\n",
       "    </tr>\n",
       "    <tr>\n",
       "      <th>108</th>\n",
       "      <td>Experience</td>\n",
       "      <td>great staff</td>\n",
       "      <td>after departure</td>\n",
       "    </tr>\n",
       "    <tr>\n",
       "      <th>111</th>\n",
       "      <td>Experience</td>\n",
       "      <td>great views</td>\n",
       "      <td>stay</td>\n",
       "    </tr>\n",
       "    <tr>\n",
       "      <th>113</th>\n",
       "      <td>Experience</td>\n",
       "      <td>great views</td>\n",
       "      <td>before arrival</td>\n",
       "    </tr>\n",
       "    <tr>\n",
       "      <th>117</th>\n",
       "      <td>Experience</td>\n",
       "      <td>location perfect</td>\n",
       "      <td>before arrival</td>\n",
       "    </tr>\n",
       "    <tr>\n",
       "      <th>128</th>\n",
       "      <td>Experience</td>\n",
       "      <td>room amazing</td>\n",
       "      <td>stay</td>\n",
       "    </tr>\n",
       "    <tr>\n",
       "      <th>134</th>\n",
       "      <td>Experience</td>\n",
       "      <td>staff</td>\n",
       "      <td>stay</td>\n",
       "    </tr>\n",
       "    <tr>\n",
       "      <th>136</th>\n",
       "      <td>Experience</td>\n",
       "      <td>staff friendly helpful</td>\n",
       "      <td>check-out</td>\n",
       "    </tr>\n",
       "    <tr>\n",
       "      <th>137</th>\n",
       "      <td>Experience</td>\n",
       "      <td>top</td>\n",
       "      <td>stay</td>\n",
       "    </tr>\n",
       "    <tr>\n",
       "      <th>153</th>\n",
       "      <td>Location</td>\n",
       "      <td>comfortable great location</td>\n",
       "      <td>stay</td>\n",
       "    </tr>\n",
       "    <tr>\n",
       "      <th>159</th>\n",
       "      <td>Location</td>\n",
       "      <td>located</td>\n",
       "      <td>before arrival</td>\n",
       "    </tr>\n",
       "    <tr>\n",
       "      <th>168</th>\n",
       "      <td>Location</td>\n",
       "      <td>location Walk</td>\n",
       "      <td>before arrival</td>\n",
       "    </tr>\n",
       "    <tr>\n",
       "      <th>...</th>\n",
       "      <td>...</td>\n",
       "      <td>...</td>\n",
       "      <td>...</td>\n",
       "    </tr>\n",
       "    <tr>\n",
       "      <th>470</th>\n",
       "      <td>Value</td>\n",
       "      <td>not enough</td>\n",
       "      <td>after departure</td>\n",
       "    </tr>\n",
       "    <tr>\n",
       "      <th>473</th>\n",
       "      <td>Transactions</td>\n",
       "      <td>weekend</td>\n",
       "      <td>before arrival</td>\n",
       "    </tr>\n",
       "    <tr>\n",
       "      <th>483</th>\n",
       "      <td>Amenities</td>\n",
       "      <td>car</td>\n",
       "      <td>before arrival</td>\n",
       "    </tr>\n",
       "    <tr>\n",
       "      <th>489</th>\n",
       "      <td>Value</td>\n",
       "      <td>floor</td>\n",
       "      <td>before arrival</td>\n",
       "    </tr>\n",
       "    <tr>\n",
       "      <th>494</th>\n",
       "      <td>Transactions</td>\n",
       "      <td>high</td>\n",
       "      <td>check-in</td>\n",
       "    </tr>\n",
       "    <tr>\n",
       "      <th>496</th>\n",
       "      <td>Location</td>\n",
       "      <td>great location helpful staff</td>\n",
       "      <td>after departure</td>\n",
       "    </tr>\n",
       "    <tr>\n",
       "      <th>502</th>\n",
       "      <td>Experience</td>\n",
       "      <td>noise</td>\n",
       "      <td>stay</td>\n",
       "    </tr>\n",
       "    <tr>\n",
       "      <th>506</th>\n",
       "      <td>Value</td>\n",
       "      <td>enjoy</td>\n",
       "      <td>after departure</td>\n",
       "    </tr>\n",
       "    <tr>\n",
       "      <th>510</th>\n",
       "      <td>Transactions</td>\n",
       "      <td>bit</td>\n",
       "      <td>check-in</td>\n",
       "    </tr>\n",
       "    <tr>\n",
       "      <th>514</th>\n",
       "      <td>Value</td>\n",
       "      <td>beautiful</td>\n",
       "      <td>before arrival</td>\n",
       "    </tr>\n",
       "    <tr>\n",
       "      <th>518</th>\n",
       "      <td>Location</td>\n",
       "      <td>room great location</td>\n",
       "      <td>stay</td>\n",
       "    </tr>\n",
       "    <tr>\n",
       "      <th>519</th>\n",
       "      <td>Experience</td>\n",
       "      <td>not parking</td>\n",
       "      <td>stay</td>\n",
       "    </tr>\n",
       "    <tr>\n",
       "      <th>531</th>\n",
       "      <td>Experience</td>\n",
       "      <td>not staff</td>\n",
       "      <td>check-out</td>\n",
       "    </tr>\n",
       "    <tr>\n",
       "      <th>532</th>\n",
       "      <td>Location</td>\n",
       "      <td>next door</td>\n",
       "      <td>stay</td>\n",
       "    </tr>\n",
       "    <tr>\n",
       "      <th>533</th>\n",
       "      <td>Experience</td>\n",
       "      <td>great staff friendly</td>\n",
       "      <td>check-out</td>\n",
       "    </tr>\n",
       "    <tr>\n",
       "      <th>542</th>\n",
       "      <td>Amenities</td>\n",
       "      <td>free wife</td>\n",
       "      <td>before arrival</td>\n",
       "    </tr>\n",
       "    <tr>\n",
       "      <th>548</th>\n",
       "      <td>Location</td>\n",
       "      <td>excellent location</td>\n",
       "      <td>after departure</td>\n",
       "    </tr>\n",
       "    <tr>\n",
       "      <th>549</th>\n",
       "      <td>Experience</td>\n",
       "      <td>work</td>\n",
       "      <td>stay</td>\n",
       "    </tr>\n",
       "    <tr>\n",
       "      <th>551</th>\n",
       "      <td>Value</td>\n",
       "      <td>bed comfy</td>\n",
       "      <td>after departure</td>\n",
       "    </tr>\n",
       "    <tr>\n",
       "      <th>553</th>\n",
       "      <td>Experience</td>\n",
       "      <td>needs</td>\n",
       "      <td>after departure</td>\n",
       "    </tr>\n",
       "    <tr>\n",
       "      <th>561</th>\n",
       "      <td>Transactions</td>\n",
       "      <td>reception staff</td>\n",
       "      <td>stay</td>\n",
       "    </tr>\n",
       "    <tr>\n",
       "      <th>562</th>\n",
       "      <td>Location</td>\n",
       "      <td>around</td>\n",
       "      <td>before arrival</td>\n",
       "    </tr>\n",
       "    <tr>\n",
       "      <th>570</th>\n",
       "      <td>Value</td>\n",
       "      <td>happy</td>\n",
       "      <td>after departure</td>\n",
       "    </tr>\n",
       "    <tr>\n",
       "      <th>571</th>\n",
       "      <td>Value</td>\n",
       "      <td>better</td>\n",
       "      <td>after departure</td>\n",
       "    </tr>\n",
       "    <tr>\n",
       "      <th>576</th>\n",
       "      <td>Value</td>\n",
       "      <td>sleep</td>\n",
       "      <td>stay</td>\n",
       "    </tr>\n",
       "    <tr>\n",
       "      <th>586</th>\n",
       "      <td>Amenities</td>\n",
       "      <td>bath</td>\n",
       "      <td>before arrival</td>\n",
       "    </tr>\n",
       "    <tr>\n",
       "      <th>592</th>\n",
       "      <td>Location</td>\n",
       "      <td>center</td>\n",
       "      <td>before arrival</td>\n",
       "    </tr>\n",
       "    <tr>\n",
       "      <th>594</th>\n",
       "      <td>Experience</td>\n",
       "      <td>recommend</td>\n",
       "      <td>check-out</td>\n",
       "    </tr>\n",
       "    <tr>\n",
       "      <th>600</th>\n",
       "      <td>Experience</td>\n",
       "      <td>people</td>\n",
       "      <td>after departure</td>\n",
       "    </tr>\n",
       "    <tr>\n",
       "      <th>602</th>\n",
       "      <td>Experience</td>\n",
       "      <td>people</td>\n",
       "      <td>check-out</td>\n",
       "    </tr>\n",
       "  </tbody>\n",
       "</table>\n",
       "<p>121 rows × 3 columns</p>\n",
       "</div>"
      ],
      "text/plain": [
       "            topic                          word        lifecycle\n",
       "3       Amenities              air conditioning             stay\n",
       "4       Amenities               airport shuttle   before arrival\n",
       "6       Amenities                       balcony             stay\n",
       "10      Amenities                      bathroom             stay\n",
       "11      Amenities                     breakfast             stay\n",
       "12      Amenities                     breakfast   before arrival\n",
       "26      Amenities                        fridge             stay\n",
       "29      Amenities                     free wifi   before arrival\n",
       "38      Amenities                          meal             stay\n",
       "55      Amenities                        shower             stay\n",
       "68      Amenities                    toiletries             stay\n",
       "84     Experience         apartment comfortable        check-out\n",
       "88     Experience             bedroom apartment         check-in\n",
       "90     Experience                   clean great        check-out\n",
       "91     Experience                   clean staff             stay\n",
       "96     Experience                  enjoyed stay  after departure\n",
       "99     Experience               good facilities        check-out\n",
       "101    Experience                     good stay        check-out\n",
       "107    Experience                   great staff        check-out\n",
       "108    Experience                   great staff  after departure\n",
       "111    Experience                   great views             stay\n",
       "113    Experience                   great views   before arrival\n",
       "117    Experience              location perfect   before arrival\n",
       "128    Experience                  room amazing             stay\n",
       "134    Experience                         staff             stay\n",
       "136    Experience        staff friendly helpful        check-out\n",
       "137    Experience                           top             stay\n",
       "153      Location    comfortable great location             stay\n",
       "159      Location                       located   before arrival\n",
       "168      Location                 location Walk   before arrival\n",
       "..            ...                           ...              ...\n",
       "470         Value                    not enough  after departure\n",
       "473  Transactions                       weekend   before arrival\n",
       "483     Amenities                           car   before arrival\n",
       "489         Value                         floor   before arrival\n",
       "494  Transactions                          high         check-in\n",
       "496      Location  great location helpful staff  after departure\n",
       "502    Experience                         noise             stay\n",
       "506         Value                         enjoy  after departure\n",
       "510  Transactions                           bit         check-in\n",
       "514         Value                     beautiful   before arrival\n",
       "518      Location           room great location             stay\n",
       "519    Experience                   not parking             stay\n",
       "531    Experience                     not staff        check-out\n",
       "532      Location                     next door             stay\n",
       "533    Experience          great staff friendly        check-out\n",
       "542     Amenities                     free wife   before arrival\n",
       "548      Location            excellent location  after departure\n",
       "549    Experience                          work             stay\n",
       "551         Value                     bed comfy  after departure\n",
       "553    Experience                         needs  after departure\n",
       "561  Transactions               reception staff             stay\n",
       "562      Location                        around   before arrival\n",
       "570         Value                         happy  after departure\n",
       "571         Value                        better  after departure\n",
       "576         Value                         sleep             stay\n",
       "586     Amenities                          bath   before arrival\n",
       "592      Location                        center   before arrival\n",
       "594    Experience                     recommend        check-out\n",
       "600    Experience                        people  after departure\n",
       "602    Experience                        people        check-out\n",
       "\n",
       "[121 rows x 3 columns]"
      ]
     },
     "execution_count": 143,
     "metadata": {},
     "output_type": "execute_result"
    }
   ],
   "source": [
    "oaks_rev_test_df_sort"
   ]
  },
  {
   "cell_type": "code",
   "execution_count": 144,
   "metadata": {
    "collapsed": true
   },
   "outputs": [],
   "source": [
    "oaks_rev_test_df_sort['index_id'] = oaks_rev_test_df_sort.index"
   ]
  },
  {
   "cell_type": "code",
   "execution_count": 148,
   "metadata": {
    "collapsed": false
   },
   "outputs": [],
   "source": [
    "oaks_rev_test_df_sort = oaks_rev_test_df_sort.reset_index(drop=True)"
   ]
  },
  {
   "cell_type": "code",
   "execution_count": 149,
   "metadata": {
    "collapsed": false
   },
   "outputs": [
    {
     "data": {
      "text/html": [
       "<div>\n",
       "<table border=\"1\" class=\"dataframe\">\n",
       "  <thead>\n",
       "    <tr style=\"text-align: right;\">\n",
       "      <th></th>\n",
       "      <th>topic</th>\n",
       "      <th>word</th>\n",
       "      <th>lifecycle</th>\n",
       "      <th>index_id</th>\n",
       "    </tr>\n",
       "  </thead>\n",
       "  <tbody>\n",
       "    <tr>\n",
       "      <th>0</th>\n",
       "      <td>Amenities</td>\n",
       "      <td>air conditioning</td>\n",
       "      <td>stay</td>\n",
       "      <td>3</td>\n",
       "    </tr>\n",
       "    <tr>\n",
       "      <th>1</th>\n",
       "      <td>Amenities</td>\n",
       "      <td>airport shuttle</td>\n",
       "      <td>before arrival</td>\n",
       "      <td>4</td>\n",
       "    </tr>\n",
       "    <tr>\n",
       "      <th>2</th>\n",
       "      <td>Amenities</td>\n",
       "      <td>balcony</td>\n",
       "      <td>stay</td>\n",
       "      <td>6</td>\n",
       "    </tr>\n",
       "    <tr>\n",
       "      <th>3</th>\n",
       "      <td>Amenities</td>\n",
       "      <td>bathroom</td>\n",
       "      <td>stay</td>\n",
       "      <td>10</td>\n",
       "    </tr>\n",
       "    <tr>\n",
       "      <th>4</th>\n",
       "      <td>Amenities</td>\n",
       "      <td>breakfast</td>\n",
       "      <td>stay</td>\n",
       "      <td>11</td>\n",
       "    </tr>\n",
       "    <tr>\n",
       "      <th>5</th>\n",
       "      <td>Amenities</td>\n",
       "      <td>breakfast</td>\n",
       "      <td>before arrival</td>\n",
       "      <td>12</td>\n",
       "    </tr>\n",
       "    <tr>\n",
       "      <th>6</th>\n",
       "      <td>Amenities</td>\n",
       "      <td>fridge</td>\n",
       "      <td>stay</td>\n",
       "      <td>26</td>\n",
       "    </tr>\n",
       "    <tr>\n",
       "      <th>7</th>\n",
       "      <td>Amenities</td>\n",
       "      <td>free wifi</td>\n",
       "      <td>before arrival</td>\n",
       "      <td>29</td>\n",
       "    </tr>\n",
       "    <tr>\n",
       "      <th>8</th>\n",
       "      <td>Amenities</td>\n",
       "      <td>meal</td>\n",
       "      <td>stay</td>\n",
       "      <td>38</td>\n",
       "    </tr>\n",
       "    <tr>\n",
       "      <th>9</th>\n",
       "      <td>Amenities</td>\n",
       "      <td>shower</td>\n",
       "      <td>stay</td>\n",
       "      <td>55</td>\n",
       "    </tr>\n",
       "  </tbody>\n",
       "</table>\n",
       "</div>"
      ],
      "text/plain": [
       "       topic              word       lifecycle  index_id\n",
       "0  Amenities  air conditioning            stay         3\n",
       "1  Amenities   airport shuttle  before arrival         4\n",
       "2  Amenities           balcony            stay         6\n",
       "3  Amenities          bathroom            stay        10\n",
       "4  Amenities         breakfast            stay        11\n",
       "5  Amenities         breakfast  before arrival        12\n",
       "6  Amenities            fridge            stay        26\n",
       "7  Amenities         free wifi  before arrival        29\n",
       "8  Amenities              meal            stay        38\n",
       "9  Amenities            shower            stay        55"
      ]
     },
     "execution_count": 149,
     "metadata": {},
     "output_type": "execute_result"
    }
   ],
   "source": [
    "oaks_rev_test_df_sort.head(10)"
   ]
  },
  {
   "cell_type": "code",
   "execution_count": 151,
   "metadata": {
    "collapsed": true
   },
   "outputs": [],
   "source": [
    "oaks_rev_test_df_sort.drop(\"index_id\",axis =1 ,inplace = True)"
   ]
  },
  {
   "cell_type": "code",
   "execution_count": 156,
   "metadata": {
    "collapsed": false,
    "scrolled": true
   },
   "outputs": [],
   "source": [
    "predicted_df = oaks_rev_test_df_sort.join(test_result_df_sorted, how='outer')"
   ]
  },
  {
   "cell_type": "code",
   "execution_count": 157,
   "metadata": {
    "collapsed": false
   },
   "outputs": [
    {
     "data": {
      "text/html": [
       "<div>\n",
       "<table border=\"1\" class=\"dataframe\">\n",
       "  <thead>\n",
       "    <tr style=\"text-align: right;\">\n",
       "      <th></th>\n",
       "      <th>topic</th>\n",
       "      <th>word</th>\n",
       "      <th>lifecycle</th>\n",
       "      <th>index_id</th>\n",
       "      <th>Amenities</th>\n",
       "      <th>Experience</th>\n",
       "      <th>Location</th>\n",
       "      <th>Transactions</th>\n",
       "      <th>Value</th>\n",
       "    </tr>\n",
       "  </thead>\n",
       "  <tbody>\n",
       "    <tr>\n",
       "      <th>0</th>\n",
       "      <td>Amenities</td>\n",
       "      <td>air conditioning</td>\n",
       "      <td>stay</td>\n",
       "      <td>3</td>\n",
       "      <td>0.323092</td>\n",
       "      <td>0.245154</td>\n",
       "      <td>0.076895</td>\n",
       "      <td>0.179937</td>\n",
       "      <td>0.174923</td>\n",
       "    </tr>\n",
       "    <tr>\n",
       "      <th>1</th>\n",
       "      <td>Amenities</td>\n",
       "      <td>airport shuttle</td>\n",
       "      <td>before arrival</td>\n",
       "      <td>4</td>\n",
       "      <td>0.300156</td>\n",
       "      <td>0.232932</td>\n",
       "      <td>0.125535</td>\n",
       "      <td>0.183135</td>\n",
       "      <td>0.158242</td>\n",
       "    </tr>\n",
       "    <tr>\n",
       "      <th>2</th>\n",
       "      <td>Amenities</td>\n",
       "      <td>balcony</td>\n",
       "      <td>stay</td>\n",
       "      <td>6</td>\n",
       "      <td>0.189440</td>\n",
       "      <td>0.279542</td>\n",
       "      <td>0.092132</td>\n",
       "      <td>0.180779</td>\n",
       "      <td>0.258107</td>\n",
       "    </tr>\n",
       "    <tr>\n",
       "      <th>3</th>\n",
       "      <td>Amenities</td>\n",
       "      <td>bathroom</td>\n",
       "      <td>stay</td>\n",
       "      <td>10</td>\n",
       "      <td>0.287789</td>\n",
       "      <td>0.255142</td>\n",
       "      <td>0.081021</td>\n",
       "      <td>0.181416</td>\n",
       "      <td>0.194632</td>\n",
       "    </tr>\n",
       "    <tr>\n",
       "      <th>4</th>\n",
       "      <td>Amenities</td>\n",
       "      <td>breakfast</td>\n",
       "      <td>stay</td>\n",
       "      <td>11</td>\n",
       "      <td>0.189440</td>\n",
       "      <td>0.279542</td>\n",
       "      <td>0.092132</td>\n",
       "      <td>0.180779</td>\n",
       "      <td>0.258107</td>\n",
       "    </tr>\n",
       "    <tr>\n",
       "      <th>5</th>\n",
       "      <td>Amenities</td>\n",
       "      <td>breakfast</td>\n",
       "      <td>before arrival</td>\n",
       "      <td>12</td>\n",
       "      <td>0.189440</td>\n",
       "      <td>0.279542</td>\n",
       "      <td>0.092132</td>\n",
       "      <td>0.180779</td>\n",
       "      <td>0.258107</td>\n",
       "    </tr>\n",
       "    <tr>\n",
       "      <th>6</th>\n",
       "      <td>Amenities</td>\n",
       "      <td>fridge</td>\n",
       "      <td>stay</td>\n",
       "      <td>26</td>\n",
       "      <td>0.189440</td>\n",
       "      <td>0.279542</td>\n",
       "      <td>0.092132</td>\n",
       "      <td>0.180779</td>\n",
       "      <td>0.258107</td>\n",
       "    </tr>\n",
       "    <tr>\n",
       "      <th>7</th>\n",
       "      <td>Amenities</td>\n",
       "      <td>free wifi</td>\n",
       "      <td>before arrival</td>\n",
       "      <td>29</td>\n",
       "      <td>0.270802</td>\n",
       "      <td>0.215293</td>\n",
       "      <td>0.193337</td>\n",
       "      <td>0.181470</td>\n",
       "      <td>0.139098</td>\n",
       "    </tr>\n",
       "    <tr>\n",
       "      <th>8</th>\n",
       "      <td>Amenities</td>\n",
       "      <td>meal</td>\n",
       "      <td>stay</td>\n",
       "      <td>38</td>\n",
       "      <td>0.189440</td>\n",
       "      <td>0.279542</td>\n",
       "      <td>0.092132</td>\n",
       "      <td>0.180779</td>\n",
       "      <td>0.258107</td>\n",
       "    </tr>\n",
       "    <tr>\n",
       "      <th>9</th>\n",
       "      <td>Amenities</td>\n",
       "      <td>shower</td>\n",
       "      <td>stay</td>\n",
       "      <td>55</td>\n",
       "      <td>0.189440</td>\n",
       "      <td>0.279542</td>\n",
       "      <td>0.092132</td>\n",
       "      <td>0.180779</td>\n",
       "      <td>0.258107</td>\n",
       "    </tr>\n",
       "  </tbody>\n",
       "</table>\n",
       "</div>"
      ],
      "text/plain": [
       "       topic              word       lifecycle  index_id  Amenities  \\\n",
       "0  Amenities  air conditioning            stay         3   0.323092   \n",
       "1  Amenities   airport shuttle  before arrival         4   0.300156   \n",
       "2  Amenities           balcony            stay         6   0.189440   \n",
       "3  Amenities          bathroom            stay        10   0.287789   \n",
       "4  Amenities         breakfast            stay        11   0.189440   \n",
       "5  Amenities         breakfast  before arrival        12   0.189440   \n",
       "6  Amenities            fridge            stay        26   0.189440   \n",
       "7  Amenities         free wifi  before arrival        29   0.270802   \n",
       "8  Amenities              meal            stay        38   0.189440   \n",
       "9  Amenities            shower            stay        55   0.189440   \n",
       "\n",
       "   Experience  Location  Transactions     Value  \n",
       "0    0.245154  0.076895      0.179937  0.174923  \n",
       "1    0.232932  0.125535      0.183135  0.158242  \n",
       "2    0.279542  0.092132      0.180779  0.258107  \n",
       "3    0.255142  0.081021      0.181416  0.194632  \n",
       "4    0.279542  0.092132      0.180779  0.258107  \n",
       "5    0.279542  0.092132      0.180779  0.258107  \n",
       "6    0.279542  0.092132      0.180779  0.258107  \n",
       "7    0.215293  0.193337      0.181470  0.139098  \n",
       "8    0.279542  0.092132      0.180779  0.258107  \n",
       "9    0.279542  0.092132      0.180779  0.258107  "
      ]
     },
     "execution_count": 157,
     "metadata": {},
     "output_type": "execute_result"
    }
   ],
   "source": [
    "predicted_df.head(10)"
   ]
  },
  {
   "cell_type": "code",
   "execution_count": 158,
   "metadata": {
    "collapsed": false
   },
   "outputs": [],
   "source": [
    "predicted_df['Max_topic'] = predicted_df[['Amenities','Experience','Location','Transactions','Value']].idxmax(axis=1)"
   ]
  },
  {
   "cell_type": "code",
   "execution_count": 159,
   "metadata": {
    "collapsed": false
   },
   "outputs": [
    {
     "data": {
      "text/html": [
       "<div>\n",
       "<table border=\"1\" class=\"dataframe\">\n",
       "  <thead>\n",
       "    <tr style=\"text-align: right;\">\n",
       "      <th></th>\n",
       "      <th>topic</th>\n",
       "      <th>word</th>\n",
       "      <th>lifecycle</th>\n",
       "      <th>index_id</th>\n",
       "      <th>Amenities</th>\n",
       "      <th>Experience</th>\n",
       "      <th>Location</th>\n",
       "      <th>Transactions</th>\n",
       "      <th>Value</th>\n",
       "      <th>Max_topic</th>\n",
       "    </tr>\n",
       "  </thead>\n",
       "  <tbody>\n",
       "    <tr>\n",
       "      <th>0</th>\n",
       "      <td>Amenities</td>\n",
       "      <td>air conditioning</td>\n",
       "      <td>stay</td>\n",
       "      <td>3</td>\n",
       "      <td>0.323092</td>\n",
       "      <td>0.245154</td>\n",
       "      <td>0.076895</td>\n",
       "      <td>0.179937</td>\n",
       "      <td>0.174923</td>\n",
       "      <td>Amenities</td>\n",
       "    </tr>\n",
       "    <tr>\n",
       "      <th>1</th>\n",
       "      <td>Amenities</td>\n",
       "      <td>airport shuttle</td>\n",
       "      <td>before arrival</td>\n",
       "      <td>4</td>\n",
       "      <td>0.300156</td>\n",
       "      <td>0.232932</td>\n",
       "      <td>0.125535</td>\n",
       "      <td>0.183135</td>\n",
       "      <td>0.158242</td>\n",
       "      <td>Amenities</td>\n",
       "    </tr>\n",
       "    <tr>\n",
       "      <th>2</th>\n",
       "      <td>Amenities</td>\n",
       "      <td>balcony</td>\n",
       "      <td>stay</td>\n",
       "      <td>6</td>\n",
       "      <td>0.189440</td>\n",
       "      <td>0.279542</td>\n",
       "      <td>0.092132</td>\n",
       "      <td>0.180779</td>\n",
       "      <td>0.258107</td>\n",
       "      <td>Experience</td>\n",
       "    </tr>\n",
       "    <tr>\n",
       "      <th>3</th>\n",
       "      <td>Amenities</td>\n",
       "      <td>bathroom</td>\n",
       "      <td>stay</td>\n",
       "      <td>10</td>\n",
       "      <td>0.287789</td>\n",
       "      <td>0.255142</td>\n",
       "      <td>0.081021</td>\n",
       "      <td>0.181416</td>\n",
       "      <td>0.194632</td>\n",
       "      <td>Amenities</td>\n",
       "    </tr>\n",
       "    <tr>\n",
       "      <th>4</th>\n",
       "      <td>Amenities</td>\n",
       "      <td>breakfast</td>\n",
       "      <td>stay</td>\n",
       "      <td>11</td>\n",
       "      <td>0.189440</td>\n",
       "      <td>0.279542</td>\n",
       "      <td>0.092132</td>\n",
       "      <td>0.180779</td>\n",
       "      <td>0.258107</td>\n",
       "      <td>Experience</td>\n",
       "    </tr>\n",
       "    <tr>\n",
       "      <th>5</th>\n",
       "      <td>Amenities</td>\n",
       "      <td>breakfast</td>\n",
       "      <td>before arrival</td>\n",
       "      <td>12</td>\n",
       "      <td>0.189440</td>\n",
       "      <td>0.279542</td>\n",
       "      <td>0.092132</td>\n",
       "      <td>0.180779</td>\n",
       "      <td>0.258107</td>\n",
       "      <td>Experience</td>\n",
       "    </tr>\n",
       "    <tr>\n",
       "      <th>6</th>\n",
       "      <td>Amenities</td>\n",
       "      <td>fridge</td>\n",
       "      <td>stay</td>\n",
       "      <td>26</td>\n",
       "      <td>0.189440</td>\n",
       "      <td>0.279542</td>\n",
       "      <td>0.092132</td>\n",
       "      <td>0.180779</td>\n",
       "      <td>0.258107</td>\n",
       "      <td>Experience</td>\n",
       "    </tr>\n",
       "    <tr>\n",
       "      <th>7</th>\n",
       "      <td>Amenities</td>\n",
       "      <td>free wifi</td>\n",
       "      <td>before arrival</td>\n",
       "      <td>29</td>\n",
       "      <td>0.270802</td>\n",
       "      <td>0.215293</td>\n",
       "      <td>0.193337</td>\n",
       "      <td>0.181470</td>\n",
       "      <td>0.139098</td>\n",
       "      <td>Amenities</td>\n",
       "    </tr>\n",
       "    <tr>\n",
       "      <th>8</th>\n",
       "      <td>Amenities</td>\n",
       "      <td>meal</td>\n",
       "      <td>stay</td>\n",
       "      <td>38</td>\n",
       "      <td>0.189440</td>\n",
       "      <td>0.279542</td>\n",
       "      <td>0.092132</td>\n",
       "      <td>0.180779</td>\n",
       "      <td>0.258107</td>\n",
       "      <td>Experience</td>\n",
       "    </tr>\n",
       "    <tr>\n",
       "      <th>9</th>\n",
       "      <td>Amenities</td>\n",
       "      <td>shower</td>\n",
       "      <td>stay</td>\n",
       "      <td>55</td>\n",
       "      <td>0.189440</td>\n",
       "      <td>0.279542</td>\n",
       "      <td>0.092132</td>\n",
       "      <td>0.180779</td>\n",
       "      <td>0.258107</td>\n",
       "      <td>Experience</td>\n",
       "    </tr>\n",
       "  </tbody>\n",
       "</table>\n",
       "</div>"
      ],
      "text/plain": [
       "       topic              word       lifecycle  index_id  Amenities  \\\n",
       "0  Amenities  air conditioning            stay         3   0.323092   \n",
       "1  Amenities   airport shuttle  before arrival         4   0.300156   \n",
       "2  Amenities           balcony            stay         6   0.189440   \n",
       "3  Amenities          bathroom            stay        10   0.287789   \n",
       "4  Amenities         breakfast            stay        11   0.189440   \n",
       "5  Amenities         breakfast  before arrival        12   0.189440   \n",
       "6  Amenities            fridge            stay        26   0.189440   \n",
       "7  Amenities         free wifi  before arrival        29   0.270802   \n",
       "8  Amenities              meal            stay        38   0.189440   \n",
       "9  Amenities            shower            stay        55   0.189440   \n",
       "\n",
       "   Experience  Location  Transactions     Value   Max_topic  \n",
       "0    0.245154  0.076895      0.179937  0.174923   Amenities  \n",
       "1    0.232932  0.125535      0.183135  0.158242   Amenities  \n",
       "2    0.279542  0.092132      0.180779  0.258107  Experience  \n",
       "3    0.255142  0.081021      0.181416  0.194632   Amenities  \n",
       "4    0.279542  0.092132      0.180779  0.258107  Experience  \n",
       "5    0.279542  0.092132      0.180779  0.258107  Experience  \n",
       "6    0.279542  0.092132      0.180779  0.258107  Experience  \n",
       "7    0.215293  0.193337      0.181470  0.139098   Amenities  \n",
       "8    0.279542  0.092132      0.180779  0.258107  Experience  \n",
       "9    0.279542  0.092132      0.180779  0.258107  Experience  "
      ]
     },
     "execution_count": 159,
     "metadata": {},
     "output_type": "execute_result"
    }
   ],
   "source": [
    "predicted_df.head(10)"
   ]
  },
  {
   "cell_type": "code",
   "execution_count": 160,
   "metadata": {
    "collapsed": true
   },
   "outputs": [],
   "source": [
    "from sklearn.metrics import confusion_matrix"
   ]
  },
  {
   "cell_type": "code",
   "execution_count": 161,
   "metadata": {
    "collapsed": true
   },
   "outputs": [],
   "source": [
    "y_actual = predicted_df[\"topic\"]"
   ]
  },
  {
   "cell_type": "code",
   "execution_count": 163,
   "metadata": {
    "collapsed": false
   },
   "outputs": [
    {
     "data": {
      "text/plain": [
       "pandas.core.series.Series"
      ]
     },
     "execution_count": 163,
     "metadata": {},
     "output_type": "execute_result"
    }
   ],
   "source": [
    "type(y_actual)"
   ]
  },
  {
   "cell_type": "code",
   "execution_count": 164,
   "metadata": {
    "collapsed": true
   },
   "outputs": [],
   "source": [
    "y_predicted = predicted_df[\"Max_topic\"]"
   ]
  },
  {
   "cell_type": "code",
   "execution_count": 165,
   "metadata": {
    "collapsed": true
   },
   "outputs": [],
   "source": [
    "df_confusion = pd.crosstab(y_actual, y_predicted)"
   ]
  },
  {
   "cell_type": "code",
   "execution_count": 168,
   "metadata": {
    "collapsed": true
   },
   "outputs": [],
   "source": [
    "from sklearn.metrics import accuracy_score\n",
    "from sklearn.metrics import classification_report"
   ]
  },
  {
   "cell_type": "code",
   "execution_count": 169,
   "metadata": {
    "collapsed": false
   },
   "outputs": [
    {
     "name": "stdout",
     "output_type": "stream",
     "text": [
      "Confusion Matrix :\n",
      "[[ 7 10  0  0  0]\n",
      " [ 6 27 11  0  1]\n",
      " [ 2 12  8  0  0]\n",
      " [ 3  9  0  0  1]\n",
      " [ 2 18  1  0  3]]\n",
      "Accuracy Score : 0.371900826446281\n",
      "Report : \n",
      "              precision    recall  f1-score   support\n",
      "\n",
      "   Amenities       0.35      0.41      0.38        17\n",
      "  Experience       0.36      0.60      0.45        45\n",
      "    Location       0.40      0.36      0.38        22\n",
      "Transactions       0.00      0.00      0.00        13\n",
      "       Value       0.60      0.12      0.21        24\n",
      "\n",
      " avg / total       0.37      0.37      0.33       121\n",
      "\n"
     ]
    },
    {
     "name": "stderr",
     "output_type": "stream",
     "text": [
      "/root/anaconda3/lib/python3.5/site-packages/sklearn/metrics/classification.py:1113: UndefinedMetricWarning: Precision and F-score are ill-defined and being set to 0.0 in labels with no predicted samples.\n",
      "  'precision', 'predicted', average, warn_for)\n"
     ]
    }
   ],
   "source": [
    "results = confusion_matrix(y_actual,y_predicted)\n",
    "print('Confusion Matrix :')\n",
    "print(results)\n",
    "print('Accuracy Score :',accuracy_score(y_actual,y_predicted))\n",
    "print ('Report : ')\n",
    "print(classification_report(y_actual,y_predicted))"
   ]
  }
 ],
 "metadata": {
  "anaconda-cloud": {},
  "kernelspec": {
   "display_name": "Python [Root]",
   "language": "python",
   "name": "Python [Root]"
  },
  "language_info": {
   "codemirror_mode": {
    "name": "ipython",
    "version": 3
   },
   "file_extension": ".py",
   "mimetype": "text/x-python",
   "name": "python",
   "nbconvert_exporter": "python",
   "pygments_lexer": "ipython3",
   "version": "3.5.2"
  }
 },
 "nbformat": 4,
 "nbformat_minor": 0
}
